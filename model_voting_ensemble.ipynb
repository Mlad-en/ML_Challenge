{
 "cells": [
  {
   "cell_type": "code",
   "execution_count": 1,
   "metadata": {
    "collapsed": true,
    "ExecuteTime": {
     "end_time": "2023-06-08T22:55:19.257308Z",
     "start_time": "2023-06-08T22:55:18.180816Z"
    }
   },
   "outputs": [],
   "source": [
    "from joblib import load\n",
    "from sklearn.ensemble import VotingClassifier\n",
    "from joblib import dump\n",
    "\n",
    "from utils import TransactionDataset, FinalModelPerformance, TuneHyperParams\n"
   ]
  },
  {
   "cell_type": "code",
   "execution_count": 2,
   "outputs": [],
   "source": [
    "lr_model = load(\"./models_exports/logistic_regression_classifier.joblib\")\n",
    "knn_model = load(\"./models_exports/knn_classifier.joblib\")\n",
    "rf_model = load(\"./models_exports/random_forest_classifier.joblib\")\n",
    "nb_model = load(\"./models_exports/naive_bayes_classifier.joblib\")\n",
    "svc_model = load(\"./models_exports/support_vector_classifier.joblib\")"
   ],
   "metadata": {
    "collapsed": false,
    "ExecuteTime": {
     "end_time": "2023-06-08T22:55:19.480909Z",
     "start_time": "2023-06-08T22:55:19.259833Z"
    }
   }
  },
  {
   "cell_type": "code",
   "execution_count": 3,
   "outputs": [],
   "source": [
    "data = TransactionDataset().get_training_test_split()"
   ],
   "metadata": {
    "collapsed": false,
    "ExecuteTime": {
     "end_time": "2023-06-08T22:55:19.682789Z",
     "start_time": "2023-06-08T22:55:19.481537Z"
    }
   }
  },
  {
   "cell_type": "code",
   "execution_count": 4,
   "outputs": [],
   "source": [
    "voting_classifier = VotingClassifier(\n",
    "    estimators=[\n",
    "        (\"lr_model\", lr_model),\n",
    "        (\"knn_model\", knn_model),\n",
    "        (\"rf_model\", rf_model),\n",
    "        (\"nb_model\", nb_model),\n",
    "        (\"svc_model\", svc_model)\n",
    "    ],\n",
    ")"
   ],
   "metadata": {
    "collapsed": false,
    "ExecuteTime": {
     "end_time": "2023-06-08T22:55:19.688331Z",
     "start_time": "2023-06-08T22:55:19.686148Z"
    }
   }
  },
  {
   "cell_type": "code",
   "execution_count": 10,
   "outputs": [],
   "source": [
    "final_model_performance = FinalModelPerformance(\n",
    "    model=voting_classifier,\n",
    "    data=data\n",
    ")"
   ],
   "metadata": {
    "collapsed": false,
    "ExecuteTime": {
     "end_time": "2023-06-08T22:58:15.174733Z",
     "start_time": "2023-06-08T22:58:15.168760Z"
    }
   }
  },
  {
   "cell_type": "code",
   "execution_count": 11,
   "outputs": [
    {
     "data": {
      "text/plain": "                             Metric for Training Set       Score\n0                                fit_time mean score  181.660185\n1                              score_time mean score    0.558682\n2                      5-fold CV F1 Score mean score    0.673391\n3                      5-fold CV Accuracy mean score    0.883039\n4             5-fold CV Balanced Accuracy mean score    0.837519\n5  5-fold CV Matthew's Correlation Coefficient me...    0.611114",
      "text/html": "<div>\n<style scoped>\n    .dataframe tbody tr th:only-of-type {\n        vertical-align: middle;\n    }\n\n    .dataframe tbody tr th {\n        vertical-align: top;\n    }\n\n    .dataframe thead th {\n        text-align: right;\n    }\n</style>\n<table border=\"1\" class=\"dataframe\">\n  <thead>\n    <tr style=\"text-align: right;\">\n      <th></th>\n      <th>Metric for Training Set</th>\n      <th>Score</th>\n    </tr>\n  </thead>\n  <tbody>\n    <tr>\n      <th>0</th>\n      <td>fit_time mean score</td>\n      <td>181.660185</td>\n    </tr>\n    <tr>\n      <th>1</th>\n      <td>score_time mean score</td>\n      <td>0.558682</td>\n    </tr>\n    <tr>\n      <th>2</th>\n      <td>5-fold CV F1 Score mean score</td>\n      <td>0.673391</td>\n    </tr>\n    <tr>\n      <th>3</th>\n      <td>5-fold CV Accuracy mean score</td>\n      <td>0.883039</td>\n    </tr>\n    <tr>\n      <th>4</th>\n      <td>5-fold CV Balanced Accuracy mean score</td>\n      <td>0.837519</td>\n    </tr>\n    <tr>\n      <th>5</th>\n      <td>5-fold CV Matthew's Correlation Coefficient me...</td>\n      <td>0.611114</td>\n    </tr>\n  </tbody>\n</table>\n</div>"
     },
     "execution_count": 11,
     "metadata": {},
     "output_type": "execute_result"
    }
   ],
   "source": [
    "final_model_performance.get_cross_validation_results()"
   ],
   "metadata": {
    "collapsed": false,
    "ExecuteTime": {
     "end_time": "2023-06-08T23:13:27.350328Z",
     "start_time": "2023-06-08T22:58:16.214285Z"
    }
   }
  },
  {
   "cell_type": "code",
   "execution_count": 12,
   "outputs": [
    {
     "data": {
      "text/plain": "              Metric for Testing Set     Score\n0                           F1 Score  0.702254\n1                           Accuracy  0.897173\n2                  Balanced Accuracy  0.799324\n3  Matthew's Correlation Coefficient  0.644904",
      "text/html": "<div>\n<style scoped>\n    .dataframe tbody tr th:only-of-type {\n        vertical-align: middle;\n    }\n\n    .dataframe tbody tr th {\n        vertical-align: top;\n    }\n\n    .dataframe thead th {\n        text-align: right;\n    }\n</style>\n<table border=\"1\" class=\"dataframe\">\n  <thead>\n    <tr style=\"text-align: right;\">\n      <th></th>\n      <th>Metric for Testing Set</th>\n      <th>Score</th>\n    </tr>\n  </thead>\n  <tbody>\n    <tr>\n      <th>0</th>\n      <td>F1 Score</td>\n      <td>0.702254</td>\n    </tr>\n    <tr>\n      <th>1</th>\n      <td>Accuracy</td>\n      <td>0.897173</td>\n    </tr>\n    <tr>\n      <th>2</th>\n      <td>Balanced Accuracy</td>\n      <td>0.799324</td>\n    </tr>\n    <tr>\n      <th>3</th>\n      <td>Matthew's Correlation Coefficient</td>\n      <td>0.644904</td>\n    </tr>\n  </tbody>\n</table>\n</div>"
     },
     "execution_count": 12,
     "metadata": {},
     "output_type": "execute_result"
    }
   ],
   "source": [
    "final_model_performance.get_final_model_performance()"
   ],
   "metadata": {
    "collapsed": false,
    "ExecuteTime": {
     "end_time": "2023-06-08T23:18:27.011648Z",
     "start_time": "2023-06-08T23:13:27.353151Z"
    }
   }
  },
  {
   "cell_type": "code",
   "execution_count": 13,
   "outputs": [
    {
     "data": {
      "text/plain": "['./models_exports/voting_ensemble.joblib']"
     },
     "execution_count": 13,
     "metadata": {},
     "output_type": "execute_result"
    }
   ],
   "source": [
    "dump(final_model_performance.model, \"./models_exports/voting_ensemble.joblib\")"
   ],
   "metadata": {
    "collapsed": false,
    "ExecuteTime": {
     "end_time": "2023-06-08T23:18:27.486707Z",
     "start_time": "2023-06-08T23:18:27.014236Z"
    }
   }
  },
  {
   "cell_type": "code",
   "execution_count": null,
   "outputs": [],
   "source": [],
   "metadata": {
    "collapsed": false
   }
  }
 ],
 "metadata": {
  "kernelspec": {
   "display_name": "Python 3",
   "language": "python",
   "name": "python3"
  },
  "language_info": {
   "codemirror_mode": {
    "name": "ipython",
    "version": 2
   },
   "file_extension": ".py",
   "mimetype": "text/x-python",
   "name": "python",
   "nbconvert_exporter": "python",
   "pygments_lexer": "ipython2",
   "version": "2.7.6"
  }
 },
 "nbformat": 4,
 "nbformat_minor": 0
}
