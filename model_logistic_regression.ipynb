{
 "cells": [
  {
   "cell_type": "code",
   "execution_count": 1,
   "metadata": {
    "ExecuteTime": {
     "end_time": "2023-06-06T09:49:00.753300Z",
     "start_time": "2023-06-06T09:48:59.824185Z"
    }
   },
   "outputs": [],
   "source": [
    "from utils import (\n",
    "    FinalModelPerformance,\n",
    "    TransactionDataset,\n",
    "    TuneHyperParams,\n",
    ")\n",
    "\n",
    "from constants import Columns, ModelConstants, ResamplingStrategy"
   ]
  },
  {
   "cell_type": "code",
   "execution_count": 16,
   "metadata": {
    "ExecuteTime": {
     "end_time": "2023-06-06T09:54:24.851656Z",
     "start_time": "2023-06-06T09:54:24.846172Z"
    }
   },
   "outputs": [],
   "source": [
    "import numpy as np\n",
    "\n",
    "from sklearn.linear_model import LogisticRegression\n",
    "from sklearn.preprocessing import (\n",
    "    OneHotEncoder,\n",
    "    OrdinalEncoder,\n",
    "    FunctionTransformer,\n",
    "    Normalizer,\n",
    "    PowerTransformer,\n",
    "    RobustScaler\n",
    ")\n",
    "from sklearn.compose import make_column_transformer, make_column_selector\n",
    "\n",
    "from imblearn.pipeline import Pipeline\n",
    "from imblearn.over_sampling import SMOTE, ADASYN\n",
    "from imblearn.under_sampling import TomekLinks, NearMiss\n",
    "\n",
    "from joblib import dump\n"
   ]
  },
  {
   "cell_type": "code",
   "execution_count": 3,
   "metadata": {
    "ExecuteTime": {
     "end_time": "2023-06-06T09:49:09.534523Z",
     "start_time": "2023-06-06T09:49:00.914101Z"
    }
   },
   "outputs": [],
   "source": [
    "data = TransactionDataset().get_training_test_split()"
   ]
  },
  {
   "cell_type": "code",
   "execution_count": 4,
   "outputs": [],
   "source": [
    "log_transform = FunctionTransformer(\n",
    "    func=np.log1p, inverse_func=np.expm1, check_inverse=False\n",
    ")\n",
    "\n",
    "order_mapping = [['0', '0.2', '0.4', '0.6', '0.8', '1']]\n",
    "\n",
    "norm_and_one_hot_transforms = make_column_transformer(\n",
    "    (OneHotEncoder(), [Columns.CUSTOMER_TYPE]),\n",
    "    (OrdinalEncoder(categories=order_mapping), [Columns.SPECIFIC_HOLIDAY]),\n",
    "    (Normalizer(), make_column_selector(dtype_include=\"number\"))\n",
    ")\n",
    "\n",
    "log_and_ordinal_transforms = make_column_transformer(\n",
    "    (OneHotEncoder(), [Columns.CUSTOMER_TYPE]),\n",
    "    (OrdinalEncoder(categories=order_mapping), [Columns.SPECIFIC_HOLIDAY]),\n",
    "    (log_transform, make_column_selector(dtype_include=\"number\"))\n",
    ")\n",
    "\n",
    "power_transforms = make_column_transformer(\n",
    "    (OneHotEncoder(), [Columns.CUSTOMER_TYPE]),\n",
    "    (OrdinalEncoder(categories=order_mapping), [Columns.SPECIFIC_HOLIDAY]),\n",
    "    (PowerTransformer(), make_column_selector(dtype_include=\"number\"))\n",
    ")\n",
    "\n",
    "robust_transformation = make_column_transformer(\n",
    "    (OneHotEncoder(), [Columns.CUSTOMER_TYPE]),\n",
    "    (OrdinalEncoder(categories=order_mapping), [Columns.SPECIFIC_HOLIDAY]),\n",
    "    (RobustScaler(), make_column_selector(dtype_include=\"number\"))\n",
    ")"
   ],
   "metadata": {
    "collapsed": false,
    "ExecuteTime": {
     "end_time": "2023-06-06T09:49:09.543509Z",
     "start_time": "2023-06-06T09:49:09.541256Z"
    }
   }
  },
  {
   "cell_type": "code",
   "execution_count": 5,
   "outputs": [],
   "source": [
    "regression_model = LogisticRegression(\n",
    "    random_state=ModelConstants.RANDOM_STATE,\n",
    "    max_iter=ModelConstants.MAX_ITERATIONS * 10,\n",
    "    warm_start=True\n",
    ")"
   ],
   "metadata": {
    "collapsed": false,
    "ExecuteTime": {
     "end_time": "2023-06-06T09:49:09.548146Z",
     "start_time": "2023-06-06T09:49:09.545968Z"
    }
   }
  },
  {
   "cell_type": "code",
   "execution_count": 6,
   "outputs": [],
   "source": [
    "smote_oversampling = SMOTE(random_state=ModelConstants.RANDOM_STATE)\n",
    "adasyn_oversampling = ADASYN(random_state=ModelConstants.RANDOM_STATE)\n",
    "\n",
    "tomek_under_sampling = TomekLinks()\n",
    "near_miss_under_sampling = NearMiss()"
   ],
   "metadata": {
    "collapsed": false,
    "ExecuteTime": {
     "end_time": "2023-06-06T09:49:09.552237Z",
     "start_time": "2023-06-06T09:49:09.550872Z"
    }
   }
  },
  {
   "cell_type": "code",
   "execution_count": 8,
   "outputs": [],
   "source": [
    "column_transforms_only_model = Pipeline(\n",
    "    [\n",
    "        (\"column_transformation\", log_and_ordinal_transforms),\n",
    "        (\"over_sampling\", smote_oversampling),\n",
    "        (\"under_sampling\", tomek_under_sampling),\n",
    "        (\"logistic_regression\", regression_model)\n",
    "    ]\n",
    ")"
   ],
   "metadata": {
    "collapsed": false,
    "ExecuteTime": {
     "end_time": "2023-06-06T09:49:31.452407Z",
     "start_time": "2023-06-06T09:49:31.448759Z"
    }
   }
  },
  {
   "cell_type": "code",
   "execution_count": 9,
   "outputs": [],
   "source": [
    "tune_logistic_regression_penalty = { \"logistic_regression__penalty\": [\"l1\", \"l2\"]}\n",
    "tune_logistic_regression_solver = {\"logistic_regression__solver\": [\"saga\", \"liblinear\"]}\n",
    "tune_logistic_regression_C = {\"logistic_regression__C\": [0.1, 0.5, 1, 1.5, 2, 2.5, 3]}\n",
    "tune_logistic_regression_class_weight = {\n",
    "    \"logistic_regression__class_weight\": [\n",
    "        None,\n",
    "        \"balanced\",\n",
    "        {1: 0.55, 0: 0.45},\n",
    "        {1: 0.6, 0: 0.4},\n",
    "        {1: 0.65, 0: 0.35},\n",
    "        {1: 0.7, 0: 0.3},\n",
    "        {1: 0.75, 0: 0.25},\n",
    "        {1: 0.8, 0: 0.2},\n",
    "    ]\n",
    "}\n",
    "\n",
    "tune_column_transformation = {\n",
    "    \"column_transformation\": [\n",
    "        log_and_ordinal_transforms,\n",
    "        norm_and_one_hot_transforms,\n",
    "        power_transforms,\n",
    "        robust_transformation\n",
    "    ],\n",
    "}\n",
    "\n",
    "tune_over_sampling = {\n",
    "    \"over_sampling\": [\n",
    "        smote_oversampling,\n",
    "        adasyn_oversampling,\n",
    "    ]\n",
    "}\n",
    "\n",
    "tune_over_sampling__sampling_strategy = {\n",
    "    \"over_sampling__sampling_strategy\": [\n",
    "        ResamplingStrategy.MINORITY_ONLY,\n",
    "        ResamplingStrategy.ALL,\n",
    "        0.2,\n",
    "        0.3,\n",
    "        0.4,\n",
    "        0.5,\n",
    "        0.6,\n",
    "        0.7\n",
    "    ],\n",
    "}\n",
    "tune_under_sampling = {\n",
    "    \"under_sampling\": [\n",
    "        near_miss_under_sampling,\n",
    "        tomek_under_sampling,\n",
    "        \"passthrough\"\n",
    "    ],\n",
    "}\n",
    "\n",
    "\n",
    "tuning_params_1 = (\n",
    "    tune_column_transformation |\n",
    "    tune_logistic_regression_class_weight|\n",
    "    tune_logistic_regression_penalty|\n",
    "    tune_logistic_regression_solver|\n",
    "    tune_logistic_regression_C|\n",
    "    tune_over_sampling|\n",
    "    tune_over_sampling__sampling_strategy|\n",
    "    tune_under_sampling\n",
    ")\n",
    "\n",
    "tuning_params_2 = (\n",
    "    tune_column_transformation |\n",
    "    tune_logistic_regression_class_weight|\n",
    "    tune_logistic_regression_penalty|\n",
    "    tune_logistic_regression_solver|\n",
    "    tune_logistic_regression_C|\n",
    "    tune_under_sampling\n",
    ")\n"
   ],
   "metadata": {
    "collapsed": false,
    "ExecuteTime": {
     "end_time": "2023-06-06T09:49:32.252063Z",
     "start_time": "2023-06-06T09:49:32.248106Z"
    }
   }
  },
  {
   "cell_type": "code",
   "execution_count": 10,
   "outputs": [
    {
     "name": "stdout",
     "output_type": "stream",
     "text": [
      "{   'column_transformation': ColumnTransformer(transformers=[('onehotencoder', OneHotEncoder(),\n",
      "                                 ['Customer_Type']),\n",
      "                                ('ordinalencoder',\n",
      "                                 OrdinalEncoder(categories=[['0', '0.2', '0.4',\n",
      "                                                             '0.6', '0.8',\n",
      "                                                             '1']]),\n",
      "                                 ['SpecificHoliday']),\n",
      "                                ('powertransformer', PowerTransformer(),\n",
      "                                 <sklearn.compose._column_transformer.make_column_selector object at 0x1359c7040>)]),\n",
      "    'logistic_regression__C': 0.1,\n",
      "    'logistic_regression__class_weight': {0: 0.4, 1: 0.6},\n",
      "    'logistic_regression__penalty': 'l2',\n",
      "    'logistic_regression__solver': 'liblinear',\n",
      "    'over_sampling': SMOTE(random_state=123, sampling_strategy=0.5),\n",
      "    'over_sampling__sampling_strategy': 0.5,\n",
      "    'under_sampling': 'passthrough'}\n",
      "Best parameter (CV score: 0.663):\n"
     ]
    }
   ],
   "source": [
    "best_model = (\n",
    "    TuneHyperParams()\n",
    "    .random_grid_search(\n",
    "     column_transforms_only_model,\n",
    "     [tuning_params_1, tuning_params_2]\n",
    "    )\n",
    "    .fit_model(\n",
    "        data.TRAINING.predictors,\n",
    "        data.TRAINING.outcome\n",
    "    )\n",
    "    .get_best_model()\n",
    ")"
   ],
   "metadata": {
    "collapsed": false,
    "ExecuteTime": {
     "end_time": "2023-06-06T09:49:45.912316Z",
     "start_time": "2023-06-06T09:49:33.168147Z"
    }
   }
  },
  {
   "cell_type": "code",
   "execution_count": 11,
   "outputs": [],
   "source": [
    "final_model_performance_lr = FinalModelPerformance(\n",
    "    model=best_model,\n",
    "    data=data\n",
    ")"
   ],
   "metadata": {
    "collapsed": false,
    "ExecuteTime": {
     "end_time": "2023-06-06T09:49:52.401678Z",
     "start_time": "2023-06-06T09:49:52.394800Z"
    }
   }
  },
  {
   "cell_type": "code",
   "execution_count": 14,
   "outputs": [
    {
     "data": {
      "text/plain": "                             Metric for Training Set     Score\n0                                fit_time mean score  0.241923\n1                              score_time mean score  0.018467\n2                      5-fold CV F1 Score mean score  0.663270\n3                      5-fold CV Accuracy mean score  0.873719\n4             5-fold CV Balanced Accuracy mean score  0.841874\n5  5-fold CV Matthew's Correlation Coefficient me...  0.600981",
      "text/html": "<div>\n<style scoped>\n    .dataframe tbody tr th:only-of-type {\n        vertical-align: middle;\n    }\n\n    .dataframe tbody tr th {\n        vertical-align: top;\n    }\n\n    .dataframe thead th {\n        text-align: right;\n    }\n</style>\n<table border=\"1\" class=\"dataframe\">\n  <thead>\n    <tr style=\"text-align: right;\">\n      <th></th>\n      <th>Metric for Training Set</th>\n      <th>Score</th>\n    </tr>\n  </thead>\n  <tbody>\n    <tr>\n      <th>0</th>\n      <td>fit_time mean score</td>\n      <td>0.241923</td>\n    </tr>\n    <tr>\n      <th>1</th>\n      <td>score_time mean score</td>\n      <td>0.018467</td>\n    </tr>\n    <tr>\n      <th>2</th>\n      <td>5-fold CV F1 Score mean score</td>\n      <td>0.663270</td>\n    </tr>\n    <tr>\n      <th>3</th>\n      <td>5-fold CV Accuracy mean score</td>\n      <td>0.873719</td>\n    </tr>\n    <tr>\n      <th>4</th>\n      <td>5-fold CV Balanced Accuracy mean score</td>\n      <td>0.841874</td>\n    </tr>\n    <tr>\n      <th>5</th>\n      <td>5-fold CV Matthew's Correlation Coefficient me...</td>\n      <td>0.600981</td>\n    </tr>\n  </tbody>\n</table>\n</div>"
     },
     "execution_count": 14,
     "metadata": {},
     "output_type": "execute_result"
    }
   ],
   "source": [
    "final_model_performance_lr.get_cross_validation_results()"
   ],
   "metadata": {
    "collapsed": false,
    "ExecuteTime": {
     "end_time": "2023-06-06T09:50:07.279594Z",
     "start_time": "2023-06-06T09:50:05.944875Z"
    }
   }
  },
  {
   "cell_type": "code",
   "execution_count": 15,
   "outputs": [
    {
     "data": {
      "text/plain": "              Metric for Testing Set     Score\n0                           F1 Score  0.679330\n1                           Accuracy  0.882425\n2                  Balanced Accuracy  0.776068\n3  Matthew's Correlation Coefficient  0.619154",
      "text/html": "<div>\n<style scoped>\n    .dataframe tbody tr th:only-of-type {\n        vertical-align: middle;\n    }\n\n    .dataframe tbody tr th {\n        vertical-align: top;\n    }\n\n    .dataframe thead th {\n        text-align: right;\n    }\n</style>\n<table border=\"1\" class=\"dataframe\">\n  <thead>\n    <tr style=\"text-align: right;\">\n      <th></th>\n      <th>Metric for Testing Set</th>\n      <th>Score</th>\n    </tr>\n  </thead>\n  <tbody>\n    <tr>\n      <th>0</th>\n      <td>F1 Score</td>\n      <td>0.679330</td>\n    </tr>\n    <tr>\n      <th>1</th>\n      <td>Accuracy</td>\n      <td>0.882425</td>\n    </tr>\n    <tr>\n      <th>2</th>\n      <td>Balanced Accuracy</td>\n      <td>0.776068</td>\n    </tr>\n    <tr>\n      <th>3</th>\n      <td>Matthew's Correlation Coefficient</td>\n      <td>0.619154</td>\n    </tr>\n  </tbody>\n</table>\n</div>"
     },
     "execution_count": 15,
     "metadata": {},
     "output_type": "execute_result"
    }
   ],
   "source": [
    "final_model_performance_lr.get_final_model_performance()"
   ],
   "metadata": {
    "collapsed": false,
    "ExecuteTime": {
     "end_time": "2023-06-06T09:50:07.594236Z",
     "start_time": "2023-06-06T09:50:07.286890Z"
    }
   }
  },
  {
   "cell_type": "code",
   "execution_count": 17,
   "outputs": [
    {
     "data": {
      "text/plain": "['./models_exports/logistic_regression_classifier.joblib']"
     },
     "execution_count": 17,
     "metadata": {},
     "output_type": "execute_result"
    }
   ],
   "source": [
    "dump(final_model_performance_lr.model, \"./models_exports/logistic_regression_classifier.joblib\")"
   ],
   "metadata": {
    "collapsed": false,
    "ExecuteTime": {
     "end_time": "2023-06-06T09:54:46.180433Z",
     "start_time": "2023-06-06T09:54:46.151175Z"
    }
   }
  },
  {
   "cell_type": "code",
   "execution_count": null,
   "outputs": [],
   "source": [],
   "metadata": {
    "collapsed": false
   }
  }
 ],
 "metadata": {
  "kernelspec": {
   "display_name": "machine_learning-2iLmnJu8",
   "language": "python",
   "name": "python3"
  },
  "language_info": {
   "codemirror_mode": {
    "name": "ipython",
    "version": 3
   },
   "file_extension": ".py",
   "mimetype": "text/x-python",
   "name": "python",
   "nbconvert_exporter": "python",
   "pygments_lexer": "ipython3",
   "version": "3.10.6"
  },
  "orig_nbformat": 4
 },
 "nbformat": 4,
 "nbformat_minor": 2
}
