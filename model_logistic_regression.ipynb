{
 "cells": [
  {
   "cell_type": "code",
   "execution_count": 1,
   "metadata": {},
   "outputs": [],
   "source": [
    "from utils import (\n",
    "    get_cross_validation_results,\n",
    "    get_final_model_performance,\n",
    "    TransactionDataset,\n",
    "    TuneHyperParams,\n",
    ")\n",
    "\n",
    "from constants import Columns, ModelConstants"
   ]
  },
  {
   "cell_type": "code",
   "execution_count": 2,
   "metadata": {},
   "outputs": [],
   "source": [
    "import numpy as np\n",
    "\n",
    "from sklearn.linear_model import LogisticRegression\n",
    "from sklearn.preprocessing import (\n",
    "    OneHotEncoder,\n",
    "    OrdinalEncoder,\n",
    "    FunctionTransformer,\n",
    "    Normalizer,\n",
    "    PowerTransformer,\n",
    "    RobustScaler\n",
    ")\n",
    "from sklearn.pipeline import Pipeline\n",
    "from sklearn.compose import make_column_transformer, make_column_selector\n"
   ]
  },
  {
   "cell_type": "code",
   "execution_count": 3,
   "metadata": {},
   "outputs": [],
   "source": [
    "data = TransactionDataset().get_training_test_split()"
   ]
  },
  {
   "cell_type": "code",
   "execution_count": 4,
   "outputs": [],
   "source": [
    "log_transform = FunctionTransformer(\n",
    "    func=np.log1p, inverse_func=np.expm1, check_inverse=False\n",
    ")\n",
    "\n",
    "order_mapping = [['0', '0.2', '0.4', '0.6', '0.8', '1']]\n",
    "\n",
    "norm_and_one_hot_transforms = make_column_transformer(\n",
    "    (OneHotEncoder(), [Columns.CUSTOMER_TYPE]),\n",
    "    (OrdinalEncoder(categories=order_mapping), [Columns.SPECIFIC_HOLIDAY]),\n",
    "    (Normalizer(), make_column_selector(dtype_include=\"number\"))\n",
    ")\n",
    "\n",
    "log_and_ordinal_transforms = make_column_transformer(\n",
    "    (OneHotEncoder(), [Columns.CUSTOMER_TYPE]),\n",
    "    (OrdinalEncoder(categories=order_mapping), [Columns.SPECIFIC_HOLIDAY]),\n",
    "    (log_transform, make_column_selector(dtype_include=\"number\"))\n",
    ")\n",
    "\n",
    "power_transforms = make_column_transformer(\n",
    "    (OneHotEncoder(), [Columns.CUSTOMER_TYPE]),\n",
    "    (OrdinalEncoder(categories=order_mapping), [Columns.SPECIFIC_HOLIDAY]),\n",
    "    (PowerTransformer(), make_column_selector(dtype_include=\"number\"))\n",
    ")\n",
    "\n",
    "robust_transformation = make_column_transformer(\n",
    "    (OneHotEncoder(), [Columns.CUSTOMER_TYPE]),\n",
    "    (OrdinalEncoder(categories=order_mapping), [Columns.SPECIFIC_HOLIDAY]),\n",
    "    (RobustScaler(), make_column_selector(dtype_include=\"number\"))\n",
    ")"
   ],
   "metadata": {
    "collapsed": false
   }
  },
  {
   "cell_type": "code",
   "execution_count": 5,
   "outputs": [],
   "source": [
    "regression_model = LogisticRegression(\n",
    "    random_state=ModelConstants.RANDOM_STATE,\n",
    "    max_iter=ModelConstants.MAX_ITERATIONS * 10,\n",
    "    warm_start=True\n",
    ")"
   ],
   "metadata": {
    "collapsed": false
   }
  },
  {
   "cell_type": "code",
   "execution_count": 6,
   "outputs": [],
   "source": [
    "column_transforms_only_model = Pipeline(\n",
    "    [\n",
    "        (\"column_transformation\", log_and_ordinal_transforms),\n",
    "        (\"logistic_regression\", regression_model)\n",
    "    ]\n",
    ")"
   ],
   "metadata": {
    "collapsed": false
   }
  },
  {
   "cell_type": "code",
   "execution_count": 7,
   "outputs": [],
   "source": [
    "tuning_params = {\n",
    "    \"logistic_regression__penalty\": [\"l1\", \"l2\"],\n",
    "    \"logistic_regression__solver\": [\"saga\", \"liblinear\"],\n",
    "    \"logistic_regression__C\": [0.1, 0.5, 1, 1.5, 2, 2.5, 3],\n",
    "    \"logistic_regression__class_weight\": [\n",
    "        None,\n",
    "        \"balanced\",\n",
    "        {1: 0.55, 0: 0.45},\n",
    "        {1: 0.6, 0: 0.4},\n",
    "        {1: 0.65, 0: 0.35},\n",
    "        {1: 0.7, 0: 0.3},\n",
    "        {1: 0.75, 0: 0.25},\n",
    "        {1: 0.8, 0: 0.2},\n",
    "    ],\n",
    "    \"column_transformation\": [\n",
    "        log_and_ordinal_transforms,\n",
    "        norm_and_one_hot_transforms,\n",
    "        power_transforms,\n",
    "        robust_transformation\n",
    "    ]\n",
    "}"
   ],
   "metadata": {
    "collapsed": false
   }
  },
  {
   "cell_type": "code",
   "execution_count": 8,
   "outputs": [
    {
     "name": "stdout",
     "output_type": "stream",
     "text": [
      "{'logistic_regression__solver': 'liblinear', 'logistic_regression__penalty': 'l1', 'logistic_regression__class_weight': {1: 0.55, 0: 0.45}, 'logistic_regression__C': 1.5, 'column_transformation': ColumnTransformer(transformers=[('onehotencoder', OneHotEncoder(),\n",
      "                                 ['Customer_Type']),\n",
      "                                ('ordinalencoder',\n",
      "                                 OrdinalEncoder(categories=[['0', '0.2', '0.4',\n",
      "                                                             '0.6', '0.8',\n",
      "                                                             '1']]),\n",
      "                                 ['SpecificHoliday']),\n",
      "                                ('powertransformer', PowerTransformer(),\n",
      "                                 <sklearn.compose._column_transformer.make_column_selector object at 0x13ac1a9b0>)])}\n",
      "Best parameter (CV score: 0.649):\n"
     ]
    }
   ],
   "source": [
    "best_model = (\n",
    "    TuneHyperParams()\n",
    "    .random_grid_search(\n",
    "     column_transforms_only_model,\n",
    "     tuning_params\n",
    "    )\n",
    "    .fit_model(\n",
    "        data.TRAINING.predictors,\n",
    "        data.TRAINING.outcome\n",
    "    )\n",
    "    .get_best_model()\n",
    ")"
   ],
   "metadata": {
    "collapsed": false
   }
  },
  {
   "cell_type": "code",
   "execution_count": 9,
   "outputs": [
    {
     "data": {
      "text/plain": "                                     Test     Score\n0                                fit_time  0.371532\n1                              score_time  0.010658\n2                           test_F1 Score  0.650399\n3                           test_Accuracy  0.889287\n4                  test_Balanced Accuracy  0.796074\n5  test_Matthew's Correlation Coefficient  0.585620",
      "text/html": "<div>\n<style scoped>\n    .dataframe tbody tr th:only-of-type {\n        vertical-align: middle;\n    }\n\n    .dataframe tbody tr th {\n        vertical-align: top;\n    }\n\n    .dataframe thead th {\n        text-align: right;\n    }\n</style>\n<table border=\"1\" class=\"dataframe\">\n  <thead>\n    <tr style=\"text-align: right;\">\n      <th></th>\n      <th>Test</th>\n      <th>Score</th>\n    </tr>\n  </thead>\n  <tbody>\n    <tr>\n      <th>0</th>\n      <td>fit_time</td>\n      <td>0.371532</td>\n    </tr>\n    <tr>\n      <th>1</th>\n      <td>score_time</td>\n      <td>0.010658</td>\n    </tr>\n    <tr>\n      <th>2</th>\n      <td>test_F1 Score</td>\n      <td>0.650399</td>\n    </tr>\n    <tr>\n      <th>3</th>\n      <td>test_Accuracy</td>\n      <td>0.889287</td>\n    </tr>\n    <tr>\n      <th>4</th>\n      <td>test_Balanced Accuracy</td>\n      <td>0.796074</td>\n    </tr>\n    <tr>\n      <th>5</th>\n      <td>test_Matthew's Correlation Coefficient</td>\n      <td>0.585620</td>\n    </tr>\n  </tbody>\n</table>\n</div>"
     },
     "execution_count": 9,
     "metadata": {},
     "output_type": "execute_result"
    }
   ],
   "source": [
    "get_cross_validation_results(best_model, data.TRAINING.predictors, data.TRAINING.outcome)"
   ],
   "metadata": {
    "collapsed": false
   }
  },
  {
   "cell_type": "code",
   "execution_count": 10,
   "outputs": [
    {
     "data": {
      "text/plain": "                                Test     Score\n0                           F1 Score  0.648294\n1                           Accuracy  0.890209\n2                  Balanced Accuracy  0.792249\n3  Matthew's Correlation Coefficient  0.583249",
      "text/html": "<div>\n<style scoped>\n    .dataframe tbody tr th:only-of-type {\n        vertical-align: middle;\n    }\n\n    .dataframe tbody tr th {\n        vertical-align: top;\n    }\n\n    .dataframe thead th {\n        text-align: right;\n    }\n</style>\n<table border=\"1\" class=\"dataframe\">\n  <thead>\n    <tr style=\"text-align: right;\">\n      <th></th>\n      <th>Test</th>\n      <th>Score</th>\n    </tr>\n  </thead>\n  <tbody>\n    <tr>\n      <th>0</th>\n      <td>F1 Score</td>\n      <td>0.648294</td>\n    </tr>\n    <tr>\n      <th>1</th>\n      <td>Accuracy</td>\n      <td>0.890209</td>\n    </tr>\n    <tr>\n      <th>2</th>\n      <td>Balanced Accuracy</td>\n      <td>0.792249</td>\n    </tr>\n    <tr>\n      <th>3</th>\n      <td>Matthew's Correlation Coefficient</td>\n      <td>0.583249</td>\n    </tr>\n  </tbody>\n</table>\n</div>"
     },
     "execution_count": 10,
     "metadata": {},
     "output_type": "execute_result"
    }
   ],
   "source": [
    "get_final_model_performance(best_model, data.TRAINING, data.TESTING)"
   ],
   "metadata": {
    "collapsed": false
   }
  }
 ],
 "metadata": {
  "kernelspec": {
   "display_name": "machine_learning-2iLmnJu8",
   "language": "python",
   "name": "python3"
  },
  "language_info": {
   "codemirror_mode": {
    "name": "ipython",
    "version": 3
   },
   "file_extension": ".py",
   "mimetype": "text/x-python",
   "name": "python",
   "nbconvert_exporter": "python",
   "pygments_lexer": "ipython3",
   "version": "3.10.6"
  },
  "orig_nbformat": 4
 },
 "nbformat": 4,
 "nbformat_minor": 2
}
