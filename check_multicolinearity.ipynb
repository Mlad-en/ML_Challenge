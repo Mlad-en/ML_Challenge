{
 "cells": [
  {
   "cell_type": "code",
   "execution_count": 9,
   "metadata": {
    "ExecuteTime": {
     "end_time": "2023-06-12T10:54:48.122237Z",
     "start_time": "2023-06-12T10:54:48.111876Z"
    }
   },
   "outputs": [],
   "source": [
    "from utils import (\n",
    "    TransactionDataset,\n",
    ")\n",
    "\n",
    "from constants import Columns"
   ]
  },
  {
   "cell_type": "code",
   "execution_count": 10,
   "metadata": {
    "ExecuteTime": {
     "end_time": "2023-06-12T10:54:48.122544Z",
     "start_time": "2023-06-12T10:54:48.117367Z"
    }
   },
   "outputs": [],
   "source": [
    "import pandas as pd\n",
    "\n",
    "from statsmodels.stats.outliers_influence import variance_inflation_factor"
   ]
  },
  {
   "cell_type": "code",
   "execution_count": 11,
   "outputs": [],
   "source": [
    "data = TransactionDataset()\n",
    "data.data.pop(Columns.TRANSACTION);"
   ],
   "metadata": {
    "collapsed": false,
    "ExecuteTime": {
     "end_time": "2023-06-12T10:54:48.533643Z",
     "start_time": "2023-06-12T10:54:48.122669Z"
    }
   }
  },
  {
   "cell_type": "code",
   "execution_count": 12,
   "outputs": [],
   "source": [
    "data.data = pd.get_dummies(data.data, columns=[Columns.CUSTOMER_TYPE, Columns.SPECIFIC_HOLIDAY])\n",
    "data.data = data.data.astype(\"float\")"
   ],
   "metadata": {
    "collapsed": false,
    "ExecuteTime": {
     "end_time": "2023-06-12T10:54:48.546162Z",
     "start_time": "2023-06-12T10:54:48.536683Z"
    }
   }
  },
  {
   "cell_type": "code",
   "execution_count": 13,
   "outputs": [],
   "source": [
    "vif_data = pd.DataFrame()\n",
    "vif_data[\"feature\"] = data.data.columns"
   ],
   "metadata": {
    "collapsed": false,
    "ExecuteTime": {
     "end_time": "2023-06-12T10:54:48.551346Z",
     "start_time": "2023-06-12T10:54:48.548197Z"
    }
   }
  },
  {
   "cell_type": "code",
   "execution_count": 14,
   "outputs": [
    {
     "name": "stderr",
     "output_type": "stream",
     "text": [
      "/Users/mladenrm/.local/share/virtualenvs/ML_Challenge-_INNdbtJ/lib/python3.10/site-packages/statsmodels/stats/outliers_influence.py:198: RuntimeWarning: divide by zero encountered in double_scalars\n",
      "  vif = 1. / (1. - r_squared_i)\n"
     ]
    }
   ],
   "source": [
    "vif_data[\"VIF\"] = [variance_inflation_factor(data.data.values, i)\n",
    "                          for i in range(len(data.data.columns))]\n",
    "\n"
   ],
   "metadata": {
    "collapsed": false,
    "ExecuteTime": {
     "end_time": "2023-06-12T10:54:49.074811Z",
     "start_time": "2023-06-12T10:54:48.553220Z"
    }
   }
  },
  {
   "cell_type": "code",
   "execution_count": 20,
   "outputs": [
    {
     "name": "stdout",
     "output_type": "stream",
     "text": [
      "                             feature       VIF\n",
      "0                           SystemF1  1.159768\n",
      "1                           SystemF2  1.129398\n",
      "2                           SystemF3  1.023611\n",
      "3                           SystemF4  1.075104\n",
      "4                           SystemF5  1.002266\n",
      "5                       Account_Page  1.936159\n",
      "6                  Account_Page_Time  1.688586\n",
      "7                          Info_Page  1.829949\n",
      "8                     Info_Page_Time  1.677846\n",
      "9                        ProductPage  4.439028\n",
      "10                  ProductPage_Time  4.318247\n",
      "11                             Month  1.216616\n",
      "12                           Weekday  1.081197\n",
      "13                GoogleAnalytics_BR  5.719347\n",
      "14                GoogleAnalytics_ER  6.392297\n",
      "15                GoogleAnalytics_PV  1.055303\n",
      "16                     Ad_Campaign_1  1.053800\n",
      "17                      Ad_Campaign2  1.023626\n",
      "18                      Ad_Campaign3  1.005251\n",
      "19        Customer_Type_New_Customer       inf\n",
      "20               Customer_Type_Other       inf\n",
      "21  Customer_Type_Returning_Customer       inf\n",
      "22                 SpecificHoliday_0       inf\n",
      "23               SpecificHoliday_0.2       inf\n",
      "24               SpecificHoliday_0.4       inf\n",
      "25               SpecificHoliday_0.6       inf\n",
      "26               SpecificHoliday_0.8       inf\n",
      "27                 SpecificHoliday_1       inf\n"
     ]
    }
   ],
   "source": [
    "print(vif_data)"
   ],
   "metadata": {
    "collapsed": false,
    "ExecuteTime": {
     "end_time": "2023-06-12T10:56:47.335132Z",
     "start_time": "2023-06-12T10:56:47.329099Z"
    }
   }
  },
  {
   "cell_type": "code",
   "execution_count": 15,
   "outputs": [],
   "source": [],
   "metadata": {
    "collapsed": false,
    "ExecuteTime": {
     "end_time": "2023-06-12T10:54:49.093959Z",
     "start_time": "2023-06-12T10:54:49.085662Z"
    }
   }
  }
 ],
 "metadata": {
  "kernelspec": {
   "display_name": "machine_learning-2iLmnJu8",
   "language": "python",
   "name": "python3"
  },
  "language_info": {
   "codemirror_mode": {
    "name": "ipython",
    "version": 3
   },
   "file_extension": ".py",
   "mimetype": "text/x-python",
   "name": "python",
   "nbconvert_exporter": "python",
   "pygments_lexer": "ipython3",
   "version": "3.10.6"
  },
  "orig_nbformat": 4
 },
 "nbformat": 4,
 "nbformat_minor": 2
}
