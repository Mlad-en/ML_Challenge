{
 "cells": [
  {
   "cell_type": "code",
   "execution_count": 1,
   "outputs": [],
   "source": [
    "import warnings\n",
    "warnings.filterwarnings(\"ignore\")"
   ],
   "metadata": {
    "collapsed": false
   }
  },
  {
   "cell_type": "code",
   "execution_count": 2,
   "metadata": {},
   "outputs": [],
   "source": [
    "from utils import (\n",
    "    get_cross_validation_results,\n",
    "    get_final_model_performance,\n",
    "    TransactionDataset,\n",
    "    TuneHyperParams,\n",
    ")\n",
    "\n",
    "from constants import Resample, Columns, ModelConstants"
   ]
  },
  {
   "cell_type": "code",
   "execution_count": 3,
   "metadata": {},
   "outputs": [],
   "source": [
    "import numpy as np\n",
    "\n",
    "from sklearn.linear_model import LogisticRegression\n",
    "from sklearn.decomposition import PCA\n",
    "from sklearn.preprocessing import OneHotEncoder, OrdinalEncoder, FunctionTransformer, Normalizer, PowerTransformer\n",
    "from sklearn.pipeline import Pipeline\n",
    "from sklearn.compose import make_column_transformer, make_column_selector"
   ]
  },
  {
   "cell_type": "markdown",
   "source": [
    "### Obtain Dataset and split it"
   ],
   "metadata": {
    "collapsed": false
   }
  },
  {
   "cell_type": "code",
   "execution_count": 4,
   "metadata": {},
   "outputs": [],
   "source": [
    "data = TransactionDataset().get_training_test_split(resample=Resample.no_resample)"
   ]
  },
  {
   "cell_type": "markdown",
   "source": [
    "### Defining Column Transformations"
   ],
   "metadata": {
    "collapsed": false
   }
  },
  {
   "cell_type": "code",
   "execution_count": 13,
   "outputs": [],
   "source": [
    "log_transform = FunctionTransformer(\n",
    "    func=np.log1p, inverse_func=np.expm1, check_inverse=False\n",
    ")\n",
    "\n",
    "order_mapping = [['0', '0.2', '0.4', '0.6', '0.8', '1']]\n",
    "\n",
    "norm_and_one_hot_transforms = make_column_transformer(\n",
    "    (OneHotEncoder(), [Columns.CUSTOMER_TYPE]),\n",
    "    (OrdinalEncoder(categories=order_mapping), [Columns.SPECIFIC_HOLIDAY]),\n",
    "    (Normalizer(), make_column_selector(dtype_include=\"number\"))\n",
    ")\n",
    "\n",
    "log_and_ordinal_transforms = make_column_transformer(\n",
    "    (OneHotEncoder(), [Columns.CUSTOMER_TYPE]),\n",
    "    (OrdinalEncoder(categories=order_mapping), [Columns.SPECIFIC_HOLIDAY]),\n",
    "    (log_transform, make_column_selector(dtype_include=\"number\"))\n",
    ")\n",
    "\n",
    "power_transforms = make_column_transformer(\n",
    "    (OneHotEncoder(), [Columns.CUSTOMER_TYPE]),\n",
    "    (OrdinalEncoder(categories=order_mapping), [Columns.SPECIFIC_HOLIDAY]),\n",
    "    (PowerTransformer(), make_column_selector(dtype_include=\"number\"))\n",
    ")"
   ],
   "metadata": {
    "collapsed": false
   }
  },
  {
   "cell_type": "code",
   "execution_count": 6,
   "outputs": [],
   "source": [
    "regression_model = LogisticRegression(\n",
    "    random_state=ModelConstants.RANDOM_STATE,\n",
    "    max_iter=ModelConstants.MAX_ITERATIONS * 10,\n",
    "    warm_start=True\n",
    ")"
   ],
   "metadata": {
    "collapsed": false
   }
  },
  {
   "cell_type": "markdown",
   "source": [
    "### Defining Model Pipelines"
   ],
   "metadata": {
    "collapsed": false
   }
  },
  {
   "cell_type": "code",
   "execution_count": 14,
   "outputs": [],
   "source": [
    "log_and_ordinal_model_pipeline = Pipeline(\n",
    "    [\n",
    "        (\"column_transformation\", log_and_ordinal_transforms),\n",
    "        (\"logistic_regression\", regression_model)\n",
    "    ]\n",
    ")\n",
    "\n",
    "norm_and_one_hot_model_pipeline = Pipeline(\n",
    "    [\n",
    "        (\"column_transformation\", norm_and_one_hot_transforms),\n",
    "        (\"logistic_regression\", regression_model)\n",
    "    ]\n",
    ")\n",
    "\n",
    "pca_and_log_ordinal_model_pipeline = Pipeline(\n",
    "    [\n",
    "        (\"column_transformation\", log_and_ordinal_transforms),\n",
    "        (\"principal_components\", PCA()),\n",
    "        (\"logistic_regression\", regression_model)\n",
    "    ]\n",
    ")\n",
    "\n",
    "power_transform_model_pipeline = Pipeline(\n",
    "    [\n",
    "        (\"column_transformation\", power_transforms),\n",
    "        (\"principal_components\", PCA()),\n",
    "        (\"logistic_regression\", regression_model)\n",
    "    ]\n",
    ")"
   ],
   "metadata": {
    "collapsed": false
   }
  },
  {
   "cell_type": "markdown",
   "source": [
    "### Tuning Logistic Regression Models"
   ],
   "metadata": {
    "collapsed": false
   }
  },
  {
   "cell_type": "code",
   "execution_count": 8,
   "outputs": [],
   "source": [
    "tuning_params = {\n",
    "    \"logistic_regression__penalty\": [\"l1\", \"l2\"],\n",
    "    \"logistic_regression__solver\": [\"saga\", \"liblinear\"],\n",
    "    \"logistic_regression__C\": [0.1, 0.5, 1, 1.5, 2, 2.5, 3],\n",
    "    \"logistic_regression__class_weight\": [\n",
    "        \"balanced\",\n",
    "        {1: 0.55, 0: 0.45},\n",
    "        {1: 0.6, 0: 0.4},\n",
    "        {1: 0.65, 0: 0.35},\n",
    "        {1: 0.7, 0: 0.3},\n",
    "        {1: 0.75, 0: 0.25},\n",
    "        {1: 0.8, 0: 0.2},\n",
    "    ],\n",
    "}"
   ],
   "metadata": {
    "collapsed": false
   }
  },
  {
   "cell_type": "code",
   "execution_count": 9,
   "outputs": [
    {
     "name": "stdout",
     "output_type": "stream",
     "text": [
      "{'logistic_regression__C': 1.5, 'logistic_regression__class_weight': {1: 0.8, 0: 0.2}, 'logistic_regression__penalty': 'l1', 'logistic_regression__solver': 'saga'}\n",
      "Best parameter (CV score: 0.666):\n"
     ]
    }
   ],
   "source": [
    "gs_log_ordinal = (\n",
    "    TuneHyperParams()\n",
    "    .full_grid_search(\n",
    "     log_and_ordinal_model_pipeline,\n",
    "     tuning_params\n",
    "    )\n",
    "    .fit_model(\n",
    "        data.TRAINING.predictors,\n",
    "        data.TRAINING.outcome\n",
    "    )\n",
    "    .get_best_scores_and_params()\n",
    ")"
   ],
   "metadata": {
    "collapsed": false
   }
  },
  {
   "cell_type": "code",
   "execution_count": 10,
   "outputs": [
    {
     "name": "stdout",
     "output_type": "stream",
     "text": [
      "{'logistic_regression__C': 1.5, 'logistic_regression__class_weight': 'balanced', 'logistic_regression__penalty': 'l1', 'logistic_regression__solver': 'liblinear'}\n",
      "Best parameter (CV score: 0.616):\n"
     ]
    }
   ],
   "source": [
    "gs_norm = (\n",
    "    TuneHyperParams()\n",
    "    .full_grid_search(\n",
    "     norm_and_one_hot_model_pipeline,\n",
    "     tuning_params\n",
    "    )\n",
    "    .fit_model(\n",
    "        data.TRAINING.predictors,\n",
    "        data.TRAINING.outcome\n",
    "    )\n",
    "    .get_best_scores_and_params()\n",
    ")"
   ],
   "metadata": {
    "collapsed": false
   }
  },
  {
   "cell_type": "code",
   "execution_count": 17,
   "outputs": [
    {
     "name": "stdout",
     "output_type": "stream",
     "text": [
      "{'logistic_regression__C': 0.1, 'logistic_regression__class_weight': {1: 0.75, 0: 0.25}, 'logistic_regression__penalty': 'l1', 'logistic_regression__solver': 'saga', 'principal_components__n_components': 15, 'principal_components__whiten': True}\n",
      "Best parameter (CV score: 0.667):\n"
     ]
    }
   ],
   "source": [
    "pca_tuning = {\n",
    "    \"principal_components__n_components\": [3, 5, 7, 9, 11, 13, 15],\n",
    "    \"principal_components__whiten\": [True, False]\n",
    "}\n",
    "\n",
    "tuning_params = tuning_params | pca_tuning\n",
    "\n",
    "gs_pca_power = (\n",
    "    TuneHyperParams()\n",
    "    .full_grid_search(\n",
    "     power_transform_model_pipeline,\n",
    "     tuning_params\n",
    "    )\n",
    "    .fit_model(\n",
    "        data.TRAINING.predictors,\n",
    "        data.TRAINING.outcome\n",
    "    )\n",
    "    .get_best_scores_and_params()\n",
    ")"
   ],
   "metadata": {
    "collapsed": false
   }
  },
  {
   "cell_type": "code",
   "execution_count": 16,
   "outputs": [
    {
     "name": "stdout",
     "output_type": "stream",
     "text": [
      "{'logistic_regression__C': 0.1, 'logistic_regression__class_weight': {1: 0.8, 0: 0.2}, 'logistic_regression__penalty': 'l1', 'logistic_regression__solver': 'liblinear', 'principal_components__n_components': 11, 'principal_components__whiten': False}\n",
      "Best parameter (CV score: 0.667):\n"
     ]
    }
   ],
   "source": [
    "gs_pca = (\n",
    "    TuneHyperParams()\n",
    "    .full_grid_search(\n",
    "     pca_and_log_ordinal_model_pipeline,\n",
    "     tuning_params\n",
    "    )\n",
    "    .fit_model(\n",
    "        data.TRAINING.predictors,\n",
    "        data.TRAINING.outcome\n",
    "    )\n",
    "    .get_best_scores_and_params()\n",
    ")"
   ],
   "metadata": {
    "collapsed": false
   }
  },
  {
   "cell_type": "markdown",
   "source": [
    "### Refitting models after Grid Search"
   ],
   "metadata": {
    "collapsed": false
   }
  },
  {
   "cell_type": "code",
   "execution_count": 24,
   "outputs": [
    {
     "name": "stdout",
     "output_type": "stream",
     "text": [
      "fit_time: 4.789946794509888\n",
      "score_time: 0.00689387321472168\n",
      "test_accuracy: 0.880068627615484\n",
      "test_balanced_accuracy: 0.8317220389462638\n",
      "test_f1: 0.6648300886446668\n",
      "                                Test     Score\n",
      "0                           F1 Score  0.681657\n",
      "1                           Accuracy  0.889799\n",
      "2                  Balanced Accuracy  0.787254\n",
      "3  Matthew's Correlation Coefficient  0.619925\n"
     ]
    }
   ],
   "source": [
    "# {'logistic_regression __C': 1.5, 'logistic_regression__class_weight': {1: 0.8, 0: 0.2}, 'logistic_regression__penalty': 'l1', 'logistic_regression__solver': 'saga'}\n",
    "\n",
    "final_log_model = LogisticRegression(\n",
    "    C=1.5,\n",
    "    penalty=\"l1\",\n",
    "    solver=\"saga\",\n",
    "    class_weight={1: 0.8, 0: 0.2},\n",
    "    max_iter=ModelConstants.MAX_ITERATIONS * 10,\n",
    "    random_state=ModelConstants.RANDOM_STATE,\n",
    "    warm_start=True\n",
    ")\n",
    "\n",
    "final_log_model_pipeline = Pipeline(\n",
    "    [\n",
    "        (\"column_transformation\", log_and_ordinal_transforms),\n",
    "        (\"logistic_regression\", final_log_model)\n",
    "    ]\n",
    ")\n",
    "\n",
    "get_cross_validation_results(\n",
    "    final_log_model_pipeline,\n",
    "    data.TRAINING.predictors,\n",
    "    data.TRAINING.outcome\n",
    ")\n",
    "\n",
    "results = get_final_model_performance(\n",
    "    final_log_model_pipeline,\n",
    "    data.TRAINING,\n",
    "    data.TESTING\n",
    ")\n",
    "\n",
    "print(results)"
   ],
   "metadata": {
    "collapsed": false
   }
  },
  {
   "cell_type": "code",
   "execution_count": 23,
   "outputs": [
    {
     "name": "stdout",
     "output_type": "stream",
     "text": [
      "fit_time: 0.5719465970993042\n",
      "score_time: 0.00810391902923584\n",
      "test_accuracy: 0.8790450861620552\n",
      "test_balanced_accuracy: 0.7782856374781862\n",
      "test_f1: 0.6203327651254187\n",
      "                                Test     Score\n",
      "0                           F1 Score  0.636242\n",
      "1                           Accuracy  0.888980\n",
      "2                  Balanced Accuracy  0.791557\n",
      "3  Matthew's Correlation Coefficient  0.571044\n"
     ]
    }
   ],
   "source": [
    "# {'logistic_regression__C': 1.5, 'logistic_regression__class_weight': 'balanced', 'logistic_regression__penalty': 'l1', 'logistic_regression__solver': 'liblinear'}\n",
    "\n",
    "final_norm_model = LogisticRegression(\n",
    "    C=1.5,\n",
    "    solver=\"liblinear\",\n",
    "    penalty=\"l1\",\n",
    "    class_weight=\"balanced\",\n",
    "    max_iter=ModelConstants.MAX_ITERATIONS * 10,\n",
    "    random_state=ModelConstants.RANDOM_STATE,\n",
    "    warm_start=True\n",
    ")\n",
    "\n",
    "final_norm_model_pipeline = Pipeline(\n",
    "    [\n",
    "        (\"column_transformation\", norm_and_one_hot_transforms),\n",
    "        (\"logistic_regression\", final_norm_model)\n",
    "    ]\n",
    ")\n",
    "\n",
    "get_cross_validation_results(\n",
    "    final_norm_model_pipeline,\n",
    "    data.TRAINING.predictors,\n",
    "    data.TRAINING.outcome\n",
    ")\n",
    "\n",
    "results = get_final_model_performance(\n",
    "    final_norm_model_pipeline,\n",
    "    data.TRAINING,\n",
    "    data.TESTING\n",
    ")\n",
    "\n",
    "print(results)"
   ],
   "metadata": {
    "collapsed": false
   }
  },
  {
   "cell_type": "code",
   "execution_count": 22,
   "outputs": [
    {
     "name": "stdout",
     "output_type": "stream",
     "text": [
      "fit_time: 0.05274362564086914\n",
      "score_time: 0.0097930908203125\n",
      "test_accuracy: 0.879147650049499\n",
      "test_balanced_accuracy: 0.8346525059058598\n",
      "test_f1: 0.6657237530635807\n",
      "                                Test     Score\n",
      "0                           F1 Score  0.681499\n",
      "1                           Accuracy  0.888570\n",
      "2                  Balanced Accuracy  0.785155\n",
      "3  Matthew's Correlation Coefficient  0.619932\n"
     ]
    }
   ],
   "source": [
    "# {'logistic_regression__C': 0.1, 'logistic_regression__class_weight': {1: 0.8, 0: 0.2}, 'logistic_regression__penalty': 'l1', 'logistic_regression__solver': 'liblinear', 'principal_components__n_components': 11, 'principal_components__whiten': False}\n",
    "\n",
    "\n",
    "final_log_pca_model = LogisticRegression(\n",
    "    C=0.1,\n",
    "    solver=\"liblinear\",\n",
    "    penalty=\"l1\",\n",
    "    class_weight={1: 0.8, 0: 0.2},\n",
    "    max_iter=ModelConstants.MAX_ITERATIONS * 10,\n",
    "    random_state=ModelConstants.RANDOM_STATE,\n",
    "    warm_start=True\n",
    ")\n",
    "\n",
    "final_pca_model_pipeline = Pipeline(\n",
    "    [\n",
    "        (\"column_transformation\", log_and_ordinal_transforms),\n",
    "        (\"principal_components\", PCA(n_components=11, whiten=False)),\n",
    "        (\"logistic_regression\", final_log_pca_model)\n",
    "    ]\n",
    ")\n",
    "\n",
    "get_cross_validation_results(\n",
    "    final_pca_model_pipeline,\n",
    "    data.TRAINING.predictors,\n",
    "    data.TRAINING.outcome\n",
    ")\n",
    "\n",
    "results = get_final_model_performance(\n",
    "    final_pca_model_pipeline,\n",
    "    data.TRAINING,\n",
    "    data.TESTING\n",
    ")\n",
    "\n",
    "print(results)"
   ],
   "metadata": {
    "collapsed": false
   }
  },
  {
   "cell_type": "code",
   "execution_count": 21,
   "outputs": [
    {
     "name": "stdout",
     "output_type": "stream",
     "text": [
      "fit_time: 0.07852847576141357\n",
      "score_time: 0.009978222846984863\n",
      "test_accuracy: 0.8809914928603788\n",
      "test_balanced_accuracy: 0.8229355682743515\n",
      "test_f1: 0.6596332984749401\n",
      "                                Test     Score\n",
      "0                           F1 Score  0.682927\n",
      "1                           Accuracy  0.893486\n",
      "2                  Balanced Accuracy  0.794173\n",
      "3  Matthew's Correlation Coefficient  0.621370\n"
     ]
    }
   ],
   "source": [
    "# {'logistic_regression__C': 0.1, 'logistic_regression__class_weight': {1: 0.75, 0: 0.25}, 'logistic_regression__penalty': 'l1', 'logistic_regression__solver': 'saga', 'principal_components__n_components': 15, 'principal_components__whiten': True}\n",
    "\n",
    "final_power_pca_model = LogisticRegression(\n",
    "    C=0.1,\n",
    "    solver=\"saga\",\n",
    "    penalty=\"l1\",\n",
    "    class_weight={1: 0.75, 0: 0.25},\n",
    "    max_iter=ModelConstants.MAX_ITERATIONS * 10,\n",
    "    random_state=ModelConstants.RANDOM_STATE,\n",
    "    warm_start=True\n",
    ")\n",
    "\n",
    "final_pca_power_model_pipeline = Pipeline(\n",
    "    [\n",
    "        (\"column_transformation\", log_and_ordinal_transforms),\n",
    "        (\"principal_components\", PCA(n_components=15, whiten=True)),\n",
    "        (\"logistic_regression\", final_power_pca_model)\n",
    "    ]\n",
    ")\n",
    "\n",
    "get_cross_validation_results(\n",
    "    final_pca_power_model_pipeline,\n",
    "    data.TRAINING.predictors,\n",
    "    data.TRAINING.outcome\n",
    ")\n",
    "\n",
    "results = get_final_model_performance(\n",
    "    final_pca_power_model_pipeline,\n",
    "    data.TRAINING,\n",
    "    data.TESTING\n",
    ")\n",
    "\n",
    "print(results)"
   ],
   "metadata": {
    "collapsed": false
   }
  }
 ],
 "metadata": {
  "kernelspec": {
   "display_name": "machine_learning-2iLmnJu8",
   "language": "python",
   "name": "python3"
  },
  "language_info": {
   "codemirror_mode": {
    "name": "ipython",
    "version": 3
   },
   "file_extension": ".py",
   "mimetype": "text/x-python",
   "name": "python",
   "nbconvert_exporter": "python",
   "pygments_lexer": "ipython3",
   "version": "3.10.6"
  },
  "orig_nbformat": 4
 },
 "nbformat": 4,
 "nbformat_minor": 2
}
