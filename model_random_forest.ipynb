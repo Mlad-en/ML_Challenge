{
 "cells": [
  {
   "cell_type": "code",
   "execution_count": 1,
   "metadata": {},
   "outputs": [],
   "source": [
    "import numpy as np\n",
    "import pandas as pd\n",
    "from constants import Columns, ModelConstants\n",
    "from utils import TransactionDataset, get_cross_validation_results, TuneHyperParams, get_final_model_performance\n",
    "from sklearn.ensemble import RandomForestClassifier\n",
    "from sklearn.preprocessing import OrdinalEncoder, OneHotEncoder\n",
    "from sklearn.compose import make_column_transformer\n",
    "from imblearn.under_sampling import TomekLinks\n",
    "from imblearn.pipeline import Pipeline"
   ]
  },
  {
   "cell_type": "code",
   "execution_count": 2,
   "metadata": {},
   "outputs": [],
   "source": [
    "#Getting the dataset from GitHub and splitting the data\n",
    "\n",
    "data = TransactionDataset().get_training_test_split()"
   ]
  },
  {
   "cell_type": "code",
   "execution_count": 3,
   "metadata": {},
   "outputs": [],
   "source": [
    "onehot_columns = [Columns.CUSTOMER_TYPE]\n",
    "ordinal_columns = [Columns.SPECIFIC_HOLIDAY]"
   ]
  },
  {
   "cell_type": "code",
   "execution_count": 4,
   "metadata": {},
   "outputs": [],
   "source": [
    "#Pre-Define the columns transformation that we want to make\n",
    "\n",
    "ordinal_and_onehot_transformation = make_column_transformer(\n",
    "    (OneHotEncoder(), onehot_columns),\n",
    "    (OrdinalEncoder(), ordinal_columns),\n",
    "    remainder=\"passthrough\"\n",
    ")"
   ]
  },
  {
   "cell_type": "code",
   "execution_count": 5,
   "metadata": {},
   "outputs": [],
   "source": [
    "#Pre-Defining the model that we want to use and the over/under-sampling methods\n",
    "\n",
    "random_forest = RandomForestClassifier(random_state=ModelConstants.RANDOM_STATE)\n",
    "tomek_links = TomekLinks(sampling_strategy='majority')"
   ]
  },
  {
   "cell_type": "code",
   "execution_count": 6,
   "metadata": {},
   "outputs": [],
   "source": [
    "rf_pipeline = Pipeline(\n",
    "    [\n",
    "        (\"column_transforms\", ordinal_and_onehot_transformation),\n",
    "        (\"Tomek_Links_UnderSampling\", tomek_links),\n",
    "        (\"random_forest\", random_forest)\n",
    "    ]\n",
    ")"
   ]
  },
  {
   "cell_type": "code",
   "execution_count": 7,
   "metadata": {},
   "outputs": [],
   "source": [
    "#Choosing hyperparameters and justification\n",
    "\n",
    "random_params_rf = {\n",
    "    'random_forest__bootstrap': [True, False], #Prevent overfitting and reduce variance if set to True, check if there is a difference\n",
    "    'random_forest__criterion': ['gini', 'entropy', 'log_loss'], #Testing diffrent split functions\n",
    "    'random_forest__max_depth': [10, 20, 30, 40, 50, 60, 70, 80, 90, 100], #Testing optimal depth and prevent overfitting when set to None\n",
    "    'random_forest__max_features': ['log2', 'sqrt'], #Number of features to consider when looking for the best split\n",
    "    'random_forest__min_samples_leaf': [1, 2, 4, 6, 8, 10], #Minimum number of samples required to be at a leaf node\n",
    "    'random_forest__min_samples_split': [2, 5, 10, 15, 20, 25], #Minimum number of samples required to split an internal node\n",
    "    'random_forest__n_estimators': [100, 200, 400, 600, 800, 1000, 1200, 1400, 1600, 1800, 2000], #Number of trees in the forest, a lot of trees can slow down the training process\n",
    "    'random_forest__class_weight': [\"balanced\", {0:3,1:7}, {0:2,1:8}, {0:1,1:9}, None] #Takes into account the imbalance in the decision class\n",
    "}"
   ]
  },
  {
   "cell_type": "code",
   "execution_count": 8,
   "metadata": {},
   "outputs": [
    {
     "name": "stdout",
     "output_type": "stream",
     "text": [
      "{'random_forest__n_estimators': 200, 'random_forest__min_samples_split': 15, 'random_forest__min_samples_leaf': 1, 'random_forest__max_features': 'log2', 'random_forest__max_depth': 40, 'random_forest__criterion': 'entropy', 'random_forest__class_weight': 'balanced', 'random_forest__bootstrap': False}\n",
      "Best parameter (CV score: 0.680):\n"
     ]
    }
   ],
   "source": [
    "#Running a Random Search on the pipeline with the above selected parameters and fitting/evaluating the performance on the training data\n",
    "\n",
    "best_model_rf = (\n",
    "    TuneHyperParams()\n",
    "    .random_grid_search(\n",
    "        rf_pipeline,\n",
    "        random_params_rf\n",
    "    )\n",
    "    .fit_model(\n",
    "        data.TRAINING.predictors,\n",
    "        data.TRAINING.outcome\n",
    "    )\n",
    "    .get_best_model()\n",
    ")"
   ]
  },
  {
   "cell_type": "code",
   "execution_count": 9,
   "metadata": {},
   "outputs": [
    {
     "data": {
      "text/html": [
       "<div>\n",
       "<style scoped>\n",
       "    .dataframe tbody tr th:only-of-type {\n",
       "        vertical-align: middle;\n",
       "    }\n",
       "\n",
       "    .dataframe tbody tr th {\n",
       "        vertical-align: top;\n",
       "    }\n",
       "\n",
       "    .dataframe thead th {\n",
       "        text-align: right;\n",
       "    }\n",
       "</style>\n",
       "<table border=\"1\" class=\"dataframe\">\n",
       "  <thead>\n",
       "    <tr style=\"text-align: right;\">\n",
       "      <th></th>\n",
       "      <th>Metric for Training Set</th>\n",
       "      <th>Score</th>\n",
       "    </tr>\n",
       "  </thead>\n",
       "  <tbody>\n",
       "    <tr>\n",
       "      <th>0</th>\n",
       "      <td>fit_time mean score</td>\n",
       "      <td>4.506049</td>\n",
       "    </tr>\n",
       "    <tr>\n",
       "      <th>1</th>\n",
       "      <td>score_time mean score</td>\n",
       "      <td>0.098996</td>\n",
       "    </tr>\n",
       "    <tr>\n",
       "      <th>2</th>\n",
       "      <td>5-fold CV F1 Score mean score</td>\n",
       "      <td>0.680008</td>\n",
       "    </tr>\n",
       "    <tr>\n",
       "      <th>3</th>\n",
       "      <td>5-fold CV Accuracy mean score</td>\n",
       "      <td>0.888263</td>\n",
       "    </tr>\n",
       "    <tr>\n",
       "      <th>4</th>\n",
       "      <td>5-fold CV Balanced Accuracy mean score</td>\n",
       "      <td>0.836074</td>\n",
       "    </tr>\n",
       "    <tr>\n",
       "      <th>5</th>\n",
       "      <td>5-fold CV Matthew's Correlation Coefficient me...</td>\n",
       "      <td>0.618555</td>\n",
       "    </tr>\n",
       "  </tbody>\n",
       "</table>\n",
       "</div>"
      ],
      "text/plain": [
       "                             Metric for Training Set     Score\n",
       "0                                fit_time mean score  4.506049\n",
       "1                              score_time mean score  0.098996\n",
       "2                      5-fold CV F1 Score mean score  0.680008\n",
       "3                      5-fold CV Accuracy mean score  0.888263\n",
       "4             5-fold CV Balanced Accuracy mean score  0.836074\n",
       "5  5-fold CV Matthew's Correlation Coefficient me...  0.618555"
      ]
     },
     "execution_count": 9,
     "metadata": {},
     "output_type": "execute_result"
    }
   ],
   "source": [
    "#Cross-validating the best model on the training data to get a better overall look on the perfermance using different performance metrics\n",
    "\n",
    "get_cross_validation_results(\n",
    "    best_model_rf,\n",
    "    data.TRAINING.predictors,\n",
    "    data.TRAINING.outcome\n",
    ")"
   ]
  }
 ],
 "metadata": {
  "kernelspec": {
   "display_name": "Python 3",
   "language": "python",
   "name": "python3"
  },
  "language_info": {
   "codemirror_mode": {
    "name": "ipython",
    "version": 3
   },
   "file_extension": ".py",
   "mimetype": "text/x-python",
   "name": "python",
   "nbconvert_exporter": "python",
   "pygments_lexer": "ipython3",
   "version": "3.10.11"
  },
  "orig_nbformat": 4
 },
 "nbformat": 4,
 "nbformat_minor": 2
}
