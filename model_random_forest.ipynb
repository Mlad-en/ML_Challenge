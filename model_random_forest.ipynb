{
 "cells": [
  {
   "cell_type": "code",
   "execution_count": 20,
   "metadata": {
    "ExecuteTime": {
     "end_time": "2023-06-06T09:57:14.233594Z",
     "start_time": "2023-06-06T09:57:14.226757Z"
    }
   },
   "outputs": [],
   "source": [
    "import numpy as np\n",
    "import pandas as pd\n",
    "from constants import Columns, ModelConstants\n",
    "from utils import TransactionDataset, TuneHyperParams, FinalModelPerformance\n",
    "from sklearn.ensemble import RandomForestClassifier\n",
    "from sklearn.preprocessing import OrdinalEncoder, OneHotEncoder\n",
    "from sklearn.compose import make_column_transformer\n",
    "from imblearn.under_sampling import TomekLinks\n",
    "from imblearn.pipeline import Pipeline\n",
    "from joblib import dump"
   ]
  },
  {
   "cell_type": "code",
   "execution_count": 12,
   "metadata": {
    "ExecuteTime": {
     "end_time": "2023-06-06T09:19:37.466780Z",
     "start_time": "2023-06-06T09:19:34.081942Z"
    }
   },
   "outputs": [],
   "source": [
    "#Getting the dataset from GitHub and splitting the data\n",
    "\n",
    "data = TransactionDataset().get_training_test_split()"
   ]
  },
  {
   "cell_type": "code",
   "execution_count": 13,
   "metadata": {
    "ExecuteTime": {
     "end_time": "2023-06-06T09:19:37.472889Z",
     "start_time": "2023-06-06T09:19:37.468349Z"
    }
   },
   "outputs": [],
   "source": [
    "onehot_columns = [Columns.CUSTOMER_TYPE]\n",
    "ordinal_columns = [Columns.SPECIFIC_HOLIDAY]"
   ]
  },
  {
   "cell_type": "code",
   "execution_count": 14,
   "metadata": {
    "ExecuteTime": {
     "end_time": "2023-06-06T09:19:37.481685Z",
     "start_time": "2023-06-06T09:19:37.477309Z"
    }
   },
   "outputs": [],
   "source": [
    "#Pre-Define the columns transformation that we want to make\n",
    "\n",
    "ordinal_and_onehot_transformation = make_column_transformer(\n",
    "    (OneHotEncoder(), onehot_columns),\n",
    "    (OrdinalEncoder(), ordinal_columns),\n",
    "    remainder=\"passthrough\"\n",
    ")"
   ]
  },
  {
   "cell_type": "code",
   "execution_count": 15,
   "metadata": {
    "ExecuteTime": {
     "end_time": "2023-06-06T09:19:37.486726Z",
     "start_time": "2023-06-06T09:19:37.482688Z"
    }
   },
   "outputs": [],
   "source": [
    "#Pre-Defining the model that we want to use and the over/under-sampling methods\n",
    "\n",
    "random_forest = RandomForestClassifier(random_state=ModelConstants.RANDOM_STATE)\n",
    "tomek_links = TomekLinks(sampling_strategy='majority')"
   ]
  },
  {
   "cell_type": "code",
   "execution_count": 16,
   "metadata": {
    "ExecuteTime": {
     "end_time": "2023-06-06T09:19:37.496223Z",
     "start_time": "2023-06-06T09:19:37.488775Z"
    }
   },
   "outputs": [],
   "source": [
    "rf_pipeline = Pipeline(\n",
    "    [\n",
    "        (\"column_transforms\", ordinal_and_onehot_transformation),\n",
    "        (\"Tomek_Links_UnderSampling\", tomek_links),\n",
    "        (\"random_forest\", random_forest)\n",
    "    ]\n",
    ")"
   ]
  },
  {
   "cell_type": "code",
   "execution_count": 17,
   "metadata": {
    "ExecuteTime": {
     "end_time": "2023-06-06T09:19:37.504013Z",
     "start_time": "2023-06-06T09:19:37.499443Z"
    }
   },
   "outputs": [],
   "source": [
    "#Choosing hyperparameters and justification\n",
    "\n",
    "random_params_rf = {\n",
    "    'random_forest__bootstrap': [True, False], # Prevent over-fitting and reduce variance if set to True, check if there is a difference\n",
    "    'random_forest__criterion': ['gini', 'entropy', 'log_loss'], # Testing different split functions\n",
    "    'random_forest__max_depth': [10, 20, 30, 40, 50, 60, 70, 80, 90, 100], # Testing optimal depth and prevent over-fitting when set to None\n",
    "    'random_forest__max_features': ['log2', 'sqrt'], # Number of features to consider when looking for the best split\n",
    "    'random_forest__min_samples_leaf': [1, 2, 4, 6, 8, 10], # Minimum number of samples required to be at a leaf node\n",
    "    'random_forest__min_samples_split': [2, 5, 10, 15, 20, 25], # Minimum number of samples required to split an internal node\n",
    "    'random_forest__n_estimators': [100, 200, 400, 600, 800, 1000, 1200, 1400, 1600, 1800, 2000], # Number of trees in the forest, a lot of trees can slow down the training process\n",
    "    'random_forest__class_weight': [\"balanced\", {0:3,1:7}, {0:2,1:8}, {0:1,1:9}, None] # Takes into account the imbalance in the decision class\n",
    "}"
   ]
  },
  {
   "cell_type": "code",
   "execution_count": 18,
   "metadata": {
    "ExecuteTime": {
     "end_time": "2023-06-06T09:21:57.312128Z",
     "start_time": "2023-06-06T09:19:37.507777Z"
    }
   },
   "outputs": [
    {
     "name": "stdout",
     "output_type": "stream",
     "text": [
      "{   'random_forest__bootstrap': True,\n",
      "    'random_forest__class_weight': {0: 3, 1: 7},\n",
      "    'random_forest__criterion': 'gini',\n",
      "    'random_forest__max_depth': 60,\n",
      "    'random_forest__max_features': 'log2',\n",
      "    'random_forest__min_samples_leaf': 8,\n",
      "    'random_forest__min_samples_split': 20,\n",
      "    'random_forest__n_estimators': 400}\n",
      "Best parameter (CV score: 0.680):\n"
     ]
    }
   ],
   "source": [
    "#Running a Random Search on the pipeline with the above selected parameters and fitting/evaluating the performance on the training data\n",
    "\n",
    "best_model_rf = (\n",
    "    TuneHyperParams()\n",
    "    .random_grid_search(\n",
    "        rf_pipeline,\n",
    "        random_params_rf\n",
    "    )\n",
    "    .fit_model(\n",
    "        data.TRAINING.predictors,\n",
    "        data.TRAINING.outcome\n",
    "    )\n",
    "    .get_best_model()\n",
    ")"
   ]
  },
  {
   "cell_type": "code",
   "execution_count": 19,
   "metadata": {
    "ExecuteTime": {
     "end_time": "2023-06-06T09:22:10.810418Z",
     "start_time": "2023-06-06T09:21:57.312810Z"
    }
   },
   "outputs": [
    {
     "data": {
      "text/plain": "                             Metric for Training Set     Score\n0                                fit_time mean score  2.578630\n1                              score_time mean score  0.116947\n2                      5-fold CV F1 Score mean score  0.679953\n3                      5-fold CV Accuracy mean score  0.891131\n4             5-fold CV Balanced Accuracy mean score  0.829771\n5  5-fold CV Matthew's Correlation Coefficient me...  0.618315",
      "text/html": "<div>\n<style scoped>\n    .dataframe tbody tr th:only-of-type {\n        vertical-align: middle;\n    }\n\n    .dataframe tbody tr th {\n        vertical-align: top;\n    }\n\n    .dataframe thead th {\n        text-align: right;\n    }\n</style>\n<table border=\"1\" class=\"dataframe\">\n  <thead>\n    <tr style=\"text-align: right;\">\n      <th></th>\n      <th>Metric for Training Set</th>\n      <th>Score</th>\n    </tr>\n  </thead>\n  <tbody>\n    <tr>\n      <th>0</th>\n      <td>fit_time mean score</td>\n      <td>2.578630</td>\n    </tr>\n    <tr>\n      <th>1</th>\n      <td>score_time mean score</td>\n      <td>0.116947</td>\n    </tr>\n    <tr>\n      <th>2</th>\n      <td>5-fold CV F1 Score mean score</td>\n      <td>0.679953</td>\n    </tr>\n    <tr>\n      <th>3</th>\n      <td>5-fold CV Accuracy mean score</td>\n      <td>0.891131</td>\n    </tr>\n    <tr>\n      <th>4</th>\n      <td>5-fold CV Balanced Accuracy mean score</td>\n      <td>0.829771</td>\n    </tr>\n    <tr>\n      <th>5</th>\n      <td>5-fold CV Matthew's Correlation Coefficient me...</td>\n      <td>0.618315</td>\n    </tr>\n  </tbody>\n</table>\n</div>"
     },
     "execution_count": 19,
     "metadata": {},
     "output_type": "execute_result"
    }
   ],
   "source": [
    "#Cross-validating the best model on the training data to get a better overall look on the performance using different performance metrics\n",
    "\n",
    "final_model = FinalModelPerformance(\n",
    "    model=best_model_rf,\n",
    "    data=data\n",
    ")\n",
    "\n",
    "final_model.get_cross_validation_results()"
   ]
  },
  {
   "cell_type": "code",
   "execution_count": 3,
   "outputs": [
    {
     "data": {
      "text/plain": "              Metric for Testing Set     Score\n0                           F1 Score  0.701235\n1                           Accuracy  0.900860\n2                  Balanced Accuracy  0.807434\n3  Matthew's Correlation Coefficient  0.643525",
      "text/html": "<div>\n<style scoped>\n    .dataframe tbody tr th:only-of-type {\n        vertical-align: middle;\n    }\n\n    .dataframe tbody tr th {\n        vertical-align: top;\n    }\n\n    .dataframe thead th {\n        text-align: right;\n    }\n</style>\n<table border=\"1\" class=\"dataframe\">\n  <thead>\n    <tr style=\"text-align: right;\">\n      <th></th>\n      <th>Metric for Testing Set</th>\n      <th>Score</th>\n    </tr>\n  </thead>\n  <tbody>\n    <tr>\n      <th>0</th>\n      <td>F1 Score</td>\n      <td>0.701235</td>\n    </tr>\n    <tr>\n      <th>1</th>\n      <td>Accuracy</td>\n      <td>0.900860</td>\n    </tr>\n    <tr>\n      <th>2</th>\n      <td>Balanced Accuracy</td>\n      <td>0.807434</td>\n    </tr>\n    <tr>\n      <th>3</th>\n      <td>Matthew's Correlation Coefficient</td>\n      <td>0.643525</td>\n    </tr>\n  </tbody>\n</table>\n</div>"
     },
     "execution_count": 3,
     "metadata": {},
     "output_type": "execute_result"
    }
   ],
   "source": [
    "final_model.get_final_model_performance()"
   ],
   "metadata": {
    "collapsed": false,
    "ExecuteTime": {
     "end_time": "2023-06-09T11:24:08.970627Z",
     "start_time": "2023-06-09T11:24:07.293020Z"
    }
   }
  },
  {
   "cell_type": "code",
   "execution_count": 21,
   "outputs": [
    {
     "data": {
      "text/plain": "['./models_exports/random_forest_classifier.joblib']"
     },
     "execution_count": 21,
     "metadata": {},
     "output_type": "execute_result"
    }
   ],
   "source": [
    "dump(final_model.model, \"./models_exports/random_forest_classifier.joblib\")"
   ],
   "metadata": {
    "collapsed": false,
    "ExecuteTime": {
     "end_time": "2023-06-06T09:57:48.463994Z",
     "start_time": "2023-06-06T09:57:48.264390Z"
    }
   }
  },
  {
   "cell_type": "code",
   "execution_count": 1,
   "outputs": [],
   "source": [],
   "metadata": {
    "collapsed": false,
    "ExecuteTime": {
     "end_time": "2023-06-09T11:18:49.695138Z",
     "start_time": "2023-06-09T11:18:47.242675Z"
    }
   }
  },
  {
   "cell_type": "code",
   "execution_count": null,
   "outputs": [],
   "source": [],
   "metadata": {
    "collapsed": false
   }
  }
 ],
 "metadata": {
  "kernelspec": {
   "display_name": "Python 3",
   "language": "python",
   "name": "python3"
  },
  "language_info": {
   "codemirror_mode": {
    "name": "ipython",
    "version": 3
   },
   "file_extension": ".py",
   "mimetype": "text/x-python",
   "name": "python",
   "nbconvert_exporter": "python",
   "pygments_lexer": "ipython3",
   "version": "3.10.11"
  },
  "orig_nbformat": 4
 },
 "nbformat": 4,
 "nbformat_minor": 2
}
