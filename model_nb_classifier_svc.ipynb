{
 "cells": [
  {
   "cell_type": "code",
   "execution_count": 1,
   "id": "3d77e0de-7c8c-4548-980a-af4643802029",
   "metadata": {
    "ExecuteTime": {
     "end_time": "2023-06-06T09:11:01.132106Z",
     "start_time": "2023-06-06T09:10:49.855531Z"
    }
   },
   "outputs": [],
   "source": [
    "import pandas as pd\n",
    "import numpy as np\n"
   ]
  },
  {
   "cell_type": "code",
   "execution_count": 22,
   "id": "8bfe2f1d-8636-40c9-bd93-62209793bc38",
   "metadata": {
    "ExecuteTime": {
     "end_time": "2023-06-06T09:56:27.481296Z",
     "start_time": "2023-06-06T09:56:27.474786Z"
    }
   },
   "outputs": [],
   "source": [
    "from sklearn.naive_bayes import BernoulliNB\n",
    "from sklearn.svm import SVC\n",
    "from sklearn.preprocessing import OrdinalEncoder, OneHotEncoder, FunctionTransformer\n",
    "from sklearn.compose import make_column_transformer, make_column_selector\n",
    "from sklearn.decomposition import PCA\n",
    "from imblearn.pipeline import Pipeline\n",
    "from imblearn.over_sampling import SMOTE,ADASYN\n",
    "from joblib import dump"
   ]
  },
  {
   "cell_type": "code",
   "execution_count": 3,
   "id": "8ec1b594-9d31-483c-8551-44b718f5785e",
   "metadata": {
    "ExecuteTime": {
     "end_time": "2023-06-06T09:11:01.926371Z",
     "start_time": "2023-06-06T09:11:01.920390Z"
    }
   },
   "outputs": [],
   "source": [
    "from constants import Columns, ModelConstants\n",
    "from utils import (\n",
    "    TuneHyperParams, \n",
    "    TransactionDataset, \n",
    "    FinalModelPerformance\n",
    ")"
   ]
  },
  {
   "cell_type": "code",
   "execution_count": 4,
   "id": "a51cb51d-3559-465c-9f1c-c9f1d7fed005",
   "metadata": {
    "ExecuteTime": {
     "end_time": "2023-06-06T09:11:04.326352Z",
     "start_time": "2023-06-06T09:11:01.928096Z"
    }
   },
   "outputs": [],
   "source": [
    "data = TransactionDataset().get_training_test_split()"
   ]
  },
  {
   "cell_type": "code",
   "execution_count": 5,
   "id": "3102991e",
   "metadata": {
    "ExecuteTime": {
     "end_time": "2023-06-06T09:11:04.331379Z",
     "start_time": "2023-06-06T09:11:04.326763Z"
    }
   },
   "outputs": [],
   "source": [
    "drop_columns = [\n",
    "    Columns.INFO_PAGE_TIME,\n",
    "    Columns.ACCOUNT_PAGE_TIME,\n",
    "    Columns.PRODUCT_PAGE_TIME,\n",
    "    Columns.AD_CAMPAIGN_1, \n",
    "    Columns.AD_CAMPAIGN_2,\n",
    "    Columns.AD_CAMPAIGN_3\n",
    "]\n",
    "\n",
    "\n",
    "column_transformation_1 = make_column_transformer(\n",
    "    (OneHotEncoder(), [Columns.CUSTOMER_TYPE]),\n",
    "    (OrdinalEncoder(), [Columns.SPECIFIC_HOLIDAY]),\n",
    "    (FunctionTransformer(np.log1p), make_column_selector(dtype_include=\"number\")),\n",
    "    (\"drop\", drop_columns),\n",
    "    remainder=\"passthrough\"\n",
    ")\n",
    "\n",
    "column_transformation_2 =  make_column_transformer(\n",
    "    (OneHotEncoder(), [Columns.CUSTOMER_TYPE]),\n",
    "    (OrdinalEncoder(), [Columns.SPECIFIC_HOLIDAY]),\n",
    "    remainder=\"passthrough\"\n",
    ")"
   ]
  },
  {
   "cell_type": "code",
   "execution_count": 6,
   "id": "7aede107",
   "metadata": {
    "ExecuteTime": {
     "end_time": "2023-06-06T09:11:04.337095Z",
     "start_time": "2023-06-06T09:11:04.330135Z"
    }
   },
   "outputs": [],
   "source": [
    "smote_oversampling = SMOTE (random_state= ModelConstants.RANDOM_STATE)\n",
    "adasyn_oversampling = ADASYN(random_state= ModelConstants.RANDOM_STATE)"
   ]
  },
  {
   "cell_type": "code",
   "execution_count": 7,
   "id": "4168c2f5",
   "metadata": {
    "ExecuteTime": {
     "end_time": "2023-06-06T09:11:04.340234Z",
     "start_time": "2023-06-06T09:11:04.336666Z"
    }
   },
   "outputs": [],
   "source": [
    "nb_model = BernoulliNB(force_alpha=True)"
   ]
  },
  {
   "cell_type": "code",
   "execution_count": 8,
   "id": "44f5ff76",
   "metadata": {
    "ExecuteTime": {
     "end_time": "2023-06-06T09:11:04.343561Z",
     "start_time": "2023-06-06T09:11:04.341404Z"
    }
   },
   "outputs": [],
   "source": [
    "principal_components = PCA()"
   ]
  },
  {
   "cell_type": "code",
   "execution_count": 9,
   "id": "c4e9242e",
   "metadata": {
    "ExecuteTime": {
     "end_time": "2023-06-06T09:11:04.347512Z",
     "start_time": "2023-06-06T09:11:04.345976Z"
    }
   },
   "outputs": [],
   "source": [
    "nb_model_pipeline = Pipeline(\n",
    "    [\n",
    "        (\"column_transformations\", column_transformation_1),\n",
    "        (\"data_sampling\", smote_oversampling),\n",
    "        (\"principal_components\", principal_components),\n",
    "        (\"nb_model\", nb_model)\n",
    "    ]\n",
    ")\n"
   ]
  },
  {
   "cell_type": "code",
   "execution_count": 10,
   "id": "47d62ca2",
   "metadata": {
    "ExecuteTime": {
     "end_time": "2023-06-06T09:13:03.905799Z",
     "start_time": "2023-06-06T09:11:04.351760Z"
    }
   },
   "outputs": [
    {
     "name": "stdout",
     "output_type": "stream",
     "text": [
      "{   'column_transformations': ColumnTransformer(remainder='passthrough',\n",
      "                  transformers=[('onehotencoder', OneHotEncoder(),\n",
      "                                 ['Customer_Type']),\n",
      "                                ('ordinalencoder', OrdinalEncoder(),\n",
      "                                 ['SpecificHoliday'])]),\n",
      "    'data_sampling': 'passthrough',\n",
      "    'nb_model__alpha': 0,\n",
      "    'nb_model__class_prior': [0.6, 0.3],\n",
      "    'principal_components__n_components': 5}\n",
      "Best parameter (CV score: 0.647):\n"
     ]
    }
   ],
   "source": [
    "params_to_tune = {\n",
    "    \"column_transformations\" : [column_transformation_1 ,column_transformation_2],\n",
    "    \"data_sampling\":[smote_oversampling , adasyn_oversampling, \"passthrough\"],\n",
    "    \"principal_components__n_components\": [3, 5, 7, 9, 11, 13],\n",
    "    \"nb_model__alpha\": [0, 0.7, 0.9, 1],\n",
    "    \"nb_model__class_prior\": [\n",
    "        [0.7, 0.25],\n",
    "        [0.6, 0.3],\n",
    "        [0.6, 0.35],\n",
    "        [0.7, 0.3],\n",
    "        [0.55, 0.35],\n",
    "        [0.55, 0.45]\n",
    "    ]\n",
    "}\n",
    "\n",
    "\n",
    "best_model_nb = (\n",
    "    TuneHyperParams()\n",
    "    .full_grid_search(\n",
    "        nb_model_pipeline,\n",
    "        params_to_tune\n",
    "    )\n",
    "    .fit_model(\n",
    "        data.TRAINING.predictors,\n",
    "        data.TRAINING.outcome\n",
    "    )\n",
    "    .get_best_model()\n",
    ");\n"
   ]
  },
  {
   "cell_type": "code",
   "execution_count": 11,
   "id": "8293514e",
   "metadata": {
    "ExecuteTime": {
     "end_time": "2023-06-06T09:13:03.911180Z",
     "start_time": "2023-06-06T09:13:03.907807Z"
    }
   },
   "outputs": [],
   "source": [
    "final_model_evaluation_nb = FinalModelPerformance(\n",
    " model=best_model_nb,\n",
    " data=data\n",
    ")"
   ]
  },
  {
   "cell_type": "code",
   "execution_count": 12,
   "outputs": [
    {
     "data": {
      "text/plain": "                             Metric for Training Set     Score\n0                                fit_time mean score  0.044897\n1                              score_time mean score  0.017828\n2                      5-fold CV F1 Score mean score  0.646885\n3                      5-fold CV Accuracy mean score  0.885498\n4             5-fold CV Balanced Accuracy mean score  0.798395\n5  5-fold CV Matthew's Correlation Coefficient me...  0.579477",
      "text/html": "<div>\n<style scoped>\n    .dataframe tbody tr th:only-of-type {\n        vertical-align: middle;\n    }\n\n    .dataframe tbody tr th {\n        vertical-align: top;\n    }\n\n    .dataframe thead th {\n        text-align: right;\n    }\n</style>\n<table border=\"1\" class=\"dataframe\">\n  <thead>\n    <tr style=\"text-align: right;\">\n      <th></th>\n      <th>Metric for Training Set</th>\n      <th>Score</th>\n    </tr>\n  </thead>\n  <tbody>\n    <tr>\n      <th>0</th>\n      <td>fit_time mean score</td>\n      <td>0.044897</td>\n    </tr>\n    <tr>\n      <th>1</th>\n      <td>score_time mean score</td>\n      <td>0.017828</td>\n    </tr>\n    <tr>\n      <th>2</th>\n      <td>5-fold CV F1 Score mean score</td>\n      <td>0.646885</td>\n    </tr>\n    <tr>\n      <th>3</th>\n      <td>5-fold CV Accuracy mean score</td>\n      <td>0.885498</td>\n    </tr>\n    <tr>\n      <th>4</th>\n      <td>5-fold CV Balanced Accuracy mean score</td>\n      <td>0.798395</td>\n    </tr>\n    <tr>\n      <th>5</th>\n      <td>5-fold CV Matthew's Correlation Coefficient me...</td>\n      <td>0.579477</td>\n    </tr>\n  </tbody>\n</table>\n</div>"
     },
     "execution_count": 12,
     "metadata": {},
     "output_type": "execute_result"
    }
   ],
   "source": [
    "final_model_evaluation_nb.get_cross_validation_results()"
   ],
   "metadata": {
    "collapsed": false,
    "ExecuteTime": {
     "end_time": "2023-06-06T09:13:04.254346Z",
     "start_time": "2023-06-06T09:13:03.911727Z"
    }
   }
  },
  {
   "cell_type": "code",
   "execution_count": 13,
   "id": "70db5447",
   "metadata": {
    "ExecuteTime": {
     "end_time": "2023-06-06T09:13:04.381172Z",
     "start_time": "2023-06-06T09:13:04.253311Z"
    }
   },
   "outputs": [
    {
     "data": {
      "text/plain": "              Metric for Testing Set     Score\n0                           F1 Score  0.662286\n1                           Accuracy  0.894715\n2                  Balanced Accuracy  0.800931\n3  Matthew's Correlation Coefficient  0.599931",
      "text/html": "<div>\n<style scoped>\n    .dataframe tbody tr th:only-of-type {\n        vertical-align: middle;\n    }\n\n    .dataframe tbody tr th {\n        vertical-align: top;\n    }\n\n    .dataframe thead th {\n        text-align: right;\n    }\n</style>\n<table border=\"1\" class=\"dataframe\">\n  <thead>\n    <tr style=\"text-align: right;\">\n      <th></th>\n      <th>Metric for Testing Set</th>\n      <th>Score</th>\n    </tr>\n  </thead>\n  <tbody>\n    <tr>\n      <th>0</th>\n      <td>F1 Score</td>\n      <td>0.662286</td>\n    </tr>\n    <tr>\n      <th>1</th>\n      <td>Accuracy</td>\n      <td>0.894715</td>\n    </tr>\n    <tr>\n      <th>2</th>\n      <td>Balanced Accuracy</td>\n      <td>0.800931</td>\n    </tr>\n    <tr>\n      <th>3</th>\n      <td>Matthew's Correlation Coefficient</td>\n      <td>0.599931</td>\n    </tr>\n  </tbody>\n</table>\n</div>"
     },
     "execution_count": 13,
     "metadata": {},
     "output_type": "execute_result"
    }
   ],
   "source": [
    "final_model_evaluation_nb.get_final_model_performance()"
   ]
  },
  {
   "cell_type": "code",
   "execution_count": 24,
   "outputs": [
    {
     "data": {
      "text/plain": "['./models_exports/naive_bayes_classifier.joblib']"
     },
     "execution_count": 24,
     "metadata": {},
     "output_type": "execute_result"
    }
   ],
   "source": [
    "dump(final_model_evaluation_nb.model, \"./models_exports/naive_bayes_classifier.joblib\")"
   ],
   "metadata": {
    "collapsed": false,
    "ExecuteTime": {
     "end_time": "2023-06-06T09:56:56.093946Z",
     "start_time": "2023-06-06T09:56:56.072494Z"
    }
   }
  },
  {
   "attachments": {},
   "cell_type": "markdown",
   "id": "1b9eb7ad",
   "metadata": {},
   "source": [
    "### With SVC"
   ]
  },
  {
   "cell_type": "code",
   "execution_count": 14,
   "id": "77517a3b",
   "metadata": {
    "ExecuteTime": {
     "end_time": "2023-06-06T09:13:04.381524Z",
     "start_time": "2023-06-06T09:13:04.350875Z"
    }
   },
   "outputs": [],
   "source": [
    "sv_classifier = SVC(random_state=ModelConstants.RANDOM_STATE)"
   ]
  },
  {
   "cell_type": "code",
   "execution_count": 15,
   "id": "d23e07cb",
   "metadata": {
    "ExecuteTime": {
     "end_time": "2023-06-06T09:13:04.381691Z",
     "start_time": "2023-06-06T09:13:04.357883Z"
    }
   },
   "outputs": [],
   "source": [
    "svc_pipeline = Pipeline(\n",
    "    [(\"column_transformation\", column_transformation_1),\n",
    "    (\"data_sampling\", smote_oversampling ),\n",
    "     ('svc_model',sv_classifier)\n",
    "     ]    \n",
    ")\n",
    "\n"
   ]
  },
  {
   "cell_type": "code",
   "execution_count": 16,
   "id": "7b6dcfbc",
   "metadata": {
    "ExecuteTime": {
     "end_time": "2023-06-06T09:25:56.429893Z",
     "start_time": "2023-06-06T09:13:04.366769Z"
    }
   },
   "outputs": [
    {
     "name": "stdout",
     "output_type": "stream",
     "text": [
      "{   'column_transformation': ColumnTransformer(remainder='passthrough',\n",
      "                  transformers=[('onehotencoder', OneHotEncoder(),\n",
      "                                 ['Customer_Type']),\n",
      "                                ('ordinalencoder', OrdinalEncoder(),\n",
      "                                 ['SpecificHoliday']),\n",
      "                                ('functiontransformer',\n",
      "                                 FunctionTransformer(func=<ufunc 'log1p'>),\n",
      "                                 <sklearn.compose._column_transformer.make_column_selector object at 0x13eb5bac0>),\n",
      "                                ('drop', 'drop',\n",
      "                                 ['Info_Page_Time', 'Account_Page_Time',\n",
      "                                  'ProductPage_Time', 'Ad_Campaign_1',\n",
      "                                  'Ad_Campaign2', 'Ad_Campaign3'])]),\n",
      "    'data_sampling': SMOTE(random_state=123),\n",
      "    'svc_model__C': 100,\n",
      "    'svc_model__kernel': 'linear'}\n",
      "Best parameter (CV score: 0.659):\n"
     ]
    }
   ],
   "source": [
    "params_to_tune = {\n",
    "    \"column_transformation\" : [column_transformation_1],\n",
    "    \"data_sampling\":[smote_oversampling , adasyn_oversampling, \"passthrough\"],\n",
    "    \"svc_model__C\": [0.1, 1, 10, 100],\n",
    "    \"svc_model__kernel\" :[\"linear\"]\n",
    "}\n",
    "\n",
    "\n",
    "best_model_svc = (\n",
    "    TuneHyperParams()\n",
    "    .random_grid_search(\n",
    "    svc_pipeline,\n",
    "    params_to_tune\n",
    "    )\n",
    "    .fit_model(\n",
    "        data.TRAINING.predictors,\n",
    "        data.TRAINING.outcome\n",
    "    )\n",
    "    .get_best_model()\n",
    ");"
   ]
  },
  {
   "cell_type": "code",
   "execution_count": 16,
   "id": "9d69c7a4",
   "metadata": {
    "ExecuteTime": {
     "end_time": "2023-06-06T09:25:56.432492Z",
     "start_time": "2023-06-06T09:25:56.429539Z"
    }
   },
   "outputs": [],
   "source": []
  },
  {
   "cell_type": "code",
   "execution_count": 17,
   "id": "4ffb31af",
   "metadata": {
    "ExecuteTime": {
     "end_time": "2023-06-06T09:25:56.437240Z",
     "start_time": "2023-06-06T09:25:56.434873Z"
    }
   },
   "outputs": [],
   "source": [
    "final_model_evaluation_svc = FinalModelPerformance(\n",
    "    model=best_model_svc,\n",
    "    data=data\n",
    ")\n"
   ]
  },
  {
   "cell_type": "code",
   "execution_count": 20,
   "outputs": [
    {
     "data": {
      "text/plain": "                             Metric for Training Set       Score\n0                                fit_time mean score  165.977011\n1                              score_time mean score    0.251330\n2                      5-fold CV F1 Score mean score    0.659497\n3                      5-fold CV Accuracy mean score    0.874539\n4             5-fold CV Balanced Accuracy mean score    0.834882\n5  5-fold CV Matthew's Correlation Coefficient me...    0.595188",
      "text/html": "<div>\n<style scoped>\n    .dataframe tbody tr th:only-of-type {\n        vertical-align: middle;\n    }\n\n    .dataframe tbody tr th {\n        vertical-align: top;\n    }\n\n    .dataframe thead th {\n        text-align: right;\n    }\n</style>\n<table border=\"1\" class=\"dataframe\">\n  <thead>\n    <tr style=\"text-align: right;\">\n      <th></th>\n      <th>Metric for Training Set</th>\n      <th>Score</th>\n    </tr>\n  </thead>\n  <tbody>\n    <tr>\n      <th>0</th>\n      <td>fit_time mean score</td>\n      <td>165.977011</td>\n    </tr>\n    <tr>\n      <th>1</th>\n      <td>score_time mean score</td>\n      <td>0.251330</td>\n    </tr>\n    <tr>\n      <th>2</th>\n      <td>5-fold CV F1 Score mean score</td>\n      <td>0.659497</td>\n    </tr>\n    <tr>\n      <th>3</th>\n      <td>5-fold CV Accuracy mean score</td>\n      <td>0.874539</td>\n    </tr>\n    <tr>\n      <th>4</th>\n      <td>5-fold CV Balanced Accuracy mean score</td>\n      <td>0.834882</td>\n    </tr>\n    <tr>\n      <th>5</th>\n      <td>5-fold CV Matthew's Correlation Coefficient me...</td>\n      <td>0.595188</td>\n    </tr>\n  </tbody>\n</table>\n</div>"
     },
     "execution_count": 20,
     "metadata": {},
     "output_type": "execute_result"
    }
   ],
   "source": [
    "final_model_evaluation_svc.get_cross_validation_results()"
   ],
   "metadata": {
    "collapsed": false,
    "ExecuteTime": {
     "end_time": "2023-06-06T09:54:37.210172Z",
     "start_time": "2023-06-06T09:40:46.042887Z"
    }
   }
  },
  {
   "cell_type": "code",
   "execution_count": 19,
   "outputs": [
    {
     "data": {
      "text/plain": "              Metric for Testing Set     Score\n0                           F1 Score  0.682648\n1                           Accuracy  0.886112\n2                  Balanced Accuracy  0.781317\n3  Matthew's Correlation Coefficient  0.622174",
      "text/html": "<div>\n<style scoped>\n    .dataframe tbody tr th:only-of-type {\n        vertical-align: middle;\n    }\n\n    .dataframe tbody tr th {\n        vertical-align: top;\n    }\n\n    .dataframe thead th {\n        text-align: right;\n    }\n</style>\n<table border=\"1\" class=\"dataframe\">\n  <thead>\n    <tr style=\"text-align: right;\">\n      <th></th>\n      <th>Metric for Testing Set</th>\n      <th>Score</th>\n    </tr>\n  </thead>\n  <tbody>\n    <tr>\n      <th>0</th>\n      <td>F1 Score</td>\n      <td>0.682648</td>\n    </tr>\n    <tr>\n      <th>1</th>\n      <td>Accuracy</td>\n      <td>0.886112</td>\n    </tr>\n    <tr>\n      <th>2</th>\n      <td>Balanced Accuracy</td>\n      <td>0.781317</td>\n    </tr>\n    <tr>\n      <th>3</th>\n      <td>Matthew's Correlation Coefficient</td>\n      <td>0.622174</td>\n    </tr>\n  </tbody>\n</table>\n</div>"
     },
     "execution_count": 19,
     "metadata": {},
     "output_type": "execute_result"
    }
   ],
   "source": [
    "final_model_evaluation_svc.get_final_model_performance()"
   ],
   "metadata": {
    "collapsed": false,
    "ExecuteTime": {
     "end_time": "2023-06-06T09:40:46.040076Z",
     "start_time": "2023-06-06T09:36:07.661333Z"
    }
   }
  },
  {
   "cell_type": "code",
   "execution_count": 23,
   "outputs": [
    {
     "data": {
      "text/plain": "['./models_exports/support_vector_classifier.joblib']"
     },
     "execution_count": 23,
     "metadata": {},
     "output_type": "execute_result"
    }
   ],
   "source": [
    "dump(final_model_evaluation_svc.model, \"./models_exports/support_vector_classifier.joblib\")"
   ],
   "metadata": {
    "collapsed": false,
    "ExecuteTime": {
     "end_time": "2023-06-06T09:56:30.967294Z",
     "start_time": "2023-06-06T09:56:30.936363Z"
    }
   }
  },
  {
   "cell_type": "code",
   "execution_count": null,
   "outputs": [],
   "source": [],
   "metadata": {
    "collapsed": false
   }
  }
 ],
 "metadata": {
  "kernelspec": {
   "display_name": "Python 3 (ipykernel)",
   "language": "python",
   "name": "python3"
  },
  "language_info": {
   "codemirror_mode": {
    "name": "ipython",
    "version": 3
   },
   "file_extension": ".py",
   "mimetype": "text/x-python",
   "name": "python",
   "nbconvert_exporter": "python",
   "pygments_lexer": "ipython3",
   "version": "3.10.11"
  }
 },
 "nbformat": 4,
 "nbformat_minor": 5
}
