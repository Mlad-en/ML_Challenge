{
 "cells": [
  {
   "cell_type": "code",
   "execution_count": 1,
   "id": "3d77e0de-7c8c-4548-980a-af4643802029",
   "metadata": {},
   "outputs": [],
   "source": [
    "import pandas as pd\n",
    "import numpy as np\n"
   ]
  },
  {
   "cell_type": "code",
   "execution_count": 2,
   "id": "8bfe2f1d-8636-40c9-bd93-62209793bc38",
   "metadata": {},
   "outputs": [],
   "source": [
    "from sklearn.naive_bayes import BernoulliNB\n",
    "from sklearn.svm import SVC\n",
    "from sklearn.preprocessing import LabelEncoder, OrdinalEncoder, OneHotEncoder, FunctionTransformer\n",
    "from sklearn.compose import make_column_transformer, make_column_selector\n",
    "from sklearn.feature_selection import SequentialFeatureSelector\n",
    "from sklearn.decomposition import PCA\n",
    "from imblearn.pipeline import Pipeline\n",
    "from imblearn.over_sampling import SMOTE,ADASYN"
   ]
  },
  {
   "cell_type": "code",
   "execution_count": 3,
   "id": "8ec1b594-9d31-483c-8551-44b718f5785e",
   "metadata": {},
   "outputs": [],
   "source": [
    "from constants import Columns, ModelConstants\n",
    "from utils import (\n",
    "    TuneHyperParams, \n",
    "    TransactionDataset, \n",
    "    get_cross_validation_results, \n",
    "    get_final_model_performance\n",
    ")"
   ]
  },
  {
   "cell_type": "code",
   "execution_count": 4,
   "id": "a51cb51d-3559-465c-9f1c-c9f1d7fed005",
   "metadata": {},
   "outputs": [],
   "source": [
    "data = TransactionDataset().get_training_test_split()"
   ]
  },
  {
   "cell_type": "code",
   "execution_count": 5,
   "id": "3102991e",
   "metadata": {},
   "outputs": [],
   "source": [
    "drop_columns = [\n",
    "    Columns.INFO_PAGE_TIME,\n",
    "    Columns.ACCOUNT_PAGE_TIME,\n",
    "    Columns.PRODUCT_PAGE_TIME,\n",
    "    Columns.AD_CAMPAIGN_1, \n",
    "    Columns.AD_CAMPAIGN_2,\n",
    "    Columns.AD_CAMPAIGN_3\n",
    "]\n",
    "\n",
    "\n",
    "column_transformation_1 = make_column_transformer(\n",
    "    (OneHotEncoder(), [Columns.CUSTOMER_TYPE]),\n",
    "    (OrdinalEncoder(), [Columns.SPECIFIC_HOLIDAY]),\n",
    "    (FunctionTransformer(np.log1p), make_column_selector(dtype_include=\"number\")),\n",
    "    (\"drop\", drop_columns),\n",
    "    remainder=\"passthrough\"\n",
    ")\n",
    "\n",
    "column_transformation_2 =  make_column_transformer(\n",
    "    (OneHotEncoder(), [Columns.CUSTOMER_TYPE]),\n",
    "    (OrdinalEncoder(), [Columns.SPECIFIC_HOLIDAY]),\n",
    "    remainder=\"passthrough\"\n",
    ")"
   ]
  },
  {
   "cell_type": "code",
   "execution_count": 6,
   "id": "7aede107",
   "metadata": {},
   "outputs": [],
   "source": [
    "smote_oversampling = SMOTE (random_state= ModelConstants.RANDOM_STATE)\n",
    "adasyn_oversampling = ADASYN(random_state= ModelConstants.RANDOM_STATE)"
   ]
  },
  {
   "cell_type": "code",
   "execution_count": 7,
   "id": "4168c2f5",
   "metadata": {},
   "outputs": [],
   "source": [
    "nb_model = BernoulliNB(force_alpha=True)"
   ]
  },
  {
   "cell_type": "code",
   "execution_count": 8,
   "id": "44f5ff76",
   "metadata": {},
   "outputs": [],
   "source": [
    "principal_components = PCA()"
   ]
  },
  {
   "cell_type": "code",
   "execution_count": 9,
   "id": "c4e9242e",
   "metadata": {},
   "outputs": [],
   "source": [
    "nb_model_pipeline = Pipeline(\n",
    "    [\n",
    "        (\"column_transformations\", column_transformation_1),\n",
    "        (\"data_sampling\", smote_oversampling ),\n",
    "        (\"principal_components\", principal_components),\n",
    "        (\"nb_model\", nb_model)\n",
    "    ]\n",
    ")\n"
   ]
  },
  {
   "cell_type": "code",
   "execution_count": 19,
   "id": "47d62ca2",
   "metadata": {},
   "outputs": [
    {
     "name": "stdout",
     "output_type": "stream",
     "text": [
      "{'column_transformations': ColumnTransformer(remainder='passthrough',\n",
      "                  transformers=[('onehotencoder', OneHotEncoder(),\n",
      "                                 ['Customer_Type']),\n",
      "                                ('ordinalencoder', OrdinalEncoder(),\n",
      "                                 ['SpecificHoliday'])]), 'data_sampling': 'passthrough', 'nb_model__alpha': 0, 'nb_model__class_prior': [0.6, 0.3], 'principal_components__n_components': 5}\n",
      "Best parameter (CV score: 0.647):\n"
     ]
    }
   ],
   "source": [
    "params_to_tune = {\n",
    "    \"column_transformations\" : [column_transformation_1 ,column_transformation_2],\n",
    "    \"data_sampling\":[smote_oversampling , adasyn_oversampling, \"passthrough\"],\n",
    "    \"principal_components__n_components\": [3, 5, 7, 9, 11, 13],\n",
    "    \"nb_model__alpha\": [0, 0.7, 0.9, 1],\n",
    "    \"nb_model__class_prior\": [\n",
    "        [0.7, 0.25],\n",
    "        [0.6, 0.3],\n",
    "        [0.6, 0.35],\n",
    "        [0.7, 0.3],\n",
    "        [0.55, 0.35],\n",
    "        [0.55, 0.45]\n",
    "    ]\n",
    "}\n",
    "\n",
    "\n",
    "best_model = (\n",
    "    TuneHyperParams()\n",
    "    .full_grid_search(\n",
    "        nb_model_pipeline,\n",
    "        params_to_tune\n",
    "    )\n",
    "    .fit_model(\n",
    "        data.TRAINING.predictors,\n",
    "        data.TRAINING.outcome\n",
    "    )\n",
    "    .get_best_model()\n",
    ");\n"
   ]
  },
  {
   "cell_type": "code",
   "execution_count": 20,
   "id": "8293514e",
   "metadata": {},
   "outputs": [
    {
     "data": {
      "text/html": [
       "<div>\n",
       "<style scoped>\n",
       "    .dataframe tbody tr th:only-of-type {\n",
       "        vertical-align: middle;\n",
       "    }\n",
       "\n",
       "    .dataframe tbody tr th {\n",
       "        vertical-align: top;\n",
       "    }\n",
       "\n",
       "    .dataframe thead th {\n",
       "        text-align: right;\n",
       "    }\n",
       "</style>\n",
       "<table border=\"1\" class=\"dataframe\">\n",
       "  <thead>\n",
       "    <tr style=\"text-align: right;\">\n",
       "      <th></th>\n",
       "      <th>Metric for Training Set</th>\n",
       "      <th>Score</th>\n",
       "    </tr>\n",
       "  </thead>\n",
       "  <tbody>\n",
       "    <tr>\n",
       "      <th>0</th>\n",
       "      <td>fit_time mean score</td>\n",
       "      <td>0.149217</td>\n",
       "    </tr>\n",
       "    <tr>\n",
       "      <th>1</th>\n",
       "      <td>score_time mean score</td>\n",
       "      <td>0.032128</td>\n",
       "    </tr>\n",
       "    <tr>\n",
       "      <th>2</th>\n",
       "      <td>5-fold CV F1 Score mean score</td>\n",
       "      <td>0.646885</td>\n",
       "    </tr>\n",
       "    <tr>\n",
       "      <th>3</th>\n",
       "      <td>5-fold CV Accuracy mean score</td>\n",
       "      <td>0.885498</td>\n",
       "    </tr>\n",
       "    <tr>\n",
       "      <th>4</th>\n",
       "      <td>5-fold CV Balanced Accuracy mean score</td>\n",
       "      <td>0.798395</td>\n",
       "    </tr>\n",
       "    <tr>\n",
       "      <th>5</th>\n",
       "      <td>5-fold CV Matthew's Correlation Coefficient me...</td>\n",
       "      <td>0.579477</td>\n",
       "    </tr>\n",
       "  </tbody>\n",
       "</table>\n",
       "</div>"
      ],
      "text/plain": [
       "                             Metric for Training Set     Score\n",
       "0                                fit_time mean score  0.149217\n",
       "1                              score_time mean score  0.032128\n",
       "2                      5-fold CV F1 Score mean score  0.646885\n",
       "3                      5-fold CV Accuracy mean score  0.885498\n",
       "4             5-fold CV Balanced Accuracy mean score  0.798395\n",
       "5  5-fold CV Matthew's Correlation Coefficient me...  0.579477"
      ]
     },
     "execution_count": 20,
     "metadata": {},
     "output_type": "execute_result"
    }
   ],
   "source": [
    "get_cross_validation_results(\n",
    "    best_model,\n",
    "    data.TRAINING.predictors,\n",
    "    data.TRAINING.outcome\n",
    ")"
   ]
  },
  {
   "cell_type": "code",
   "execution_count": 21,
   "id": "70db5447",
   "metadata": {},
   "outputs": [
    {
     "data": {
      "text/html": [
       "<div>\n",
       "<style scoped>\n",
       "    .dataframe tbody tr th:only-of-type {\n",
       "        vertical-align: middle;\n",
       "    }\n",
       "\n",
       "    .dataframe tbody tr th {\n",
       "        vertical-align: top;\n",
       "    }\n",
       "\n",
       "    .dataframe thead th {\n",
       "        text-align: right;\n",
       "    }\n",
       "</style>\n",
       "<table border=\"1\" class=\"dataframe\">\n",
       "  <thead>\n",
       "    <tr style=\"text-align: right;\">\n",
       "      <th></th>\n",
       "      <th>Metric for Testing Set</th>\n",
       "      <th>Score</th>\n",
       "    </tr>\n",
       "  </thead>\n",
       "  <tbody>\n",
       "    <tr>\n",
       "      <th>0</th>\n",
       "      <td>F1 Score</td>\n",
       "      <td>0.662286</td>\n",
       "    </tr>\n",
       "    <tr>\n",
       "      <th>1</th>\n",
       "      <td>Accuracy</td>\n",
       "      <td>0.894715</td>\n",
       "    </tr>\n",
       "    <tr>\n",
       "      <th>2</th>\n",
       "      <td>Balanced Accuracy</td>\n",
       "      <td>0.800931</td>\n",
       "    </tr>\n",
       "    <tr>\n",
       "      <th>3</th>\n",
       "      <td>Matthew's Correlation Coefficient</td>\n",
       "      <td>0.599931</td>\n",
       "    </tr>\n",
       "  </tbody>\n",
       "</table>\n",
       "</div>"
      ],
      "text/plain": [
       "              Metric for Testing Set     Score\n",
       "0                           F1 Score  0.662286\n",
       "1                           Accuracy  0.894715\n",
       "2                  Balanced Accuracy  0.800931\n",
       "3  Matthew's Correlation Coefficient  0.599931"
      ]
     },
     "execution_count": 21,
     "metadata": {},
     "output_type": "execute_result"
    }
   ],
   "source": [
    "get_final_model_performance(\n",
    "    best_model,\n",
    "    data.TRAINING,\n",
    "    data.TESTING\n",
    ")"
   ]
  },
  {
   "attachments": {},
   "cell_type": "markdown",
   "id": "1b9eb7ad",
   "metadata": {},
   "source": [
    "### With SVC"
   ]
  },
  {
   "cell_type": "code",
   "execution_count": 10,
   "id": "77517a3b",
   "metadata": {},
   "outputs": [],
   "source": [
    "sv_classifier = SVC()"
   ]
  },
  {
   "cell_type": "code",
   "execution_count": 11,
   "id": "d23e07cb",
   "metadata": {},
   "outputs": [],
   "source": [
    "svc_pipeline = Pipeline(\n",
    "    [(\"column_transformation\", column_transformation_1),\n",
    "    (\"data_sampling\", smote_oversampling ),\n",
    "     ('svc_model',sv_classifier)\n",
    "     ]    \n",
    ")\n",
    "\n"
   ]
  },
  {
   "cell_type": "code",
   "execution_count": 12,
   "id": "7b6dcfbc",
   "metadata": {},
   "outputs": [
    {
     "name": "stdout",
     "output_type": "stream",
     "text": [
      "{'column_transformation': ColumnTransformer(remainder='passthrough',\n",
      "                  transformers=[('onehotencoder', OneHotEncoder(),\n",
      "                                 ['Customer_Type']),\n",
      "                                ('ordinalencoder', OrdinalEncoder(),\n",
      "                                 ['SpecificHoliday']),\n",
      "                                ('functiontransformer',\n",
      "                                 FunctionTransformer(func=<ufunc 'log1p'>),\n",
      "                                 <sklearn.compose._column_transformer.make_column_selector object at 0x120d4b5e0>),\n",
      "                                ('drop', 'drop',\n",
      "                                 ['Info_Page_Time', 'Account_Page_Time',\n",
      "                                  'ProductPage_Time', 'Ad_Campaign_1',\n",
      "                                  'Ad_Campaign2', 'Ad_Campaign3'])]), 'data_sampling': SMOTE(random_state=123), 'svc_model__C': 100, 'svc_model__kernel': 'linear'}\n",
      "Best parameter (CV score: 0.659):\n"
     ]
    }
   ],
   "source": [
    "params_to_tune = {\n",
    "    \"column_transformation\" : [column_transformation_1],\n",
    "    \"data_sampling\":[smote_oversampling , adasyn_oversampling, \"passthrough\"],\n",
    "    \"svc_model__C\": [0.1, 1, 10, 100],\n",
    "    \"svc_model__kernel\" :[\"linear\"]\n",
    "}\n",
    "\n",
    "\n",
    "best_model_svc = (\n",
    "    TuneHyperParams()\n",
    "    .full_grid_search(\n",
    "    svc_pipeline,\n",
    "    params_to_tune\n",
    "    )\n",
    "    .fit_model(\n",
    "        data.TRAINING.predictors,\n",
    "        data.TRAINING.outcome\n",
    "    )\n",
    "    .get_best_model()\n",
    ");"
   ]
  },
  {
   "cell_type": "code",
   "execution_count": 13,
   "id": "9d69c7a4",
   "metadata": {},
   "outputs": [
    {
     "data": {
      "text/html": [
       "<div>\n",
       "<style scoped>\n",
       "    .dataframe tbody tr th:only-of-type {\n",
       "        vertical-align: middle;\n",
       "    }\n",
       "\n",
       "    .dataframe tbody tr th {\n",
       "        vertical-align: top;\n",
       "    }\n",
       "\n",
       "    .dataframe thead th {\n",
       "        text-align: right;\n",
       "    }\n",
       "</style>\n",
       "<table border=\"1\" class=\"dataframe\">\n",
       "  <thead>\n",
       "    <tr style=\"text-align: right;\">\n",
       "      <th></th>\n",
       "      <th>Metric for Training Set</th>\n",
       "      <th>Score</th>\n",
       "    </tr>\n",
       "  </thead>\n",
       "  <tbody>\n",
       "    <tr>\n",
       "      <th>0</th>\n",
       "      <td>fit_time mean score</td>\n",
       "      <td>484.943950</td>\n",
       "    </tr>\n",
       "    <tr>\n",
       "      <th>1</th>\n",
       "      <td>score_time mean score</td>\n",
       "      <td>0.349254</td>\n",
       "    </tr>\n",
       "    <tr>\n",
       "      <th>2</th>\n",
       "      <td>5-fold CV F1 Score mean score</td>\n",
       "      <td>0.659497</td>\n",
       "    </tr>\n",
       "    <tr>\n",
       "      <th>3</th>\n",
       "      <td>5-fold CV Accuracy mean score</td>\n",
       "      <td>0.874539</td>\n",
       "    </tr>\n",
       "    <tr>\n",
       "      <th>4</th>\n",
       "      <td>5-fold CV Balanced Accuracy mean score</td>\n",
       "      <td>0.834882</td>\n",
       "    </tr>\n",
       "    <tr>\n",
       "      <th>5</th>\n",
       "      <td>5-fold CV Matthew's Correlation Coefficient me...</td>\n",
       "      <td>0.595188</td>\n",
       "    </tr>\n",
       "  </tbody>\n",
       "</table>\n",
       "</div>"
      ],
      "text/plain": [
       "                             Metric for Training Set       Score\n",
       "0                                fit_time mean score  484.943950\n",
       "1                              score_time mean score    0.349254\n",
       "2                      5-fold CV F1 Score mean score    0.659497\n",
       "3                      5-fold CV Accuracy mean score    0.874539\n",
       "4             5-fold CV Balanced Accuracy mean score    0.834882\n",
       "5  5-fold CV Matthew's Correlation Coefficient me...    0.595188"
      ]
     },
     "execution_count": 13,
     "metadata": {},
     "output_type": "execute_result"
    }
   ],
   "source": [
    "get_cross_validation_results(\n",
    "    best_model_svc,\n",
    "    data.TRAINING.predictors,\n",
    "    data.TRAINING.outcome\n",
    ")"
   ]
  },
  {
   "cell_type": "code",
   "execution_count": 12,
   "id": "4ffb31af",
   "metadata": {},
   "outputs": [
    {
     "data": {
      "text/html": [
       "<div>\n",
       "<style scoped>\n",
       "    .dataframe tbody tr th:only-of-type {\n",
       "        vertical-align: middle;\n",
       "    }\n",
       "\n",
       "    .dataframe tbody tr th {\n",
       "        vertical-align: top;\n",
       "    }\n",
       "\n",
       "    .dataframe thead th {\n",
       "        text-align: right;\n",
       "    }\n",
       "</style>\n",
       "<table border=\"1\" class=\"dataframe\">\n",
       "  <thead>\n",
       "    <tr style=\"text-align: right;\">\n",
       "      <th></th>\n",
       "      <th>Metric for Testing Set</th>\n",
       "      <th>Score</th>\n",
       "    </tr>\n",
       "  </thead>\n",
       "  <tbody>\n",
       "    <tr>\n",
       "      <th>0</th>\n",
       "      <td>F1 Score</td>\n",
       "      <td>0.672508</td>\n",
       "    </tr>\n",
       "    <tr>\n",
       "      <th>1</th>\n",
       "      <td>Accuracy</td>\n",
       "      <td>0.877509</td>\n",
       "    </tr>\n",
       "    <tr>\n",
       "      <th>2</th>\n",
       "      <td>Balanced Accuracy</td>\n",
       "      <td>0.769444</td>\n",
       "    </tr>\n",
       "    <tr>\n",
       "      <th>3</th>\n",
       "      <td>Matthew's Correlation Coefficient</td>\n",
       "      <td>0.611931</td>\n",
       "    </tr>\n",
       "  </tbody>\n",
       "</table>\n",
       "</div>"
      ],
      "text/plain": [
       "              Metric for Testing Set     Score\n",
       "0                           F1 Score  0.672508\n",
       "1                           Accuracy  0.877509\n",
       "2                  Balanced Accuracy  0.769444\n",
       "3  Matthew's Correlation Coefficient  0.611931"
      ]
     },
     "execution_count": 12,
     "metadata": {},
     "output_type": "execute_result"
    }
   ],
   "source": [
    "get_final_model_performance( svc_pipeline,\n",
    "        data.TRAINING,\n",
    "        data.TESTING)"
   ]
  }
 ],
 "metadata": {
  "kernelspec": {
   "display_name": "Python 3 (ipykernel)",
   "language": "python",
   "name": "python3"
  },
  "language_info": {
   "codemirror_mode": {
    "name": "ipython",
    "version": 3
   },
   "file_extension": ".py",
   "mimetype": "text/x-python",
   "name": "python",
   "nbconvert_exporter": "python",
   "pygments_lexer": "ipython3",
   "version": "3.10.11"
  }
 },
 "nbformat": 4,
 "nbformat_minor": 5
}
