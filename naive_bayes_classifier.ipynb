{
 "cells": [
  {
   "cell_type": "code",
   "execution_count": 1,
   "id": "3d77e0de-7c8c-4548-980a-af4643802029",
   "metadata": {},
   "outputs": [],
   "source": [
    "import pandas as pd\n",
    "import numpy as np"
   ]
  },
  {
   "cell_type": "code",
   "execution_count": 27,
   "id": "8bfe2f1d-8636-40c9-bd93-62209793bc38",
   "metadata": {},
   "outputs": [],
   "source": [
    "from sklearn.naive_bayes import BernoulliNB\n",
    "from sklearn.svm import SVC\n",
    "from sklearn.preprocessing import LabelEncoder, OrdinalEncoder, OneHotEncoder, FunctionTransformer\n",
    "from sklearn.compose import make_column_transformer, make_column_selector\n",
    "from sklearn.pipeline import Pipeline\n",
    "from sklearn.feature_selection import SequentialFeatureSelector\n",
    "from sklearn.decomposition import PCA\n"
   ]
  },
  {
   "cell_type": "code",
   "execution_count": 3,
   "id": "8ec1b594-9d31-483c-8551-44b718f5785e",
   "metadata": {},
   "outputs": [],
   "source": [
    "from constants import Columns, ModelConstants\n",
    "from utils import TuneHyperParams, TransactionDataset, get_cross_validation_results"
   ]
  },
  {
   "cell_type": "code",
   "execution_count": 4,
   "id": "a51cb51d-3559-465c-9f1c-c9f1d7fed005",
   "metadata": {},
   "outputs": [],
   "source": [
    "data = TransactionDataset().get_training_test_split()"
   ]
  },
  {
   "cell_type": "code",
   "execution_count": 36,
   "id": "3102991e",
   "metadata": {},
   "outputs": [],
   "source": [
    "drop_columns = [\n",
    "    Columns.INFO_PAGE_TIME,\n",
    "    Columns.ACCOUNT_PAGE_TIME,\n",
    "    Columns.PRODUCT_PAGE_TIME,\n",
    "    Columns.AD_CAMPAIGN_1, \n",
    "    Columns.AD_CAMPAIGN_2,\n",
    "    Columns.AD_CAMPAIGN_3\n",
    "]\n",
    "\n",
    "\n",
    "column_transformation_1 = make_column_transformer(\n",
    "    (OneHotEncoder(), [Columns.CUSTOMER_TYPE]),\n",
    "    (OrdinalEncoder(), [Columns.SPECIFIC_HOLIDAY]),\n",
    "    (FunctionTransformer(np.log1p), make_column_selector(dtype_include=\"number\")),\n",
    "    (\"drop\", drop_columns),\n",
    "    remainder=\"passthrough\"\n",
    ")\n",
    "\n",
    "column_transformation_2 =  make_column_transformer(\n",
    "    (OneHotEncoder(), [Columns.CUSTOMER_TYPE]),\n",
    "    (OrdinalEncoder(), [Columns.SPECIFIC_HOLIDAY]),\n",
    "    remainder=\"passthrough\"\n",
    ")"
   ]
  },
  {
   "cell_type": "code",
   "execution_count": 16,
   "id": "4168c2f5",
   "metadata": {},
   "outputs": [],
   "source": [
    "nb_model = BernoulliNB(force_alpha=True)"
   ]
  },
  {
   "cell_type": "code",
   "execution_count": 17,
   "id": "44f5ff76",
   "metadata": {},
   "outputs": [],
   "source": [
    "principal_components = PCA()"
   ]
  },
  {
   "cell_type": "code",
   "execution_count": 23,
   "id": "c4e9242e",
   "metadata": {},
   "outputs": [],
   "source": [
    "nb_model_pipeline_1 = Pipeline(\n",
    "    [\n",
    "        (\"column_transformations\", column_transformation_1),\n",
    "        (\"principal_components\", principal_components),\n",
    "        (\"nb_model\", nb_model)\n",
    "    ]\n",
    ")\n",
    "\n",
    "nb_model_pipeline_2 = Pipeline(\n",
    "    [\n",
    "        (\"column_transformations\", column_transformation_2),\n",
    "        (\"principal_components\", principal_components),\n",
    "        (\"nb_model\", nb_model)\n",
    "    ]\n",
    ")"
   ]
  },
  {
   "cell_type": "code",
   "execution_count": 34,
   "id": "47d62ca2",
   "metadata": {},
   "outputs": [
    {
     "name": "stdout",
     "output_type": "stream",
     "text": [
      "{'nb_model__alpha': 0, 'nb_model__class_prior': [0.6, 0.3], 'principal_components__n_components': 5}\n",
      "Best parameter (CV score: 0.647):\n"
     ]
    }
   ],
   "source": [
    "params_to_tune = {\n",
    "    \"principal_components__n_components\": [3, 5, 7, 9, 11, 13],\n",
    "    \"nb_model__alpha\": [0, 0.7, 0.9, 1],\n",
    "    \"nb_model__class_prior\": [\n",
    "        [0.7, 0.25],\n",
    "        [0.6, 0.3],\n",
    "        [0.6, 0.35],\n",
    "        [0.7, 0.3],\n",
    "        [0.55, 0.35],\n",
    "        [0.55, 0.45]\n",
    "    ]\n",
    "}\n",
    "\n",
    "\n",
    "gs = (\n",
    "    TuneHyperParams()\n",
    "    .grid_search(\n",
    "        nb_model_pipeline_2,\n",
    "        params_to_tune\n",
    "    )\n",
    "    .fit_model(\n",
    "        data.TRAINING.predictors,\n",
    "        data.TRAINING.outcome\n",
    "    )\n",
    "    .get_best_scores_and_params()\n",
    ");\n"
   ]
  },
  {
   "cell_type": "code",
   "execution_count": 35,
   "id": "7e1dd4aa",
   "metadata": {},
   "outputs": [
    {
     "name": "stdout",
     "output_type": "stream",
     "text": [
      "{'nb_model__alpha': 0, 'nb_model__class_prior': [0.55, 0.45], 'principal_components__n_components': 5}\n",
      "Best parameter (CV score: 0.620):\n"
     ]
    }
   ],
   "source": [
    "params_to_tune = {\n",
    "    \"principal_components__n_components\": [3, 5, 7, 9, 11, 13],\n",
    "    \"nb_model__alpha\": [0, 0.7, 0.9, 1],\n",
    "    \"nb_model__class_prior\": [\n",
    "        [0.7, 0.25],\n",
    "        [0.6, 0.3],\n",
    "        [0.6, 0.35],\n",
    "        [0.7, 0.3],\n",
    "        [0.55, 0.35],\n",
    "        [0.55, 0.45]\n",
    "    ]\n",
    "}\n",
    "\n",
    "\n",
    "gs = (\n",
    "    TuneHyperParams()\n",
    "    .grid_search(\n",
    "        nb_model_pipeline_1,\n",
    "        params_to_tune\n",
    "    )\n",
    "    .fit_model(\n",
    "        data.TRAINING.predictors,\n",
    "        data.TRAINING.outcome\n",
    "    )\n",
    "    .get_best_scores_and_params()\n",
    ");\n"
   ]
  },
  {
   "attachments": {},
   "cell_type": "markdown",
   "id": "1b9eb7ad",
   "metadata": {},
   "source": [
    "### With SVC"
   ]
  },
  {
   "cell_type": "code",
   "execution_count": 51,
   "id": "77517a3b",
   "metadata": {},
   "outputs": [],
   "source": [
    "sv_classifier = SVC()"
   ]
  },
  {
   "cell_type": "code",
   "execution_count": 52,
   "id": "d23e07cb",
   "metadata": {},
   "outputs": [],
   "source": [
    "svc_pipeline1 = Pipeline(\n",
    "    [(\"column_transformation\", column_transformation_1),\n",
    "     ('svc_model',sv_classifier)\n",
    "     ]    \n",
    ")\n",
    "\n",
    "svc_pipeline2= Pipeline([(\"column_transformation\",column_transformation_2),\n",
    "                         ('svc_model', sv_classifier)\n",
    "                         ]\n",
    ")"
   ]
  },
  {
   "cell_type": "code",
   "execution_count": 57,
   "id": "7b6dcfbc",
   "metadata": {},
   "outputs": [
    {
     "name": "stderr",
     "output_type": "stream",
     "text": [
      "/Users/shanxie/.local/share/virtualenvs/ML_Challenge-_ai04I7D/lib/python3.10/site-packages/sklearn/model_selection/_validation.py:378: FitFailedWarning: \n",
      "30 fits failed out of a total of 150.\n",
      "The score on these train-test partitions for these parameters will be set to nan.\n",
      "If these failures are not expected, you can try to debug them by setting error_score='raise'.\n",
      "\n",
      "Below are more details about the failures:\n",
      "--------------------------------------------------------------------------------\n",
      "30 fits failed with the following error:\n",
      "Traceback (most recent call last):\n",
      "  File \"/Users/shanxie/.local/share/virtualenvs/ML_Challenge-_ai04I7D/lib/python3.10/site-packages/sklearn/model_selection/_validation.py\", line 686, in _fit_and_score\n",
      "    estimator.fit(X_train, y_train, **fit_params)\n",
      "  File \"/Users/shanxie/.local/share/virtualenvs/ML_Challenge-_ai04I7D/lib/python3.10/site-packages/sklearn/pipeline.py\", line 405, in fit\n",
      "    self._final_estimator.fit(Xt, y, **fit_params_last_step)\n",
      "  File \"/Users/shanxie/.local/share/virtualenvs/ML_Challenge-_ai04I7D/lib/python3.10/site-packages/sklearn/svm/_base.py\", line 180, in fit\n",
      "    self._validate_params()\n",
      "  File \"/Users/shanxie/.local/share/virtualenvs/ML_Challenge-_ai04I7D/lib/python3.10/site-packages/sklearn/base.py\", line 600, in _validate_params\n",
      "    validate_parameter_constraints(\n",
      "  File \"/Users/shanxie/.local/share/virtualenvs/ML_Challenge-_ai04I7D/lib/python3.10/site-packages/sklearn/utils/_param_validation.py\", line 97, in validate_parameter_constraints\n",
      "    raise InvalidParameterError(\n",
      "sklearn.utils._param_validation.InvalidParameterError: The 'C' parameter of SVC must be a float in the range (0.0, inf). Got 0.0 instead.\n",
      "\n",
      "  warnings.warn(some_fits_failed_message, FitFailedWarning)\n",
      "/Users/shanxie/.local/share/virtualenvs/ML_Challenge-_ai04I7D/lib/python3.10/site-packages/sklearn/model_selection/_search.py:952: UserWarning: One or more of the test scores are non-finite: [       nan        nan        nan        nan        nan        nan\n",
      " 0.6607115  0.01557606 0.30244805 0.45369559 0.56559549 0.\n",
      " 0.65973929 0.37351301 0.44655707 0.5052477  0.56807591 0.14997775\n",
      " 0.65747177 0.41573081 0.46900174 0.51483159 0.5665817  0.30519521\n",
      " 0.64513796 0.44414557 0.49520272 0.52874662 0.57020685 0.34903552]\n",
      "  warnings.warn(\n"
     ]
    },
    {
     "name": "stdout",
     "output_type": "stream",
     "text": [
      "{'svc_model__C': 0.1, 'svc_model__class_weight': 'balanced'}\n",
      "Best parameter (CV score: 0.661):\n"
     ]
    }
   ],
   "source": [
    "params_to_tune = {\n",
    "    \"svc_model__C\": [0.0, 0.1, 1, 10, 100],\n",
    "     \"svc_model__class_weight\": [\n",
    "        \"balanced\",\n",
    "        {1: 0.3, 0:0.7},\n",
    "        {1: 0.35, 0:0.65},\n",
    "        {1: 0.4, 0:0.6},\n",
    "        {1: 0.45, 0:0.55},\n",
    "        {1: 0.2, 0:0.8},\n",
    "    ]\n",
    "}\n",
    "\n",
    "\n",
    "gs = (\n",
    "    TuneHyperParams()\n",
    "    .grid_search(\n",
    "    svc_pipeline1,\n",
    "    params_to_tune\n",
    "    )\n",
    "    .fit_model(\n",
    "        data.TRAINING.predictors,\n",
    "        data.TRAINING.outcome\n",
    "    )\n",
    "    .get_best_scores_and_params()\n",
    ");"
   ]
  },
  {
   "cell_type": "code",
   "execution_count": 55,
   "id": "30595a2a",
   "metadata": {},
   "outputs": [
    {
     "name": "stderr",
     "output_type": "stream",
     "text": [
      "/Users/shanxie/.local/share/virtualenvs/ML_Challenge-_ai04I7D/lib/python3.10/site-packages/sklearn/model_selection/_validation.py:378: FitFailedWarning: \n",
      "30 fits failed out of a total of 150.\n",
      "The score on these train-test partitions for these parameters will be set to nan.\n",
      "If these failures are not expected, you can try to debug them by setting error_score='raise'.\n",
      "\n",
      "Below are more details about the failures:\n",
      "--------------------------------------------------------------------------------\n",
      "30 fits failed with the following error:\n",
      "Traceback (most recent call last):\n",
      "  File \"/Users/shanxie/.local/share/virtualenvs/ML_Challenge-_ai04I7D/lib/python3.10/site-packages/sklearn/model_selection/_validation.py\", line 686, in _fit_and_score\n",
      "    estimator.fit(X_train, y_train, **fit_params)\n",
      "  File \"/Users/shanxie/.local/share/virtualenvs/ML_Challenge-_ai04I7D/lib/python3.10/site-packages/sklearn/pipeline.py\", line 405, in fit\n",
      "    self._final_estimator.fit(Xt, y, **fit_params_last_step)\n",
      "  File \"/Users/shanxie/.local/share/virtualenvs/ML_Challenge-_ai04I7D/lib/python3.10/site-packages/sklearn/svm/_base.py\", line 180, in fit\n",
      "    self._validate_params()\n",
      "  File \"/Users/shanxie/.local/share/virtualenvs/ML_Challenge-_ai04I7D/lib/python3.10/site-packages/sklearn/base.py\", line 600, in _validate_params\n",
      "    validate_parameter_constraints(\n",
      "  File \"/Users/shanxie/.local/share/virtualenvs/ML_Challenge-_ai04I7D/lib/python3.10/site-packages/sklearn/utils/_param_validation.py\", line 97, in validate_parameter_constraints\n",
      "    raise InvalidParameterError(\n",
      "sklearn.utils._param_validation.InvalidParameterError: The 'C' parameter of SVC must be a float in the range (0.0, inf). Got 0.0 instead.\n",
      "\n",
      "  warnings.warn(some_fits_failed_message, FitFailedWarning)\n",
      "/Users/shanxie/.local/share/virtualenvs/ML_Challenge-_ai04I7D/lib/python3.10/site-packages/sklearn/model_selection/_search.py:952: UserWarning: One or more of the test scores are non-finite: [       nan        nan        nan        nan        nan        nan\n",
      " 0.34698246 0.         0.         0.         0.         0.\n",
      " 0.40919687 0.         0.         0.         0.         0.\n",
      " 0.54720005 0.02835428 0.08856512 0.1589718  0.23988692 0.\n",
      " 0.60353244 0.28711311 0.3489518  0.40227126 0.44193269 0.03545825]\n",
      "  warnings.warn(\n"
     ]
    },
    {
     "name": "stdout",
     "output_type": "stream",
     "text": [
      "{'svc_model__C': 100, 'svc_model__class_weight': 'balanced'}\n",
      "Best parameter (CV score: 0.604):\n"
     ]
    }
   ],
   "source": [
    "params_to_tune = {\n",
    "    \"svc_model__C\": [0.0, 0.1, 1, 10, 100],\n",
    "    \"svc_model__class_weight\": [\n",
    "        \"balanced\",\n",
    "        {1: 0.3, 0:0.7},\n",
    "        {1: 0.35, 0:0.65},\n",
    "        {1: 0.4, 0:0.6},\n",
    "        {1: 0.45, 0:0.55},\n",
    "        {1: 0.2, 0:0.8},\n",
    "    ]\n",
    "    \n",
    "}\n",
    "\n",
    "\n",
    "gs = (\n",
    "    TuneHyperParams()\n",
    "    .grid_search(\n",
    "    svc_pipeline2,\n",
    "    params_to_tune\n",
    "    )\n",
    "    .fit_model(\n",
    "        data.TRAINING.predictors,\n",
    "        data.TRAINING.outcome\n",
    "    )\n",
    "    .get_best_scores_and_params()\n",
    ");"
   ]
  },
  {
   "cell_type": "code",
   "execution_count": 61,
   "id": "6a7b1868",
   "metadata": {},
   "outputs": [
    {
     "ename": "NameError",
     "evalue": "name 'get_final_model_performance' is not defined",
     "output_type": "error",
     "traceback": [
      "\u001b[0;31m---------------------------------------------------------------------------\u001b[0m",
      "\u001b[0;31mNameError\u001b[0m                                 Traceback (most recent call last)",
      "Cell \u001b[0;32mIn[61], line 1\u001b[0m\n\u001b[0;32m----> 1\u001b[0m get_final_model_performance(\n\u001b[1;32m      2\u001b[0m     svc_pipeline2\u001b[39m.\u001b[39mclasses,\n\u001b[1;32m      3\u001b[0m     data\u001b[39m.\u001b[39mTRAINING,\n\u001b[1;32m      4\u001b[0m     data\u001b[39m.\u001b[39mTESTING\n\u001b[1;32m      5\u001b[0m \n\u001b[1;32m      6\u001b[0m )\n",
      "\u001b[0;31mNameError\u001b[0m: name 'get_final_model_performance' is not defined"
     ]
    }
   ],
   "source": []
  }
 ],
 "metadata": {
  "kernelspec": {
   "display_name": "Python 3 (ipykernel)",
   "language": "python",
   "name": "python3"
  },
  "language_info": {
   "codemirror_mode": {
    "name": "ipython",
    "version": 3
   },
   "file_extension": ".py",
   "mimetype": "text/x-python",
   "name": "python",
   "nbconvert_exporter": "python",
   "pygments_lexer": "ipython3",
   "version": "3.10.11"
  }
 },
 "nbformat": 4,
 "nbformat_minor": 5
}
