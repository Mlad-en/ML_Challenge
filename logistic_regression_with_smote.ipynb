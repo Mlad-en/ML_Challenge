{
 "cells": [
  {
   "cell_type": "code",
   "execution_count": 1,
   "outputs": [],
   "source": [
    "import warnings\n",
    "warnings.filterwarnings(\"ignore\")"
   ],
   "metadata": {
    "collapsed": false
   }
  },
  {
   "cell_type": "code",
   "execution_count": 2,
   "metadata": {},
   "outputs": [],
   "source": [
    "from utils import (\n",
    "    get_cross_validation_results, \n",
    "    TransactionDataset,\n",
    "    TuneHyperParams,\n",
    ")\n",
    "\n",
    "from constants import Resample, Columns, ModelConstants"
   ]
  },
  {
   "cell_type": "code",
   "execution_count": 3,
   "metadata": {},
   "outputs": [],
   "source": [
    "import numpy as np\n",
    "\n",
    "from sklearn.linear_model import LogisticRegression\n",
    "from sklearn.decomposition import PCA\n",
    "from sklearn.preprocessing import OneHotEncoder, OrdinalEncoder, FunctionTransformer, Normalizer\n",
    "from sklearn.pipeline import Pipeline\n",
    "from sklearn.compose import make_column_transformer, make_column_selector\n",
    "from sklearn.metrics import f1_score"
   ]
  },
  {
   "cell_type": "code",
   "execution_count": 4,
   "metadata": {},
   "outputs": [],
   "source": [
    "data = TransactionDataset().get_training_test_split(resample=Resample.smote)"
   ]
  },
  {
   "cell_type": "markdown",
   "source": [
    "### Defining Column Transformations"
   ],
   "metadata": {
    "collapsed": false
   }
  },
  {
   "cell_type": "code",
   "execution_count": 5,
   "outputs": [],
   "source": [
    "log_transform = FunctionTransformer(\n",
    "    func=np.log1p, inverse_func=np.expm1, check_inverse=False\n",
    ")\n",
    "\n",
    "log_and_ordinal_transforms = make_column_transformer(\n",
    "    (OneHotEncoder(), [Columns.CUSTOMER_TYPE]),\n",
    "    (OrdinalEncoder(), [Columns.SPECIFIC_HOLIDAY]),\n",
    "    (log_transform, make_column_selector(dtype_include=\"number\"))\n",
    ")\n",
    "\n",
    "norm_and_one_hot_transforms = make_column_transformer(\n",
    "    (OneHotEncoder(), [Columns.SPECIFIC_HOLIDAY, Columns.CUSTOMER_TYPE]),\n",
    "    (Normalizer(), make_column_selector(dtype_include=\"number\"))\n",
    ")"
   ],
   "metadata": {
    "collapsed": false
   }
  },
  {
   "cell_type": "code",
   "execution_count": 6,
   "outputs": [],
   "source": [
    "regression_model = LogisticRegression(\n",
    "    random_state=ModelConstants.RANDOM_STATE,\n",
    "    max_iter=ModelConstants.MAX_ITERATIONS * 10,\n",
    "    warm_start=True\n",
    ")"
   ],
   "metadata": {
    "collapsed": false
   }
  },
  {
   "cell_type": "code",
   "execution_count": 7,
   "outputs": [],
   "source": [
    "log_and_ordinal_model_pipeline = Pipeline(\n",
    "    [\n",
    "        (\"column_transformation\", log_and_ordinal_transforms),\n",
    "        (\"logistic_regression\", regression_model)\n",
    "    ]\n",
    ")\n",
    "\n",
    "norm_and_one_hot_model_pipeline = Pipeline(\n",
    "    [\n",
    "        (\"column_transformation\", norm_and_one_hot_transforms),\n",
    "        (\"logistic_regression\", regression_model)\n",
    "    ]\n",
    ")"
   ],
   "metadata": {
    "collapsed": false
   }
  },
  {
   "cell_type": "code",
   "execution_count": 8,
   "outputs": [],
   "source": [
    "tuning_params = {\n",
    "    \"logistic_regression__penalty\": [\"l1\", \"l2\"],\n",
    "    \"logistic_regression__solver\": [\"saga\", \"liblinear\"],\n",
    "    \"logistic_regression__C\": [0.1, 0.5, 1, 1.5, 2, 2.5, 3],\n",
    "    \"logistic_regression__class_weight\": [\n",
    "        \"balanced\",\n",
    "        {1: 0.55, 0: 0.45},\n",
    "        {1: 0.6, 0: 0.4},\n",
    "        {1: 0.65, 0: 0.35},\n",
    "        {1: 0.7, 0: 0.3},\n",
    "        {1: 0.75, 0: 0.25},\n",
    "        {1: 0.8, 0: 0.2},\n",
    "    ],\n",
    "}"
   ],
   "metadata": {
    "collapsed": false
   }
  },
  {
   "cell_type": "code",
   "execution_count": 9,
   "outputs": [
    {
     "name": "stdout",
     "output_type": "stream",
     "text": [
      "{'logistic_regression__C': 0.1, 'logistic_regression__class_weight': {1: 0.6, 0: 0.4}, 'logistic_regression__penalty': 'l2', 'logistic_regression__solver': 'liblinear'}\n",
      "Best parameter (CV score: 0.876):\n"
     ]
    }
   ],
   "source": [
    "gs = (\n",
    "    TuneHyperParams()\n",
    "    .full_grid_search(\n",
    "     log_and_ordinal_model_pipeline,\n",
    "     tuning_params\n",
    "    )\n",
    "    .fit_model(\n",
    "        data.TRAINING.predictors,\n",
    "        data.TRAINING.outcome\n",
    "    )\n",
    "    .get_best_scores_and_params()\n",
    ")"
   ],
   "metadata": {
    "collapsed": false
   }
  },
  {
   "cell_type": "code",
   "execution_count": 10,
   "outputs": [
    {
     "name": "stdout",
     "output_type": "stream",
     "text": [
      "{'logistic_regression__C': 3, 'logistic_regression__class_weight': {1: 0.55, 0: 0.45}, 'logistic_regression__penalty': 'l1', 'logistic_regression__solver': 'liblinear'}\n",
      "Best parameter (CV score: 0.818):\n"
     ]
    }
   ],
   "source": [
    "gs = (\n",
    "    TuneHyperParams()\n",
    "    .full_grid_search(\n",
    "     norm_and_one_hot_model_pipeline,\n",
    "     tuning_params\n",
    "    )\n",
    "    .fit_model(\n",
    "        data.TRAINING.predictors,\n",
    "        data.TRAINING.outcome\n",
    "    )\n",
    "    .get_best_scores_and_params()\n",
    ")"
   ],
   "metadata": {
    "collapsed": false
   }
  },
  {
   "cell_type": "markdown",
   "source": [
    "### TEST Score"
   ],
   "metadata": {
    "collapsed": false
   }
  },
  {
   "cell_type": "code",
   "execution_count": 16,
   "outputs": [],
   "source": [
    "final_log_model = LogisticRegression(\n",
    "    random_state=ModelConstants.RANDOM_STATE,\n",
    "    max_iter=ModelConstants.MAX_ITERATIONS * 10,\n",
    "    class_weight={1: 0.6, 0: 0.4},\n",
    "    penalty=\"l2\",\n",
    "    C=0.1,\n",
    "    solver=\"liblinear\"\n",
    ")\n",
    "\n",
    "final_norm_model = LogisticRegression(\n",
    "    random_state=ModelConstants.RANDOM_STATE,\n",
    "    max_iter=ModelConstants.MAX_ITERATIONS * 10,\n",
    "    class_weight={1: 0.55, 0: 0.45},\n",
    "    penalty=\"l1\",\n",
    "    C=3,\n",
    "    solver=\"liblinear\"\n",
    ")"
   ],
   "metadata": {
    "collapsed": false
   }
  },
  {
   "cell_type": "code",
   "execution_count": 17,
   "outputs": [],
   "source": [
    "final_log_model_pipeline = Pipeline(\n",
    "    [\n",
    "        (\"column_transformations\", log_and_ordinal_transforms),\n",
    "        (\"logistic_regression\", final_log_model)\n",
    "    ]\n",
    ")\n",
    "\n",
    "final_norm_model_pipeline = Pipeline(\n",
    "    [\n",
    "        (\"column_transformations\", log_and_ordinal_transforms),\n",
    "        (\"logistic_regression\", final_norm_model)\n",
    "    ]\n",
    ")"
   ],
   "metadata": {
    "collapsed": false
   }
  },
  {
   "cell_type": "code",
   "execution_count": 21,
   "outputs": [
    {
     "name": "stdout",
     "output_type": "stream",
     "text": [
      "fit_time: 0.06392292976379395\n",
      "score_time: 0.009336757659912109\n",
      "test_accuracy: 0.8789783277627461\n",
      "test_balanced_accuracy: 0.8789755099151814\n",
      "test_f1: 0.877598760917909\n",
      "====================================================================================================\n",
      "fit_time: 0.6096999406814575\n",
      "score_time: 0.00855720043182373\n",
      "test_accuracy: 0.8774002525922387\n",
      "test_balanced_accuracy: 0.8773973976335689\n",
      "test_f1: 0.8750072066734464\n"
     ]
    }
   ],
   "source": [
    "get_cross_validation_results(\n",
    "    final_log_model_pipeline,\n",
    "    data.TRAINING.predictors,\n",
    "    data.TRAINING.outcome\n",
    ");\n",
    "print(\"=\"*100)\n",
    "get_cross_validation_results(\n",
    "    final_norm_model_pipeline,\n",
    "    data.TRAINING.predictors,\n",
    "    data.TRAINING.outcome\n",
    ");"
   ],
   "metadata": {
    "collapsed": false
   }
  },
  {
   "cell_type": "code",
   "execution_count": 19,
   "outputs": [
    {
     "data": {
      "text/plain": "0.6614525139664804"
     },
     "execution_count": 19,
     "metadata": {},
     "output_type": "execute_result"
    }
   ],
   "source": [
    "final_log_model_pipeline.fit(\n",
    "    data.TRAINING.predictors,\n",
    "    data.TRAINING.outcome\n",
    ")\n",
    "\n",
    "predictions = final_log_model_pipeline.predict(\n",
    "    data.TESTING.predictors\n",
    ")\n",
    "\n",
    "f1_score(\n",
    "    predictions, data.TESTING.outcome\n",
    ")"
   ],
   "metadata": {
    "collapsed": false
   }
  },
  {
   "cell_type": "code",
   "execution_count": 20,
   "outputs": [
    {
     "data": {
      "text/plain": "0.6590389016018307"
     },
     "execution_count": 20,
     "metadata": {},
     "output_type": "execute_result"
    }
   ],
   "source": [
    "final_norm_model_pipeline.fit(\n",
    "    data.TRAINING.predictors,\n",
    "    data.TRAINING.outcome\n",
    ")\n",
    "\n",
    "predictions = final_norm_model_pipeline.predict(\n",
    "    data.TESTING.predictors\n",
    ")\n",
    "\n",
    "f1_score(\n",
    "    predictions, data.TESTING.outcome\n",
    ")"
   ],
   "metadata": {
    "collapsed": false
   }
  }
 ],
 "metadata": {
  "kernelspec": {
   "display_name": "machine_learning-2iLmnJu8",
   "language": "python",
   "name": "python3"
  },
  "language_info": {
   "codemirror_mode": {
    "name": "ipython",
    "version": 3
   },
   "file_extension": ".py",
   "mimetype": "text/x-python",
   "name": "python",
   "nbconvert_exporter": "python",
   "pygments_lexer": "ipython3",
   "version": "3.10.6"
  },
  "orig_nbformat": 4
 },
 "nbformat": 4,
 "nbformat_minor": 2
}
