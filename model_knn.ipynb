{
 "cells": [
  {
   "cell_type": "code",
   "execution_count": 16,
   "metadata": {
    "collapsed": true,
    "ExecuteTime": {
     "end_time": "2023-06-12T08:18:44.347280Z",
     "start_time": "2023-06-12T08:18:44.342145Z"
    }
   },
   "outputs": [],
   "source": [
    "from utils import (\n",
    "    TransactionDataset,\n",
    "    TuneHyperParams,\n",
    "    FinalModelPerformance\n",
    ")\n",
    "\n",
    "from constants import Columns, ModelConstants, ResamplingStrategy"
   ]
  },
  {
   "cell_type": "code",
   "execution_count": 23,
   "outputs": [],
   "source": [
    "import numpy as np\n",
    "\n",
    "from sklearn.neighbors import KNeighborsClassifier\n",
    "from sklearn.preprocessing import (\n",
    "    OneHotEncoder,\n",
    "    OrdinalEncoder,\n",
    "    FunctionTransformer,\n",
    "    Normalizer,\n",
    "    PowerTransformer,\n",
    "    RobustScaler\n",
    ")\n",
    "from sklearn.feature_selection import SelectKBest, mutual_info_classif\n",
    "from sklearn.compose import make_column_transformer, make_column_selector\n",
    "\n",
    "from imblearn.pipeline import Pipeline\n",
    "from imblearn.over_sampling import SMOTE, ADASYN\n",
    "from imblearn.under_sampling import TomekLinks, NearMiss\n",
    "\n",
    "from joblib import dump\n"
   ],
   "metadata": {
    "collapsed": false,
    "ExecuteTime": {
     "end_time": "2023-06-12T08:19:45.110965Z",
     "start_time": "2023-06-12T08:19:45.107306Z"
    }
   }
  },
  {
   "cell_type": "code",
   "execution_count": 18,
   "outputs": [],
   "source": [
    "data = TransactionDataset().get_training_test_split()"
   ],
   "metadata": {
    "collapsed": false,
    "ExecuteTime": {
     "end_time": "2023-06-12T08:18:48.291940Z",
     "start_time": "2023-06-12T08:18:46.335494Z"
    }
   }
  },
  {
   "cell_type": "code",
   "execution_count": 19,
   "outputs": [],
   "source": [
    "log_transform = FunctionTransformer(\n",
    "    func=np.log1p, inverse_func=np.expm1, check_inverse=False\n",
    ")\n",
    "\n",
    "order_mapping = [['0', '0.2', '0.4', '0.6', '0.8', '1'], [1, 2, 3, 4, 5, 6, 7, 8, 9, 10, 11, 12]]\n",
    "\n",
    "norm_and_one_hot_transforms = make_column_transformer(\n",
    "    (OneHotEncoder(), [Columns.CUSTOMER_TYPE]),\n",
    "    (OrdinalEncoder(categories=order_mapping), [Columns.SPECIFIC_HOLIDAY, Columns.MONTH]),\n",
    "    (\"drop\", [Columns.INFO_PAGE_TIME, Columns.PRODUCT_PAGE_TIME, Columns.GOOGLE_ANALYTICS_ER]),\n",
    "    (Normalizer(), make_column_selector(dtype_include=\"number\"))\n",
    ")\n",
    "\n",
    "log_and_ordinal_transforms = make_column_transformer(\n",
    "    (OneHotEncoder(), [Columns.CUSTOMER_TYPE]),\n",
    "    (OrdinalEncoder(categories=order_mapping), [Columns.SPECIFIC_HOLIDAY, Columns.MONTH]),\n",
    "    (\"drop\", [Columns.INFO_PAGE_TIME, Columns.PRODUCT_PAGE_TIME, Columns.GOOGLE_ANALYTICS_ER]),\n",
    "    (log_transform, make_column_selector(dtype_include=\"number\"))\n",
    ")\n",
    "\n",
    "power_transforms = make_column_transformer(\n",
    "    (OneHotEncoder(), [Columns.CUSTOMER_TYPE]),\n",
    "    (OrdinalEncoder(categories=order_mapping), [Columns.SPECIFIC_HOLIDAY, Columns.MONTH]),\n",
    "    (\"drop\", [Columns.INFO_PAGE_TIME, Columns.PRODUCT_PAGE_TIME, Columns.GOOGLE_ANALYTICS_ER]),\n",
    "    (PowerTransformer(), make_column_selector(dtype_include=\"number\"))\n",
    ")\n",
    "\n",
    "robust_transformation = make_column_transformer(\n",
    "    (OneHotEncoder(), [Columns.CUSTOMER_TYPE]),\n",
    "    (OrdinalEncoder(categories=order_mapping), [Columns.SPECIFIC_HOLIDAY, Columns.MONTH]),\n",
    "    (\"drop\", [Columns.INFO_PAGE_TIME, Columns.PRODUCT_PAGE_TIME, Columns.GOOGLE_ANALYTICS_ER]),\n",
    "    (RobustScaler(), make_column_selector(dtype_include=\"number\"))\n",
    ")"
   ],
   "metadata": {
    "collapsed": false,
    "ExecuteTime": {
     "end_time": "2023-06-12T08:18:50.964165Z",
     "start_time": "2023-06-12T08:18:50.961294Z"
    }
   }
  },
  {
   "cell_type": "code",
   "execution_count": 20,
   "outputs": [],
   "source": [
    "knn_classifier = KNeighborsClassifier(\n",
    "    n_jobs=ModelConstants.N_JOBS\n",
    ")"
   ],
   "metadata": {
    "collapsed": false,
    "ExecuteTime": {
     "end_time": "2023-06-12T08:18:52.754536Z",
     "start_time": "2023-06-12T08:18:52.746980Z"
    }
   }
  },
  {
   "cell_type": "code",
   "execution_count": 21,
   "outputs": [],
   "source": [
    "smote_sampling = SMOTE(random_state=ModelConstants.RANDOM_STATE)\n",
    "adasyn_sampling = ADASYN(random_state=ModelConstants.RANDOM_STATE)"
   ],
   "metadata": {
    "collapsed": false,
    "ExecuteTime": {
     "end_time": "2023-06-12T08:18:53.288395Z",
     "start_time": "2023-06-12T08:18:53.281107Z"
    }
   }
  },
  {
   "cell_type": "code",
   "execution_count": 22,
   "outputs": [],
   "source": [
    "near_miss_sampling = NearMiss()\n",
    "tomek_link_sampling = TomekLinks()"
   ],
   "metadata": {
    "collapsed": false,
    "ExecuteTime": {
     "end_time": "2023-06-12T08:18:54.840327Z",
     "start_time": "2023-06-12T08:18:54.832353Z"
    }
   }
  },
  {
   "cell_type": "code",
   "execution_count": 25,
   "outputs": [],
   "source": [
    "select_best_features = SelectKBest(score_func=mutual_info_classif)"
   ],
   "metadata": {
    "collapsed": false,
    "ExecuteTime": {
     "end_time": "2023-06-12T08:21:45.055050Z",
     "start_time": "2023-06-12T08:21:45.048211Z"
    }
   }
  },
  {
   "cell_type": "code",
   "execution_count": 26,
   "outputs": [],
   "source": [
    "column_transforms_only_model = Pipeline(\n",
    "    [\n",
    "        (\"column_transformation\", log_and_ordinal_transforms),\n",
    "        (\"over_sampling\", smote_sampling),\n",
    "        (\"under_sampling\", near_miss_sampling),\n",
    "        (\"feature_selection\", select_best_features),\n",
    "        (\"knn\", knn_classifier)\n",
    "    ]\n",
    ")"
   ],
   "metadata": {
    "collapsed": false,
    "ExecuteTime": {
     "end_time": "2023-06-12T08:21:47.427094Z",
     "start_time": "2023-06-12T08:21:47.421668Z"
    }
   }
  },
  {
   "cell_type": "code",
   "execution_count": 29,
   "outputs": [],
   "source": [
    "column_transformation_tune = {\n",
    "    \"column_transformation\": [\n",
    "        log_and_ordinal_transforms,\n",
    "        norm_and_one_hot_transforms,\n",
    "        power_transforms,\n",
    "        robust_transformation,\n",
    "    ]\n",
    "}\n",
    "over_sampling_tuning = {\n",
    "    \"over_sampling\": [\n",
    "        smote_sampling,\n",
    "        adasyn_sampling,\n",
    "    ]\n",
    "}\n",
    "over_sampling__sampling_strategy_tuning = {\n",
    "    \"over_sampling__sampling_strategy\": [\n",
    "        ResamplingStrategy.MINORITY_ONLY,\n",
    "        ResamplingStrategy.ALL,\n",
    "        0.2,\n",
    "        0.3,\n",
    "        0.4,\n",
    "        0.5,\n",
    "        0.6,\n",
    "        0.7\n",
    "    ],\n",
    "}\n",
    "under_sampling_tuning = {\n",
    "    \"under_sampling\": [\n",
    "        near_miss_sampling,\n",
    "        tomek_link_sampling,\n",
    "        \"passthrough\"\n",
    "    ],\n",
    "}\n",
    "knn__n_neighbors_tuning = {\n",
    "    \"knn__n_neighbors\": [5, 7, 9, 11, 13, 15, 17, 19, 21, 25]\n",
    "}\n",
    "knn__weights = {\"knn__weights\": [\"uniform\", \"distance\"],\n",
    "}\n",
    "\n",
    "knn_power = {\n",
    "    \"knn__p\": [1, 2]\n",
    "}\n",
    "\n",
    "knn_feature_selection = {\n",
    "    \"feature_selection__k\": [5, 7, 9, 10, 12, 14, 16, 18]\n",
    "}\n",
    "\n",
    "tuning_params_1 = (\n",
    "        column_transformation_tune |\n",
    "        over_sampling_tuning |\n",
    "        over_sampling__sampling_strategy_tuning |\n",
    "        under_sampling_tuning |\n",
    "        knn__n_neighbors_tuning |\n",
    "        knn__weights |\n",
    "        knn_power |\n",
    "        knn_feature_selection\n",
    ")\n",
    "\n",
    "tuning_params_2 = (\n",
    "        column_transformation_tune |\n",
    "        under_sampling_tuning |\n",
    "        knn__n_neighbors_tuning |\n",
    "        knn__weights |\n",
    "        knn_power |\n",
    "        knn_feature_selection\n",
    ")"
   ],
   "metadata": {
    "collapsed": false,
    "ExecuteTime": {
     "end_time": "2023-06-12T08:23:23.049385Z",
     "start_time": "2023-06-12T08:23:23.044266Z"
    }
   }
  },
  {
   "cell_type": "code",
   "execution_count": 30,
   "outputs": [
    {
     "name": "stdout",
     "output_type": "stream",
     "text": [
      "{   'column_transformation': ColumnTransformer(transformers=[('onehotencoder', OneHotEncoder(),\n",
      "                                 ['Customer_Type']),\n",
      "                                ('ordinalencoder',\n",
      "                                 OrdinalEncoder(categories=[['0', '0.2', '0.4',\n",
      "                                                             '0.6', '0.8',\n",
      "                                                             '1'],\n",
      "                                                            [1, 2, 3, 4, 5, 6,\n",
      "                                                             7, 8, 9, 10, 11,\n",
      "                                                             12]]),\n",
      "                                 ['SpecificHoliday', 'Month']),\n",
      "                                ('drop', 'drop',\n",
      "                                 ['Info_Page_Time', 'ProductPage_Time',\n",
      "                                  'GoogleAnalytics_ER']),\n",
      "                                ('robustscaler', RobustScaler(),\n",
      "                                 <sklearn.compose._column_transformer.make_column_selector object at 0x1535b7b20>)]),\n",
      "    'feature_selection__k': 12,\n",
      "    'knn__n_neighbors': 11,\n",
      "    'knn__p': 1,\n",
      "    'knn__weights': 'uniform',\n",
      "    'over_sampling': ADASYN(random_state=123, sampling_strategy=0.3),\n",
      "    'over_sampling__sampling_strategy': 0.3,\n",
      "    'under_sampling': TomekLinks()}\n",
      "Best parameter (CV score: 0.645):\n"
     ]
    }
   ],
   "source": [
    "best_model = (\n",
    "    TuneHyperParams()\n",
    "    .random_grid_search(\n",
    "     column_transforms_only_model,\n",
    "     [tuning_params_1, tuning_params_2]\n",
    "    )\n",
    "    .fit_model(\n",
    "        data.TRAINING.predictors,\n",
    "        data.TRAINING.outcome\n",
    "    )\n",
    "    .get_best_model()\n",
    ")"
   ],
   "metadata": {
    "collapsed": false,
    "ExecuteTime": {
     "end_time": "2023-06-12T08:23:34.676506Z",
     "start_time": "2023-06-12T08:23:23.546380Z"
    }
   }
  },
  {
   "cell_type": "code",
   "execution_count": 31,
   "outputs": [
    {
     "data": {
      "text/plain": "                             Metric for Training Set     Score\n0                                fit_time mean score  0.792414\n1                              score_time mean score  0.123304\n2                      5-fold CV F1 Score mean score  0.648334\n3                      5-fold CV Accuracy mean score  0.878328\n4             5-fold CV Balanced Accuracy mean score  0.813104\n5  5-fold CV Matthew's Correlation Coefficient me...  0.579898",
      "text/html": "<div>\n<style scoped>\n    .dataframe tbody tr th:only-of-type {\n        vertical-align: middle;\n    }\n\n    .dataframe tbody tr th {\n        vertical-align: top;\n    }\n\n    .dataframe thead th {\n        text-align: right;\n    }\n</style>\n<table border=\"1\" class=\"dataframe\">\n  <thead>\n    <tr style=\"text-align: right;\">\n      <th></th>\n      <th>Metric for Training Set</th>\n      <th>Score</th>\n    </tr>\n  </thead>\n  <tbody>\n    <tr>\n      <th>0</th>\n      <td>fit_time mean score</td>\n      <td>0.792414</td>\n    </tr>\n    <tr>\n      <th>1</th>\n      <td>score_time mean score</td>\n      <td>0.123304</td>\n    </tr>\n    <tr>\n      <th>2</th>\n      <td>5-fold CV F1 Score mean score</td>\n      <td>0.648334</td>\n    </tr>\n    <tr>\n      <th>3</th>\n      <td>5-fold CV Accuracy mean score</td>\n      <td>0.878328</td>\n    </tr>\n    <tr>\n      <th>4</th>\n      <td>5-fold CV Balanced Accuracy mean score</td>\n      <td>0.813104</td>\n    </tr>\n    <tr>\n      <th>5</th>\n      <td>5-fold CV Matthew's Correlation Coefficient me...</td>\n      <td>0.579898</td>\n    </tr>\n  </tbody>\n</table>\n</div>"
     },
     "execution_count": 31,
     "metadata": {},
     "output_type": "execute_result"
    }
   ],
   "source": [
    "final_model_knn = FinalModelPerformance(\n",
    "    model=best_model,\n",
    "    data=data\n",
    ")\n",
    "\n",
    "final_model_knn.get_cross_validation_results()"
   ],
   "metadata": {
    "collapsed": false,
    "ExecuteTime": {
     "end_time": "2023-06-12T08:23:43.789158Z",
     "start_time": "2023-06-12T08:23:39.192986Z"
    }
   }
  },
  {
   "cell_type": "code",
   "execution_count": 32,
   "outputs": [
    {
     "data": {
      "text/plain": "              Metric for Testing Set     Score\n0                           F1 Score  0.681983\n1                           Accuracy  0.892257\n2                  Balanced Accuracy  0.791804\n3  Matthew's Correlation Coefficient  0.620185",
      "text/html": "<div>\n<style scoped>\n    .dataframe tbody tr th:only-of-type {\n        vertical-align: middle;\n    }\n\n    .dataframe tbody tr th {\n        vertical-align: top;\n    }\n\n    .dataframe thead th {\n        text-align: right;\n    }\n</style>\n<table border=\"1\" class=\"dataframe\">\n  <thead>\n    <tr style=\"text-align: right;\">\n      <th></th>\n      <th>Metric for Testing Set</th>\n      <th>Score</th>\n    </tr>\n  </thead>\n  <tbody>\n    <tr>\n      <th>0</th>\n      <td>F1 Score</td>\n      <td>0.681983</td>\n    </tr>\n    <tr>\n      <th>1</th>\n      <td>Accuracy</td>\n      <td>0.892257</td>\n    </tr>\n    <tr>\n      <th>2</th>\n      <td>Balanced Accuracy</td>\n      <td>0.791804</td>\n    </tr>\n    <tr>\n      <th>3</th>\n      <td>Matthew's Correlation Coefficient</td>\n      <td>0.620185</td>\n    </tr>\n  </tbody>\n</table>\n</div>"
     },
     "execution_count": 32,
     "metadata": {},
     "output_type": "execute_result"
    }
   ],
   "source": [
    "final_model_knn.get_final_model_performance()"
   ],
   "metadata": {
    "collapsed": false,
    "ExecuteTime": {
     "end_time": "2023-06-12T08:23:45.043902Z",
     "start_time": "2023-06-12T08:23:43.791228Z"
    }
   }
  },
  {
   "cell_type": "code",
   "execution_count": 32,
   "outputs": [],
   "source": [],
   "metadata": {
    "collapsed": false,
    "ExecuteTime": {
     "end_time": "2023-06-12T08:24:00.961973Z",
     "start_time": "2023-06-12T08:24:00.954477Z"
    }
   }
  },
  {
   "cell_type": "code",
   "execution_count": 33,
   "outputs": [
    {
     "data": {
      "text/plain": "['./models_exports/knn_classifier.joblib']"
     },
     "execution_count": 33,
     "metadata": {},
     "output_type": "execute_result"
    }
   ],
   "source": [
    "dump(final_model_knn.model, \"./models_exports/knn_classifier.joblib\")"
   ],
   "metadata": {
    "collapsed": false,
    "ExecuteTime": {
     "end_time": "2023-06-12T08:24:02.101191Z",
     "start_time": "2023-06-12T08:24:02.087526Z"
    }
   }
  },
  {
   "cell_type": "code",
   "execution_count": null,
   "outputs": [],
   "source": [],
   "metadata": {
    "collapsed": false
   }
  }
 ],
 "metadata": {
  "kernelspec": {
   "display_name": "Python 3",
   "language": "python",
   "name": "python3"
  },
  "language_info": {
   "codemirror_mode": {
    "name": "ipython",
    "version": 2
   },
   "file_extension": ".py",
   "mimetype": "text/x-python",
   "name": "python",
   "nbconvert_exporter": "python",
   "pygments_lexer": "ipython2",
   "version": "2.7.6"
  }
 },
 "nbformat": 4,
 "nbformat_minor": 0
}
