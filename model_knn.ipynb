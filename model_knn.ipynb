{
 "cells": [
  {
   "cell_type": "code",
   "execution_count": 1,
   "metadata": {
    "collapsed": true
   },
   "outputs": [],
   "source": [
    "from utils import (\n",
    "    get_cross_validation_results,\n",
    "    get_final_model_performance,\n",
    "    TransactionDataset,\n",
    "    TuneHyperParams,\n",
    ")\n",
    "\n",
    "from constants import Columns, ModelConstants"
   ]
  },
  {
   "cell_type": "code",
   "execution_count": 3,
   "outputs": [],
   "source": [
    "import numpy as np\n",
    "\n",
    "from sklearn.neighbors import KNeighborsClassifier\n",
    "from sklearn.preprocessing import (\n",
    "    OneHotEncoder,\n",
    "    OrdinalEncoder,\n",
    "    FunctionTransformer,\n",
    "    Normalizer,\n",
    "    PowerTransformer,\n",
    "    RobustScaler\n",
    ")\n",
    "from sklearn.pipeline import Pipeline\n",
    "from sklearn.compose import make_column_transformer, make_column_selector\n"
   ],
   "metadata": {
    "collapsed": false
   }
  },
  {
   "cell_type": "code",
   "execution_count": 4,
   "outputs": [],
   "source": [
    "data = TransactionDataset().get_training_test_split()"
   ],
   "metadata": {
    "collapsed": false
   }
  },
  {
   "cell_type": "code",
   "execution_count": 5,
   "outputs": [],
   "source": [
    "log_transform = FunctionTransformer(\n",
    "    func=np.log1p, inverse_func=np.expm1, check_inverse=False\n",
    ")\n",
    "\n",
    "order_mapping = [['0', '0.2', '0.4', '0.6', '0.8', '1']]\n",
    "\n",
    "norm_and_one_hot_transforms = make_column_transformer(\n",
    "    (OneHotEncoder(), [Columns.CUSTOMER_TYPE]),\n",
    "    (OrdinalEncoder(categories=order_mapping), [Columns.SPECIFIC_HOLIDAY]),\n",
    "    (Normalizer(), make_column_selector(dtype_include=\"number\"))\n",
    ")\n",
    "\n",
    "log_and_ordinal_transforms = make_column_transformer(\n",
    "    (OneHotEncoder(), [Columns.CUSTOMER_TYPE]),\n",
    "    (OrdinalEncoder(categories=order_mapping), [Columns.SPECIFIC_HOLIDAY]),\n",
    "    (log_transform, make_column_selector(dtype_include=\"number\"))\n",
    ")\n",
    "\n",
    "power_transforms = make_column_transformer(\n",
    "    (OneHotEncoder(), [Columns.CUSTOMER_TYPE]),\n",
    "    (OrdinalEncoder(categories=order_mapping), [Columns.SPECIFIC_HOLIDAY]),\n",
    "    (PowerTransformer(), make_column_selector(dtype_include=\"number\"))\n",
    ")\n",
    "\n",
    "robust_transformation = make_column_transformer(\n",
    "    (OneHotEncoder(), [Columns.CUSTOMER_TYPE]),\n",
    "    (OrdinalEncoder(categories=order_mapping), [Columns.SPECIFIC_HOLIDAY]),\n",
    "    (RobustScaler(), make_column_selector(dtype_include=\"number\"))\n",
    ")"
   ],
   "metadata": {
    "collapsed": false
   }
  },
  {
   "cell_type": "code",
   "execution_count": 7,
   "outputs": [],
   "source": [
    "knn_classifier = KNeighborsClassifier(\n",
    "    n_jobs=ModelConstants.N_JOBS\n",
    ")"
   ],
   "metadata": {
    "collapsed": false
   }
  },
  {
   "cell_type": "code",
   "execution_count": 8,
   "outputs": [],
   "source": [
    "column_transforms_only_model = Pipeline(\n",
    "    [\n",
    "        (\"column_transformation\", log_and_ordinal_transforms),\n",
    "        (\"knn\", knn_classifier)\n",
    "    ]\n",
    ")"
   ],
   "metadata": {
    "collapsed": false
   }
  },
  {
   "cell_type": "code",
   "execution_count": 9,
   "outputs": [],
   "source": [
    "tuning_params = {\n",
    "    \"column_transformation\": [\n",
    "        log_and_ordinal_transforms,\n",
    "        norm_and_one_hot_transforms,\n",
    "        power_transforms,\n",
    "        robust_transformation,\n",
    "        \"passthrough\"\n",
    "    ],\n",
    "\n",
    "    \"knn__n_neighbors\": [5, 7, 9, 11, 13, 15, 17, 19, 21],\n",
    "    \"knn__weights\": [\"uniform\", \"distance\"],\n",
    "}"
   ],
   "metadata": {
    "collapsed": false
   }
  },
  {
   "cell_type": "code",
   "execution_count": 10,
   "outputs": [
    {
     "name": "stdout",
     "output_type": "stream",
     "text": [
      "{'knn__weights': 'uniform', 'knn__n_neighbors': 9, 'column_transformation': ColumnTransformer(transformers=[('onehotencoder', OneHotEncoder(),\n",
      "                                 ['Customer_Type']),\n",
      "                                ('ordinalencoder',\n",
      "                                 OrdinalEncoder(categories=[['0', '0.2', '0.4',\n",
      "                                                             '0.6', '0.8',\n",
      "                                                             '1']]),\n",
      "                                 ['SpecificHoliday']),\n",
      "                                ('functiontransformer',\n",
      "                                 FunctionTransformer(check_inverse=False,\n",
      "                                                     func=<ufunc 'log1p'>,\n",
      "                                                     inverse_func=<ufunc 'expm1'>),\n",
      "                                 <sklearn.compose._column_transformer.make_column_selector object at 0x139079570>)])}\n",
      "Best parameter (CV score: 0.593):\n"
     ]
    }
   ],
   "source": [
    "best_model = (\n",
    "    TuneHyperParams()\n",
    "    .random_grid_search(\n",
    "     column_transforms_only_model,\n",
    "     tuning_params\n",
    "    )\n",
    "    .fit_model(\n",
    "        data.TRAINING.predictors,\n",
    "        data.TRAINING.outcome\n",
    "    )\n",
    "    .get_best_model()\n",
    ")"
   ],
   "metadata": {
    "collapsed": false
   }
  },
  {
   "cell_type": "code",
   "execution_count": 11,
   "outputs": [
    {
     "data": {
      "text/plain": "                                     Test     Score\n0                                fit_time  0.019502\n1                              score_time  0.069739\n2                           test_F1 Score  0.608730\n3                           test_Accuracy  0.890415\n4                  test_Balanced Accuracy  0.750307\n5  test_Matthew's Correlation Coefficient  0.551942",
      "text/html": "<div>\n<style scoped>\n    .dataframe tbody tr th:only-of-type {\n        vertical-align: middle;\n    }\n\n    .dataframe tbody tr th {\n        vertical-align: top;\n    }\n\n    .dataframe thead th {\n        text-align: right;\n    }\n</style>\n<table border=\"1\" class=\"dataframe\">\n  <thead>\n    <tr style=\"text-align: right;\">\n      <th></th>\n      <th>Test</th>\n      <th>Score</th>\n    </tr>\n  </thead>\n  <tbody>\n    <tr>\n      <th>0</th>\n      <td>fit_time</td>\n      <td>0.019502</td>\n    </tr>\n    <tr>\n      <th>1</th>\n      <td>score_time</td>\n      <td>0.069739</td>\n    </tr>\n    <tr>\n      <th>2</th>\n      <td>test_F1 Score</td>\n      <td>0.608730</td>\n    </tr>\n    <tr>\n      <th>3</th>\n      <td>test_Accuracy</td>\n      <td>0.890415</td>\n    </tr>\n    <tr>\n      <th>4</th>\n      <td>test_Balanced Accuracy</td>\n      <td>0.750307</td>\n    </tr>\n    <tr>\n      <th>5</th>\n      <td>test_Matthew's Correlation Coefficient</td>\n      <td>0.551942</td>\n    </tr>\n  </tbody>\n</table>\n</div>"
     },
     "execution_count": 11,
     "metadata": {},
     "output_type": "execute_result"
    }
   ],
   "source": [
    "get_cross_validation_results(best_model, data.TRAINING.predictors, data.TRAINING.outcome)"
   ],
   "metadata": {
    "collapsed": false
   }
  },
  {
   "cell_type": "code",
   "execution_count": 12,
   "outputs": [
    {
     "data": {
      "text/plain": "                                Test     Score\n0                           F1 Score  0.610370\n1                           Accuracy  0.892257\n2                  Balanced Accuracy  0.810567\n3  Matthew's Correlation Coefficient  0.555619",
      "text/html": "<div>\n<style scoped>\n    .dataframe tbody tr th:only-of-type {\n        vertical-align: middle;\n    }\n\n    .dataframe tbody tr th {\n        vertical-align: top;\n    }\n\n    .dataframe thead th {\n        text-align: right;\n    }\n</style>\n<table border=\"1\" class=\"dataframe\">\n  <thead>\n    <tr style=\"text-align: right;\">\n      <th></th>\n      <th>Test</th>\n      <th>Score</th>\n    </tr>\n  </thead>\n  <tbody>\n    <tr>\n      <th>0</th>\n      <td>F1 Score</td>\n      <td>0.610370</td>\n    </tr>\n    <tr>\n      <th>1</th>\n      <td>Accuracy</td>\n      <td>0.892257</td>\n    </tr>\n    <tr>\n      <th>2</th>\n      <td>Balanced Accuracy</td>\n      <td>0.810567</td>\n    </tr>\n    <tr>\n      <th>3</th>\n      <td>Matthew's Correlation Coefficient</td>\n      <td>0.555619</td>\n    </tr>\n  </tbody>\n</table>\n</div>"
     },
     "execution_count": 12,
     "metadata": {},
     "output_type": "execute_result"
    }
   ],
   "source": [
    "get_final_model_performance(best_model, data.TRAINING, data.TESTING)"
   ],
   "metadata": {
    "collapsed": false
   }
  },
  {
   "cell_type": "code",
   "execution_count": null,
   "outputs": [],
   "source": [],
   "metadata": {
    "collapsed": false
   }
  }
 ],
 "metadata": {
  "kernelspec": {
   "display_name": "Python 3",
   "language": "python",
   "name": "python3"
  },
  "language_info": {
   "codemirror_mode": {
    "name": "ipython",
    "version": 2
   },
   "file_extension": ".py",
   "mimetype": "text/x-python",
   "name": "python",
   "nbconvert_exporter": "python",
   "pygments_lexer": "ipython2",
   "version": "2.7.6"
  }
 },
 "nbformat": 4,
 "nbformat_minor": 0
}
