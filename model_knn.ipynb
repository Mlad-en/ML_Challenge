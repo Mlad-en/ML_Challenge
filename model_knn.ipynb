{
 "cells": [
  {
   "cell_type": "code",
   "execution_count": 1,
   "metadata": {
    "collapsed": true,
    "ExecuteTime": {
     "end_time": "2023-06-06T09:24:14.402804Z",
     "start_time": "2023-06-06T09:24:13.526442Z"
    }
   },
   "outputs": [],
   "source": [
    "from utils import (\n",
    "    TransactionDataset,\n",
    "    TuneHyperParams,\n",
    "    FinalModelPerformance\n",
    ")\n",
    "\n",
    "from constants import Columns, ModelConstants, ResamplingStrategy"
   ]
  },
  {
   "cell_type": "code",
   "execution_count": 13,
   "outputs": [],
   "source": [
    "import numpy as np\n",
    "\n",
    "from sklearn.neighbors import KNeighborsClassifier\n",
    "from sklearn.preprocessing import (\n",
    "    OneHotEncoder,\n",
    "    OrdinalEncoder,\n",
    "    FunctionTransformer,\n",
    "    Normalizer,\n",
    "    PowerTransformer,\n",
    "    RobustScaler\n",
    ")\n",
    "from sklearn.compose import make_column_transformer, make_column_selector\n",
    "\n",
    "from imblearn.pipeline import Pipeline\n",
    "from imblearn.over_sampling import SMOTE, ADASYN\n",
    "from imblearn.under_sampling import TomekLinks, NearMiss\n",
    "\n",
    "from joblib import dump\n"
   ],
   "metadata": {
    "collapsed": false,
    "ExecuteTime": {
     "end_time": "2023-06-06T09:51:45.263791Z",
     "start_time": "2023-06-06T09:51:45.260925Z"
    }
   }
  },
  {
   "cell_type": "code",
   "execution_count": 3,
   "outputs": [],
   "source": [
    "data = TransactionDataset().get_training_test_split()"
   ],
   "metadata": {
    "collapsed": false,
    "ExecuteTime": {
     "end_time": "2023-06-06T09:24:15.519Z",
     "start_time": "2023-06-06T09:24:14.575501Z"
    }
   }
  },
  {
   "cell_type": "code",
   "execution_count": 4,
   "outputs": [],
   "source": [
    "log_transform = FunctionTransformer(\n",
    "    func=np.log1p, inverse_func=np.expm1, check_inverse=False\n",
    ")\n",
    "\n",
    "order_mapping = [['0', '0.2', '0.4', '0.6', '0.8', '1']]\n",
    "\n",
    "norm_and_one_hot_transforms = make_column_transformer(\n",
    "    (OneHotEncoder(), [Columns.CUSTOMER_TYPE]),\n",
    "    (OrdinalEncoder(categories=order_mapping), [Columns.SPECIFIC_HOLIDAY]),\n",
    "    (Normalizer(), make_column_selector(dtype_include=\"number\"))\n",
    ")\n",
    "\n",
    "log_and_ordinal_transforms = make_column_transformer(\n",
    "    (OneHotEncoder(), [Columns.CUSTOMER_TYPE]),\n",
    "    (OrdinalEncoder(categories=order_mapping), [Columns.SPECIFIC_HOLIDAY]),\n",
    "    (log_transform, make_column_selector(dtype_include=\"number\"))\n",
    ")\n",
    "\n",
    "power_transforms = make_column_transformer(\n",
    "    (OneHotEncoder(), [Columns.CUSTOMER_TYPE]),\n",
    "    (OrdinalEncoder(categories=order_mapping), [Columns.SPECIFIC_HOLIDAY]),\n",
    "    (PowerTransformer(), make_column_selector(dtype_include=\"number\"))\n",
    ")\n",
    "\n",
    "robust_transformation = make_column_transformer(\n",
    "    (OneHotEncoder(), [Columns.CUSTOMER_TYPE]),\n",
    "    (OrdinalEncoder(categories=order_mapping), [Columns.SPECIFIC_HOLIDAY]),\n",
    "    (RobustScaler(), make_column_selector(dtype_include=\"number\"))\n",
    ")"
   ],
   "metadata": {
    "collapsed": false,
    "ExecuteTime": {
     "end_time": "2023-06-06T09:24:15.526303Z",
     "start_time": "2023-06-06T09:24:15.524240Z"
    }
   }
  },
  {
   "cell_type": "code",
   "execution_count": 5,
   "outputs": [],
   "source": [
    "knn_classifier = KNeighborsClassifier(\n",
    "    n_jobs=ModelConstants.N_JOBS\n",
    ")"
   ],
   "metadata": {
    "collapsed": false,
    "ExecuteTime": {
     "end_time": "2023-06-06T09:24:15.532998Z",
     "start_time": "2023-06-06T09:24:15.529865Z"
    }
   }
  },
  {
   "cell_type": "code",
   "execution_count": 6,
   "outputs": [],
   "source": [
    "smote_sampling = SMOTE(random_state=ModelConstants.RANDOM_STATE)\n",
    "adasyn_sampling = ADASYN(random_state=ModelConstants.RANDOM_STATE)"
   ],
   "metadata": {
    "collapsed": false,
    "ExecuteTime": {
     "end_time": "2023-06-06T09:24:15.538119Z",
     "start_time": "2023-06-06T09:24:15.535522Z"
    }
   }
  },
  {
   "cell_type": "code",
   "execution_count": 7,
   "outputs": [],
   "source": [
    "near_miss_sampling = NearMiss()\n",
    "tomek_link_sampling = TomekLinks()"
   ],
   "metadata": {
    "collapsed": false,
    "ExecuteTime": {
     "end_time": "2023-06-06T09:24:15.544867Z",
     "start_time": "2023-06-06T09:24:15.539809Z"
    }
   }
  },
  {
   "cell_type": "code",
   "execution_count": 8,
   "outputs": [],
   "source": [
    "column_transforms_only_model = Pipeline(\n",
    "    [\n",
    "        (\"column_transformation\", log_and_ordinal_transforms),\n",
    "        (\"over_sampling\", smote_sampling),\n",
    "        (\"under_sampling\", near_miss_sampling),\n",
    "        (\"knn\", knn_classifier)\n",
    "    ]\n",
    ")"
   ],
   "metadata": {
    "collapsed": false,
    "ExecuteTime": {
     "end_time": "2023-06-06T09:24:15.551048Z",
     "start_time": "2023-06-06T09:24:15.544378Z"
    }
   }
  },
  {
   "cell_type": "code",
   "execution_count": 9,
   "outputs": [],
   "source": [
    "column_transformation_tune = {\n",
    "    \"column_transformation\": [\n",
    "        log_and_ordinal_transforms,\n",
    "        norm_and_one_hot_transforms,\n",
    "        power_transforms,\n",
    "        robust_transformation,\n",
    "    ]\n",
    "}\n",
    "over_sampling_tuning = {\n",
    "    \"over_sampling\": [\n",
    "        smote_sampling,\n",
    "        adasyn_sampling,\n",
    "    ]\n",
    "}\n",
    "over_sampling__sampling_strategy_tuning = {\n",
    "    \"over_sampling__sampling_strategy\": [\n",
    "        ResamplingStrategy.MINORITY_ONLY,\n",
    "        ResamplingStrategy.ALL,\n",
    "        0.2,\n",
    "        0.3,\n",
    "        0.4,\n",
    "        0.5,\n",
    "        0.6,\n",
    "        0.7\n",
    "    ],\n",
    "}\n",
    "under_sampling_tuning = {\n",
    "    \"under_sampling\": [\n",
    "        near_miss_sampling,\n",
    "        tomek_link_sampling,\n",
    "        \"passthrough\"\n",
    "    ],\n",
    "}\n",
    "knn__n_neighbors_tuning = {\n",
    "    \"knn__n_neighbors\": [5, 7, 9, 11, 13, 15, 17, 19, 21, 25]\n",
    "}\n",
    "knn__weights = {\"knn__weights\": [\"uniform\", \"distance\"],\n",
    "}\n",
    "\n",
    "tuning_params_1 = (\n",
    "        column_transformation_tune |\n",
    "        over_sampling_tuning |\n",
    "        over_sampling__sampling_strategy_tuning |\n",
    "        under_sampling_tuning |\n",
    "        knn__n_neighbors_tuning |\n",
    "        knn__weights\n",
    ")\n",
    "\n",
    "tuning_params_2 = (\n",
    "        column_transformation_tune |\n",
    "        under_sampling_tuning |\n",
    "        knn__n_neighbors_tuning |\n",
    "        knn__weights\n",
    ")"
   ],
   "metadata": {
    "collapsed": false,
    "ExecuteTime": {
     "end_time": "2023-06-06T09:24:15.555577Z",
     "start_time": "2023-06-06T09:24:15.551895Z"
    }
   }
  },
  {
   "cell_type": "code",
   "execution_count": 10,
   "outputs": [
    {
     "name": "stdout",
     "output_type": "stream",
     "text": [
      "{   'column_transformation': ColumnTransformer(transformers=[('onehotencoder', OneHotEncoder(),\n",
      "                                 ['Customer_Type']),\n",
      "                                ('ordinalencoder',\n",
      "                                 OrdinalEncoder(categories=[['0', '0.2', '0.4',\n",
      "                                                             '0.6', '0.8',\n",
      "                                                             '1']]),\n",
      "                                 ['SpecificHoliday']),\n",
      "                                ('robustscaler', RobustScaler(),\n",
      "                                 <sklearn.compose._column_transformer.make_column_selector object at 0x13dc9b4c0>)]),\n",
      "    'knn__n_neighbors': 21,\n",
      "    'knn__weights': 'uniform',\n",
      "    'over_sampling': SMOTE(random_state=123, sampling_strategy=0.6),\n",
      "    'over_sampling__sampling_strategy': 0.6,\n",
      "    'under_sampling': TomekLinks()}\n",
      "Best parameter (CV score: 0.612):\n"
     ]
    }
   ],
   "source": [
    "best_model = (\n",
    "    TuneHyperParams()\n",
    "    .random_grid_search(\n",
    "     column_transforms_only_model,\n",
    "     [tuning_params_1, tuning_params_2]\n",
    "    )\n",
    "    .fit_model(\n",
    "        data.TRAINING.predictors,\n",
    "        data.TRAINING.outcome\n",
    "    )\n",
    "    .get_best_model()\n",
    ")"
   ],
   "metadata": {
    "collapsed": false,
    "ExecuteTime": {
     "end_time": "2023-06-06T09:24:20.815046Z",
     "start_time": "2023-06-06T09:24:15.556611Z"
    }
   }
  },
  {
   "cell_type": "code",
   "execution_count": 11,
   "outputs": [
    {
     "data": {
      "text/plain": "                             Metric for Training Set     Score\n0                                fit_time mean score  0.150899\n1                              score_time mean score  0.113099\n2                      5-fold CV F1 Score mean score  0.611603\n3                      5-fold CV Accuracy mean score  0.851189\n4             5-fold CV Balanced Accuracy mean score  0.809837\n5  5-fold CV Matthew's Correlation Coefficient me...  0.537465",
      "text/html": "<div>\n<style scoped>\n    .dataframe tbody tr th:only-of-type {\n        vertical-align: middle;\n    }\n\n    .dataframe tbody tr th {\n        vertical-align: top;\n    }\n\n    .dataframe thead th {\n        text-align: right;\n    }\n</style>\n<table border=\"1\" class=\"dataframe\">\n  <thead>\n    <tr style=\"text-align: right;\">\n      <th></th>\n      <th>Metric for Training Set</th>\n      <th>Score</th>\n    </tr>\n  </thead>\n  <tbody>\n    <tr>\n      <th>0</th>\n      <td>fit_time mean score</td>\n      <td>0.150899</td>\n    </tr>\n    <tr>\n      <th>1</th>\n      <td>score_time mean score</td>\n      <td>0.113099</td>\n    </tr>\n    <tr>\n      <th>2</th>\n      <td>5-fold CV F1 Score mean score</td>\n      <td>0.611603</td>\n    </tr>\n    <tr>\n      <th>3</th>\n      <td>5-fold CV Accuracy mean score</td>\n      <td>0.851189</td>\n    </tr>\n    <tr>\n      <th>4</th>\n      <td>5-fold CV Balanced Accuracy mean score</td>\n      <td>0.809837</td>\n    </tr>\n    <tr>\n      <th>5</th>\n      <td>5-fold CV Matthew's Correlation Coefficient me...</td>\n      <td>0.537465</td>\n    </tr>\n  </tbody>\n</table>\n</div>"
     },
     "execution_count": 11,
     "metadata": {},
     "output_type": "execute_result"
    }
   ],
   "source": [
    "final_model_knn = FinalModelPerformance(\n",
    "    model=best_model,\n",
    "    data=data\n",
    ")\n",
    "\n",
    "final_model_knn.get_cross_validation_results()"
   ],
   "metadata": {
    "collapsed": false,
    "ExecuteTime": {
     "end_time": "2023-06-06T09:24:22.161190Z",
     "start_time": "2023-06-06T09:24:20.817718Z"
    }
   }
  },
  {
   "cell_type": "code",
   "execution_count": 12,
   "outputs": [
    {
     "data": {
      "text/plain": "              Metric for Testing Set     Score\n0                           F1 Score  0.609626\n1                           Accuracy  0.850471\n2                  Balanced Accuracy  0.731997\n3  Matthew's Correlation Coefficient  0.534584",
      "text/html": "<div>\n<style scoped>\n    .dataframe tbody tr th:only-of-type {\n        vertical-align: middle;\n    }\n\n    .dataframe tbody tr th {\n        vertical-align: top;\n    }\n\n    .dataframe thead th {\n        text-align: right;\n    }\n</style>\n<table border=\"1\" class=\"dataframe\">\n  <thead>\n    <tr style=\"text-align: right;\">\n      <th></th>\n      <th>Metric for Testing Set</th>\n      <th>Score</th>\n    </tr>\n  </thead>\n  <tbody>\n    <tr>\n      <th>0</th>\n      <td>F1 Score</td>\n      <td>0.609626</td>\n    </tr>\n    <tr>\n      <th>1</th>\n      <td>Accuracy</td>\n      <td>0.850471</td>\n    </tr>\n    <tr>\n      <th>2</th>\n      <td>Balanced Accuracy</td>\n      <td>0.731997</td>\n    </tr>\n    <tr>\n      <th>3</th>\n      <td>Matthew's Correlation Coefficient</td>\n      <td>0.534584</td>\n    </tr>\n  </tbody>\n</table>\n</div>"
     },
     "execution_count": 12,
     "metadata": {},
     "output_type": "execute_result"
    }
   ],
   "source": [
    "final_model_knn.get_final_model_performance()"
   ],
   "metadata": {
    "collapsed": false,
    "ExecuteTime": {
     "end_time": "2023-06-06T09:24:22.567974Z",
     "start_time": "2023-06-06T09:24:22.166964Z"
    }
   }
  },
  {
   "cell_type": "code",
   "execution_count": 12,
   "outputs": [],
   "source": [],
   "metadata": {
    "collapsed": false,
    "ExecuteTime": {
     "end_time": "2023-06-06T09:24:22.573235Z",
     "start_time": "2023-06-06T09:24:22.569814Z"
    }
   }
  },
  {
   "cell_type": "code",
   "execution_count": 14,
   "outputs": [
    {
     "data": {
      "text/plain": "['./models_exports/knn_classifier.joblib']"
     },
     "execution_count": 14,
     "metadata": {},
     "output_type": "execute_result"
    }
   ],
   "source": [
    "dump(final_model_knn.model, \"./models_exports/knn_classifier.joblib\")"
   ],
   "metadata": {
    "collapsed": false,
    "ExecuteTime": {
     "end_time": "2023-06-06T09:52:40.237598Z",
     "start_time": "2023-06-06T09:52:40.217545Z"
    }
   }
  },
  {
   "cell_type": "code",
   "execution_count": null,
   "outputs": [],
   "source": [],
   "metadata": {
    "collapsed": false
   }
  }
 ],
 "metadata": {
  "kernelspec": {
   "display_name": "Python 3",
   "language": "python",
   "name": "python3"
  },
  "language_info": {
   "codemirror_mode": {
    "name": "ipython",
    "version": 2
   },
   "file_extension": ".py",
   "mimetype": "text/x-python",
   "name": "python",
   "nbconvert_exporter": "python",
   "pygments_lexer": "ipython2",
   "version": "2.7.6"
  }
 },
 "nbformat": 4,
 "nbformat_minor": 0
}
