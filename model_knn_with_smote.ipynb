{
 "cells": [
  {
   "cell_type": "code",
   "execution_count": 13,
   "metadata": {
    "collapsed": true
   },
   "outputs": [],
   "source": [
    "from utils import (\n",
    "    get_cross_validation_results,\n",
    "    get_final_model_performance,\n",
    "    TransactionDataset,\n",
    "    TuneHyperParams,\n",
    ")\n",
    "\n",
    "from constants import Columns, ModelConstants, ResamplingStrategy"
   ]
  },
  {
   "cell_type": "code",
   "execution_count": 14,
   "outputs": [],
   "source": [
    "import numpy as np\n",
    "\n",
    "from sklearn.neighbors import KNeighborsClassifier\n",
    "from sklearn.preprocessing import (\n",
    "    OneHotEncoder,\n",
    "    OrdinalEncoder,\n",
    "    FunctionTransformer,\n",
    "    Normalizer,\n",
    "    PowerTransformer,\n",
    "    RobustScaler\n",
    ")\n",
    "from sklearn.compose import make_column_transformer, make_column_selector\n",
    "\n",
    "from imblearn.pipeline import Pipeline\n",
    "from imblearn.over_sampling import SMOTE, ADASYN\n"
   ],
   "metadata": {
    "collapsed": false
   }
  },
  {
   "cell_type": "code",
   "execution_count": 15,
   "outputs": [],
   "source": [
    "data = TransactionDataset().get_training_test_split()"
   ],
   "metadata": {
    "collapsed": false
   }
  },
  {
   "cell_type": "code",
   "execution_count": 16,
   "outputs": [],
   "source": [
    "log_transform = FunctionTransformer(\n",
    "    func=np.log1p, inverse_func=np.expm1, check_inverse=False\n",
    ")\n",
    "\n",
    "order_mapping = [['0', '0.2', '0.4', '0.6', '0.8', '1']]\n",
    "\n",
    "norm_and_one_hot_transforms = make_column_transformer(\n",
    "    (OneHotEncoder(), [Columns.CUSTOMER_TYPE]),\n",
    "    (OrdinalEncoder(categories=order_mapping), [Columns.SPECIFIC_HOLIDAY]),\n",
    "    (Normalizer(), make_column_selector(dtype_include=\"number\"))\n",
    ")\n",
    "\n",
    "log_and_ordinal_transforms = make_column_transformer(\n",
    "    (OneHotEncoder(), [Columns.CUSTOMER_TYPE]),\n",
    "    (OrdinalEncoder(categories=order_mapping), [Columns.SPECIFIC_HOLIDAY]),\n",
    "    (log_transform, make_column_selector(dtype_include=\"number\"))\n",
    ")\n",
    "\n",
    "power_transforms = make_column_transformer(\n",
    "    (OneHotEncoder(), [Columns.CUSTOMER_TYPE]),\n",
    "    (OrdinalEncoder(categories=order_mapping), [Columns.SPECIFIC_HOLIDAY]),\n",
    "    (PowerTransformer(), make_column_selector(dtype_include=\"number\"))\n",
    ")\n",
    "\n",
    "robust_transformation = make_column_transformer(\n",
    "    (OneHotEncoder(), [Columns.CUSTOMER_TYPE]),\n",
    "    (OrdinalEncoder(categories=order_mapping), [Columns.SPECIFIC_HOLIDAY]),\n",
    "    (RobustScaler(), make_column_selector(dtype_include=\"number\"))\n",
    ")"
   ],
   "metadata": {
    "collapsed": false
   }
  },
  {
   "cell_type": "code",
   "execution_count": 17,
   "outputs": [],
   "source": [
    "knn_classifier = KNeighborsClassifier(\n",
    "    n_jobs=ModelConstants.N_JOBS\n",
    ")"
   ],
   "metadata": {
    "collapsed": false
   }
  },
  {
   "cell_type": "code",
   "execution_count": 18,
   "outputs": [],
   "source": [
    "smote_sampling = SMOTE(random_state=ModelConstants.RANDOM_STATE)\n",
    "adasyn_sampling = ADASYN(random_state=ModelConstants.RANDOM_STATE)"
   ],
   "metadata": {
    "collapsed": false
   }
  },
  {
   "cell_type": "code",
   "execution_count": 19,
   "outputs": [],
   "source": [
    "column_transforms_only_model = Pipeline(\n",
    "    [\n",
    "        (\"column_transformation\", log_and_ordinal_transforms),\n",
    "        (\"sampling\", smote_sampling),\n",
    "        (\"knn\", knn_classifier)\n",
    "    ]\n",
    ")"
   ],
   "metadata": {
    "collapsed": false
   }
  },
  {
   "cell_type": "code",
   "execution_count": 20,
   "outputs": [],
   "source": [
    "tuning_params = {\n",
    "    \"column_transformation\": [\n",
    "        log_and_ordinal_transforms,\n",
    "        norm_and_one_hot_transforms,\n",
    "        power_transforms,\n",
    "        robust_transformation,\n",
    "        \"passthrough\"\n",
    "    ],\n",
    "\n",
    "    \"sampling\": [\n",
    "        smote_sampling,\n",
    "        adasyn_sampling,\n",
    "    ],\n",
    "    \"sampling__sampling_strategy\": [\n",
    "        ResamplingStrategy.MINORITY_ONLY,\n",
    "        ResamplingStrategy.ALL,\n",
    "        0.2,\n",
    "        0.3,\n",
    "        0.4,\n",
    "        0.5,\n",
    "        0.6,\n",
    "        0.7\n",
    "    ],\n",
    "\n",
    "    \"knn__n_neighbors\": [5, 7, 9, 11, 13, 15, 17, 19, 21, 25],\n",
    "    \"knn__weights\": [\"uniform\", \"distance\"],\n",
    "}"
   ],
   "metadata": {
    "collapsed": false
   }
  },
  {
   "cell_type": "code",
   "execution_count": 21,
   "outputs": [
    {
     "name": "stdout",
     "output_type": "stream",
     "text": [
      "{'sampling__sampling_strategy': 0.3, 'sampling': ADASYN(random_state=123, sampling_strategy=0.3), 'knn__weights': 'distance', 'knn__n_neighbors': 15, 'column_transformation': ColumnTransformer(transformers=[('onehotencoder', OneHotEncoder(),\n",
      "                                 ['Customer_Type']),\n",
      "                                ('ordinalencoder',\n",
      "                                 OrdinalEncoder(categories=[['0', '0.2', '0.4',\n",
      "                                                             '0.6', '0.8',\n",
      "                                                             '1']]),\n",
      "                                 ['SpecificHoliday']),\n",
      "                                ('robustscaler', RobustScaler(),\n",
      "                                 <sklearn.compose._column_transformer.make_column_selector object at 0x15caabf10>)])}\n",
      "Best parameter (CV score: 0.625):\n"
     ]
    }
   ],
   "source": [
    "best_model = (\n",
    "    TuneHyperParams()\n",
    "    .random_grid_search(\n",
    "     column_transforms_only_model,\n",
    "     tuning_params\n",
    "    )\n",
    "    .fit_model(\n",
    "        data.TRAINING.predictors,\n",
    "        data.TRAINING.outcome\n",
    "    )\n",
    "    .get_best_model()\n",
    ")"
   ],
   "metadata": {
    "collapsed": false
   }
  },
  {
   "cell_type": "code",
   "execution_count": 22,
   "outputs": [
    {
     "data": {
      "text/plain": "                             Metric for Training Set     Score\n0                                 fit_timemean score  0.055133\n1                               score_timemean score  0.045694\n2                       5-fold CV F1 Scoremean score  0.625417\n3                       5-fold CV Accuracymean score  0.875564\n4              5-fold CV Balanced Accuracymean score  0.789849\n5  5-fold CV Matthew's Correlation Coefficientmea...  0.552930",
      "text/html": "<div>\n<style scoped>\n    .dataframe tbody tr th:only-of-type {\n        vertical-align: middle;\n    }\n\n    .dataframe tbody tr th {\n        vertical-align: top;\n    }\n\n    .dataframe thead th {\n        text-align: right;\n    }\n</style>\n<table border=\"1\" class=\"dataframe\">\n  <thead>\n    <tr style=\"text-align: right;\">\n      <th></th>\n      <th>Metric for Training Set</th>\n      <th>Score</th>\n    </tr>\n  </thead>\n  <tbody>\n    <tr>\n      <th>0</th>\n      <td>fit_timemean score</td>\n      <td>0.055133</td>\n    </tr>\n    <tr>\n      <th>1</th>\n      <td>score_timemean score</td>\n      <td>0.045694</td>\n    </tr>\n    <tr>\n      <th>2</th>\n      <td>5-fold CV F1 Scoremean score</td>\n      <td>0.625417</td>\n    </tr>\n    <tr>\n      <th>3</th>\n      <td>5-fold CV Accuracymean score</td>\n      <td>0.875564</td>\n    </tr>\n    <tr>\n      <th>4</th>\n      <td>5-fold CV Balanced Accuracymean score</td>\n      <td>0.789849</td>\n    </tr>\n    <tr>\n      <th>5</th>\n      <td>5-fold CV Matthew's Correlation Coefficientmea...</td>\n      <td>0.552930</td>\n    </tr>\n  </tbody>\n</table>\n</div>"
     },
     "execution_count": 22,
     "metadata": {},
     "output_type": "execute_result"
    }
   ],
   "source": [
    "get_cross_validation_results(best_model, data.TRAINING.predictors, data.TRAINING.outcome)"
   ],
   "metadata": {
    "collapsed": false
   }
  },
  {
   "cell_type": "code",
   "execution_count": 23,
   "outputs": [
    {
     "data": {
      "text/plain": "              Metric for Testing Set     Score\n0                           F1 Score  0.621656\n1                           Accuracy  0.878329\n2                  Balanced Accuracy  0.768873\n3  Matthew's Correlation Coefficient  0.549505",
      "text/html": "<div>\n<style scoped>\n    .dataframe tbody tr th:only-of-type {\n        vertical-align: middle;\n    }\n\n    .dataframe tbody tr th {\n        vertical-align: top;\n    }\n\n    .dataframe thead th {\n        text-align: right;\n    }\n</style>\n<table border=\"1\" class=\"dataframe\">\n  <thead>\n    <tr style=\"text-align: right;\">\n      <th></th>\n      <th>Metric for Testing Set</th>\n      <th>Score</th>\n    </tr>\n  </thead>\n  <tbody>\n    <tr>\n      <th>0</th>\n      <td>F1 Score</td>\n      <td>0.621656</td>\n    </tr>\n    <tr>\n      <th>1</th>\n      <td>Accuracy</td>\n      <td>0.878329</td>\n    </tr>\n    <tr>\n      <th>2</th>\n      <td>Balanced Accuracy</td>\n      <td>0.768873</td>\n    </tr>\n    <tr>\n      <th>3</th>\n      <td>Matthew's Correlation Coefficient</td>\n      <td>0.549505</td>\n    </tr>\n  </tbody>\n</table>\n</div>"
     },
     "execution_count": 23,
     "metadata": {},
     "output_type": "execute_result"
    }
   ],
   "source": [
    "get_final_model_performance(best_model, data.TRAINING, data.TESTING)"
   ],
   "metadata": {
    "collapsed": false
   }
  },
  {
   "cell_type": "code",
   "execution_count": 23,
   "outputs": [],
   "source": [],
   "metadata": {
    "collapsed": false
   }
  }
 ],
 "metadata": {
  "kernelspec": {
   "display_name": "Python 3",
   "language": "python",
   "name": "python3"
  },
  "language_info": {
   "codemirror_mode": {
    "name": "ipython",
    "version": 2
   },
   "file_extension": ".py",
   "mimetype": "text/x-python",
   "name": "python",
   "nbconvert_exporter": "python",
   "pygments_lexer": "ipython2",
   "version": "2.7.6"
  }
 },
 "nbformat": 4,
 "nbformat_minor": 0
}
