{
 "cells": [
  {
   "cell_type": "code",
   "execution_count": 1,
   "metadata": {
    "collapsed": true
   },
   "outputs": [],
   "source": [
    "from utils import (\n",
    "    get_cross_validation_results,\n",
    "    get_final_model_performance,\n",
    "    TransactionDataset,\n",
    "    TuneHyperParams,\n",
    ")\n",
    "\n",
    "from constants import Columns, ModelConstants, ResamplingStrategy"
   ]
  },
  {
   "cell_type": "code",
   "execution_count": 2,
   "outputs": [],
   "source": [
    "import numpy as np\n",
    "\n",
    "from sklearn.neighbors import KNeighborsClassifier\n",
    "from sklearn.preprocessing import (\n",
    "    OneHotEncoder,\n",
    "    OrdinalEncoder,\n",
    "    FunctionTransformer,\n",
    "    Normalizer,\n",
    "    PowerTransformer,\n",
    "    RobustScaler\n",
    ")\n",
    "from sklearn.compose import make_column_transformer, make_column_selector\n",
    "\n",
    "from imblearn.pipeline import Pipeline\n",
    "from imblearn.over_sampling import SMOTE, ADASYN\n"
   ],
   "metadata": {
    "collapsed": false
   }
  },
  {
   "cell_type": "code",
   "execution_count": 3,
   "outputs": [],
   "source": [
    "data = TransactionDataset().get_training_test_split()"
   ],
   "metadata": {
    "collapsed": false
   }
  },
  {
   "cell_type": "code",
   "execution_count": 4,
   "outputs": [],
   "source": [
    "log_transform = FunctionTransformer(\n",
    "    func=np.log1p, inverse_func=np.expm1, check_inverse=False\n",
    ")\n",
    "\n",
    "order_mapping = [['0', '0.2', '0.4', '0.6', '0.8', '1']]\n",
    "\n",
    "norm_and_one_hot_transforms = make_column_transformer(\n",
    "    (OneHotEncoder(), [Columns.CUSTOMER_TYPE]),\n",
    "    (OrdinalEncoder(categories=order_mapping), [Columns.SPECIFIC_HOLIDAY]),\n",
    "    (Normalizer(), make_column_selector(dtype_include=\"number\"))\n",
    ")\n",
    "\n",
    "log_and_ordinal_transforms = make_column_transformer(\n",
    "    (OneHotEncoder(), [Columns.CUSTOMER_TYPE]),\n",
    "    (OrdinalEncoder(categories=order_mapping), [Columns.SPECIFIC_HOLIDAY]),\n",
    "    (log_transform, make_column_selector(dtype_include=\"number\"))\n",
    ")\n",
    "\n",
    "power_transforms = make_column_transformer(\n",
    "    (OneHotEncoder(), [Columns.CUSTOMER_TYPE]),\n",
    "    (OrdinalEncoder(categories=order_mapping), [Columns.SPECIFIC_HOLIDAY]),\n",
    "    (PowerTransformer(), make_column_selector(dtype_include=\"number\"))\n",
    ")\n",
    "\n",
    "robust_transformation = make_column_transformer(\n",
    "    (OneHotEncoder(), [Columns.CUSTOMER_TYPE]),\n",
    "    (OrdinalEncoder(categories=order_mapping), [Columns.SPECIFIC_HOLIDAY]),\n",
    "    (RobustScaler(), make_column_selector(dtype_include=\"number\"))\n",
    ")"
   ],
   "metadata": {
    "collapsed": false
   }
  },
  {
   "cell_type": "code",
   "execution_count": 5,
   "outputs": [],
   "source": [
    "knn_classifier = KNeighborsClassifier(\n",
    "    n_jobs=ModelConstants.N_JOBS\n",
    ")"
   ],
   "metadata": {
    "collapsed": false
   }
  },
  {
   "cell_type": "code",
   "execution_count": 6,
   "outputs": [],
   "source": [
    "smote_sampling = SMOTE(random_state=ModelConstants.RANDOM_STATE)\n",
    "adasyn_sampling = ADASYN(random_state=ModelConstants.RANDOM_STATE)"
   ],
   "metadata": {
    "collapsed": false
   }
  },
  {
   "cell_type": "code",
   "execution_count": 7,
   "outputs": [],
   "source": [
    "column_transforms_only_model = Pipeline(\n",
    "    [\n",
    "        (\"column_transformation\", log_and_ordinal_transforms),\n",
    "        (\"sampling\", smote_sampling),\n",
    "        (\"knn\", knn_classifier)\n",
    "    ]\n",
    ")"
   ],
   "metadata": {
    "collapsed": false
   }
  },
  {
   "cell_type": "code",
   "execution_count": 8,
   "outputs": [],
   "source": [
    "tuning_params = {\n",
    "    \"column_transformation\": [\n",
    "        log_and_ordinal_transforms,\n",
    "        norm_and_one_hot_transforms,\n",
    "        power_transforms,\n",
    "        robust_transformation,\n",
    "        \"passthrough\"\n",
    "    ],\n",
    "\n",
    "    \"sampling\": [\n",
    "        smote_sampling,\n",
    "        adasyn_sampling,\n",
    "    ],\n",
    "    \"sampling__sampling_strategy\": [\n",
    "        ResamplingStrategy.MINORITY_ONLY,\n",
    "        ResamplingStrategy.ALL,\n",
    "        0.2,\n",
    "        0.3,\n",
    "        0.4,\n",
    "        0.5,\n",
    "        0.6,\n",
    "        0.7\n",
    "    ],\n",
    "\n",
    "    \"knn__n_neighbors\": [5, 7, 9, 11, 13, 15, 17, 19, 21, 25],\n",
    "    \"knn__weights\": [\"uniform\", \"distance\"],\n",
    "}"
   ],
   "metadata": {
    "collapsed": false
   }
  },
  {
   "cell_type": "code",
   "execution_count": null,
   "outputs": [],
   "source": [
    "best_model = (\n",
    "    TuneHyperParams()\n",
    "    .random_grid_search(\n",
    "     column_transforms_only_model,\n",
    "     tuning_params\n",
    "    )\n",
    "    .fit_model(\n",
    "        data.TRAINING.predictors,\n",
    "        data.TRAINING.outcome\n",
    "    )\n",
    "    .get_best_model()\n",
    ")"
   ],
   "metadata": {
    "collapsed": false,
    "pycharm": {
     "is_executing": true
    }
   }
  },
  {
   "cell_type": "code",
   "execution_count": null,
   "outputs": [],
   "source": [
    "get_cross_validation_results(best_model, data.TRAINING.predictors, data.TRAINING.outcome)"
   ],
   "metadata": {
    "collapsed": false,
    "pycharm": {
     "is_executing": true
    }
   }
  },
  {
   "cell_type": "code",
   "execution_count": null,
   "outputs": [],
   "source": [
    "get_final_model_performance(best_model, data.TRAINING, data.TESTING)"
   ],
   "metadata": {
    "collapsed": false,
    "pycharm": {
     "is_executing": true
    }
   }
  },
  {
   "cell_type": "code",
   "execution_count": null,
   "outputs": [],
   "source": [],
   "metadata": {
    "collapsed": false
   }
  }
 ],
 "metadata": {
  "kernelspec": {
   "display_name": "Python 3",
   "language": "python",
   "name": "python3"
  },
  "language_info": {
   "codemirror_mode": {
    "name": "ipython",
    "version": 2
   },
   "file_extension": ".py",
   "mimetype": "text/x-python",
   "name": "python",
   "nbconvert_exporter": "python",
   "pygments_lexer": "ipython2",
   "version": "2.7.6"
  }
 },
 "nbformat": 4,
 "nbformat_minor": 0
}
